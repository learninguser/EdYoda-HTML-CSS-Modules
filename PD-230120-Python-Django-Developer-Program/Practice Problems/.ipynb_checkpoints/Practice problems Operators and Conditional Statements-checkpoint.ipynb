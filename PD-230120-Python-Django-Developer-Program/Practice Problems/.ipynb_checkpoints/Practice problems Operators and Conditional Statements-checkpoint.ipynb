{
 "cells": [
  {
   "cell_type": "markdown",
   "metadata": {},
   "source": [
    "## Practice Problems for Operators & Conditional statements\n",
    "<hr>"
   ]
  },
  {
   "cell_type": "markdown",
   "metadata": {},
   "source": [
    "    1. Take values of length and breadth of a rectangle from user and check if it is square or not. Return area.\n"
   ]
  },
  {
   "cell_type": "code",
   "execution_count": 2,
   "metadata": {},
   "outputs": [
    {
     "name": "stdout",
     "output_type": "stream",
     "text": [
      "Enter the length of a rectangle: 10\n",
      "Enter the breadth of a rectangle: 10\n",
      "With the given dimensions a square can be constructed\n"
     ]
    }
   ],
   "source": [
    "length = input(\"Enter the length of a rectangle: \")\n",
    "breadth = input(\"Enter the breadth of a rectangle: \")\n",
    "\n",
    "if length == breadth:\n",
    "    print('With the given dimensions a square can be constructed')\n",
    "else:\n",
    "    print('With the given dimensions a rectangle can be constructed')"
   ]
  },
  {
   "cell_type": "markdown",
   "metadata": {},
   "source": [
    "    2. Write a Python program which accepts the radius of a circle from the user and compute the area.\n"
   ]
  },
  {
   "cell_type": "code",
   "execution_count": 5,
   "metadata": {},
   "outputs": [
    {
     "name": "stdout",
     "output_type": "stream",
     "text": [
      "Enter the radius of a circle (in cm): 5\n",
      "The area of a circle is:  78.5 cm²\n"
     ]
    }
   ],
   "source": [
    "radius = input(\"Enter the radius of a circle (in cm): \")\n",
    "area = 3.14 * int(radius) ** 2\n",
    "print(\"The area of a circle is: \", area, \"cm²\")"
   ]
  },
  {
   "cell_type": "markdown",
   "metadata": {},
   "source": [
    "    3. Write a Python program that accepts an integer (n) and computes the value of n+nn+nnn.\n",
    "       Sample value of n is 5\n",
    "       Expected Result : 615\n"
   ]
  },
  {
   "cell_type": "code",
   "execution_count": 8,
   "metadata": {},
   "outputs": [
    {
     "name": "stdout",
     "output_type": "stream",
     "text": [
      "Enter an integer: 5\n",
      "Result after computation:  615\n"
     ]
    }
   ],
   "source": [
    "value = int(input(\"Enter an integer: \"))\n",
    "result = value + (10 * value + value) + (100 * value + 10 * value + value)\n",
    "print(\"Result after computation: \",result) "
   ]
  },
  {
   "cell_type": "markdown",
   "metadata": {},
   "source": [
    "    4. A company decided to deduct pf of 12% of salary if year of service is less than 5 year and 24% employee if his/her year of service is more than 5 years.\n",
    "    Ask user for their salary and year of service and print the net in-hand salary after pf deduction.\n"
   ]
  },
  {
   "cell_type": "code",
   "execution_count": 12,
   "metadata": {},
   "outputs": [
    {
     "name": "stdout",
     "output_type": "stream",
     "text": [
      "Enter your base salary: 25000\n",
      "Enter the number of years of experience you have: 5\n",
      "Net salary receieved after deduction of pf is: Rs.  22000.0\n"
     ]
    }
   ],
   "source": [
    "base_salary = int(input(\"Enter your base salary: \"))\n",
    "years_of_exp = int(input(\"Enter the number of years of experience you have: \"))\n",
    "\n",
    "if years_of_exp <= 5:\n",
    "    pf = 0.12\n",
    "elif years_of_exp > 5:\n",
    "    pf = 0.24\n",
    "\n",
    "net_salary = base_salary - (base_salary * pf)\n",
    "print(\"Net salary receieved after deduction of pf is: Rs. \", net_salary)"
   ]
  },
  {
   "cell_type": "markdown",
   "metadata": {},
   "source": [
    "    5. A school has following rules for grading system:\n",
    "        a. Below 40 - F\n",
    "        b. 40 to 50 - C\n",
    "        c. 50 to 60 - C+\n",
    "        d. 60 to 70 - B\n",
    "        e. 70 to 80 - B+\n",
    "        f. 80 to 90 - A\n",
    "        g. Above 90 - A+\n",
    "    \n",
    "    Ask user to enter marks for their 5 main subject and print the corresponding grade and overall grade for average of marks.\n"
   ]
  },
  {
   "cell_type": "code",
   "execution_count": 23,
   "metadata": {},
   "outputs": [],
   "source": [
    "def grade_calculation(mark):\n",
    "    \n",
    "    if mark < 40:\n",
    "        grade = \"F\"\n",
    "    elif mark >= 40 and mark < 50:\n",
    "        grade = \"C\"\n",
    "    elif mark >= 50 and mark < 60:\n",
    "        grade = \"C+\"\n",
    "    elif mark >= 60 and mark < 70:\n",
    "        grade = \"B\"\n",
    "    elif mark >= 70 and mark < 80:\n",
    "        grade = \"B+\"\n",
    "    elif mark >= 80 and mark < 90:\n",
    "        grade = \"A\"\n",
    "    else:\n",
    "        grade = \"A+\"\n",
    "    \n",
    "    return grade\n"
   ]
  },
  {
   "cell_type": "code",
   "execution_count": 24,
   "metadata": {},
   "outputs": [
    {
     "name": "stdout",
     "output_type": "stream",
     "text": [
      "Enter marks for the first subject: 60\n",
      "Grade obtained:  B\n",
      "Enter marks for the second subject: 70\n",
      "Grade obtained:  B+\n",
      "Enter marks for the third subject: 80\n",
      "Grade obtained:  A\n",
      "Enter marks for the fourth subject: 90\n",
      "Grade obtained:  A+\n",
      "Enter marks for the fifth subject: 100\n",
      "Grade obtained:  A+\n",
      "Overall grade obtained by the student is:  A\n"
     ]
    }
   ],
   "source": [
    "total = 0\n",
    "\n",
    "marks = int(input(\"Enter marks for the first subject: \"))\n",
    "print(\"Grade obtained: \", grade_calculation(marks))\n",
    "total = total + marks\n",
    "\n",
    "marks = int(input(\"Enter marks for the second subject: \"))\n",
    "print(\"Grade obtained: \", grade_calculation(marks))\n",
    "total = total + marks\n",
    "\n",
    "marks = int(input(\"Enter marks for the third subject: \"))\n",
    "print(\"Grade obtained: \", grade_calculation(marks))\n",
    "total = total + marks\n",
    "\n",
    "marks = int(input(\"Enter marks for the fourth subject: \"))\n",
    "print(\"Grade obtained: \", grade_calculation(marks))\n",
    "total = total + marks\n",
    "\n",
    "marks = int(input(\"Enter marks for the fifth subject: \"))\n",
    "print(\"Grade obtained: \", grade_calculation(marks))\n",
    "total = total + marks\n",
    "\n",
    "total = total / 5;\n",
    "\n",
    "print(\"Overall grade obtained by the student is: \", grade_calculation(total))"
   ]
  },
  {
   "cell_type": "markdown",
   "metadata": {},
   "source": [
    "    6. A student will not be allowed to sit in exam if his/her attendence is less than 75%.\n",
    "        Take following input from user\n",
    "        Number of classes held\n",
    "        Number of classes attended.\n",
    "\n",
    "        And print\n",
    "        percentage of class attended\n",
    "        Is student is allowed to sit in exam or not.\n",
    "\n"
   ]
  },
  {
   "cell_type": "code",
   "execution_count": 16,
   "metadata": {},
   "outputs": [
    {
     "name": "stdout",
     "output_type": "stream",
     "text": [
      "Number of classes held: 200\n",
      "Number of classes attended: 150\n",
      "The student has attended 75.0 % of classes in this semester\n",
      "He/She is allowed to attend the exam\n"
     ]
    }
   ],
   "source": [
    "classes_held = int(input(\"Number of classes held: \"))\n",
    "classes_attended = int(input(\"Number of classes attended: \"))\n",
    "\n",
    "percentage_attended = classes_attended / classes_held\n",
    "print(f\"The student has attended {percentage_attended * 100} % of classes in this semester\")\n",
    "\n",
    "if percentage_attended < 0.75:\n",
    "    print(\"He/She is not allowed to attend the exam\")\n",
    "else:\n",
    "    print(\"He/She is allowed to attend the exam\")\n",
    "    "
   ]
  },
  {
   "cell_type": "markdown",
   "metadata": {},
   "source": [
    "    7. Modify the above question to allow student to sit if he/she has medical cause reduce attendance criteria to 60%. Ask user if he/she has medical cause or not ( 'Y' or 'N' ) and print accordingly.\n"
   ]
  },
  {
   "cell_type": "code",
   "execution_count": 18,
   "metadata": {},
   "outputs": [
    {
     "name": "stdout",
     "output_type": "stream",
     "text": [
      "Number of classes held: 200\n",
      "Number of classes attended: 140\n",
      "The student has attended 70.0 % of classes in this semester\n",
      "Do you have medical reason (Y/N) ? Y\n",
      "He/She is allowed to attend the exam\n"
     ]
    }
   ],
   "source": [
    "classes_held = int(input(\"Number of classes held: \"))\n",
    "classes_attended = int(input(\"Number of classes attended: \"))\n",
    "\n",
    "percentage_attended = classes_attended / classes_held\n",
    "print(f\"The student has attended {percentage_attended * 100} % of classes in this semester\")\n",
    "\n",
    "if percentage_attended < 0.75:\n",
    "    medical_cause = input(\"Do you have medical reason (Y/N) ? \")\n",
    "    if medical_cause == 'Y' and percentage_attended >= 0.6:\n",
    "        print(\"He/She is allowed to attend the exam\")\n",
    "    else:\n",
    "        print(\"He/She is not allowed to attend the exam\")\n",
    "else:\n",
    "    print(\"He/She is allowed to attend the exam\")"
   ]
  },
  {
   "cell_type": "markdown",
   "metadata": {},
   "source": [
    "    8. Write a program to check if a year is leap year or not.\n",
    "       If a year is divisible by 4 then it is leap year but if the year is century year like 2000, 1900, 2100 then it must be divisible by 400.\n"
   ]
  },
  {
   "cell_type": "code",
   "execution_count": 36,
   "metadata": {},
   "outputs": [
    {
     "name": "stdout",
     "output_type": "stream",
     "text": [
      "2020 is a leap year\n"
     ]
    }
   ],
   "source": [
    "curr_year = 2020\n",
    "if curr_year % 100 == 0:\n",
    "    if curr_year % 400 == 0:\n",
    "        print(f\"{curr_year} is a leap year\")\n",
    "        count = count + 1\n",
    "    else:\n",
    "        print(f\"{curr_year} is not a leap year\")\n",
    "elif curr_year % 4 == 0:\n",
    "    print(f\"{curr_year} is a leap year\")\n",
    "    count = count + 1\n",
    "else:\n",
    "    print(f\"{curr_year} is not a leap year\")"
   ]
  },
  {
   "cell_type": "markdown",
   "metadata": {},
   "source": [
    "    9. Ask user to enter age, gender ( M or F ), marital status ( Y or N ) and then using following rules print their place of service.\n",
    "    if employee is female, then she will work only in urban areas.\n",
    "\n",
    "    if employee is a male and age is in between 20 to 30 and not married then he may work in anywhere.\n",
    "\n",
    "    if employee is a female and age is in between 20 to 30 and not married then she may work in urban areas.\n",
    "\n",
    "    if employee is male and age is in between 20 t0 30 and married then he will work in nearby Hometown.\n",
    "\n",
    "    if employee is female and age is in between 20 t0 30 and married then she will work in her husband's city.\n",
    "\n",
    "    And any other input of age should print \"ERROR\".\n"
   ]
  },
  {
   "cell_type": "code",
   "execution_count": 4,
   "metadata": {},
   "outputs": [
    {
     "name": "stdout",
     "output_type": "stream",
     "text": [
      "Enter your Age: 25\n",
      "Enter your Gender (M / F): M\n",
      "Enter your Marital status (Y / N): N\n",
      "This employee may work anywhere\n"
     ]
    }
   ],
   "source": [
    "emp_age = int(input(\"Enter your Age: \"))\n",
    "emp_gender = input(\"Enter your Gender (M / F): \")\n",
    "emp_marital_status = input(\"Enter your Marital status (Y / N): \")\n",
    "\n",
    "if emp_gender == 'F':\n",
    "    print(\"This employee will work only in urban areas\")\n",
    "\n",
    "if 20 < emp_age <= 30:\n",
    "    if emp_gender == 'F':\n",
    "        if emp_marital_status == \"Y\":\n",
    "            print(\"This employee will work in her husband's city\")\n",
    "        else:\n",
    "            print(\"This employee may work in urban areas\")\n",
    "    else:\n",
    "        if emp_marital_status == 'Y':\n",
    "            print(\"This employee will work in nearby Hometown\")\n",
    "        else:\n",
    "            print(\"This employee may work anywhere\")\n",
    "else:\n",
    "        print(\"ERROR\")\n",
    "    \n"
   ]
  },
  {
   "cell_type": "markdown",
   "metadata": {},
   "source": [
    "    10. A 4 digit number is entered through keyboard. Write a program to print a new number with digits reversed as of orignal one. E.g.-\n",
    "    INPUT : 1234        OUTPUT : 4321\n",
    "    INPUT : 5982        OUTPUT : 2895\n",
    "    NOTE:- Do not use builtin functions e.g. sort(), reverse() and loop try to solve it by if-else\n"
   ]
  },
  {
   "cell_type": "code",
   "execution_count": 16,
   "metadata": {},
   "outputs": [
    {
     "name": "stdout",
     "output_type": "stream",
     "text": [
      "Enter a 4 digit number: 5982\n",
      "Reversed Number is:  2895\n"
     ]
    }
   ],
   "source": [
    "number = int(input(\"Enter a 4 digit number: \"))\n",
    "\n",
    "first_digit = number % 10\n",
    "second_digit = (number % 100) // 10\n",
    "third_digit = (number // 100) % 10\n",
    "fourth_digit = number // 1000\n",
    "\n",
    "rev_number = first_digit * 1000 + second_digit * 100 + third_digit * 10 + fourth_digit\n",
    "\n",
    "print(\"Reversed Number is: \", rev_number)"
   ]
  },
  {
   "cell_type": "markdown",
   "metadata": {},
   "source": [
    "    11. Write a program to find sum of digits of given number by user answer should be of single digit.\n",
    "        Example: input: 25643\n",
    "        sum of digits of 2+5+6+4+3 = 20\n",
    "        again find sum of digits of 20 and final answer would be 2+0 = 2\n"
   ]
  },
  {
   "cell_type": "code",
   "execution_count": 18,
   "metadata": {},
   "outputs": [
    {
     "name": "stdout",
     "output_type": "stream",
     "text": [
      "Enter a number: 25643\n",
      "Sum of Digits:  2\n"
     ]
    }
   ],
   "source": [
    "number = int(input(\"Enter a number: \"))\n",
    "\n",
    "if number > 10000:\n",
    "    first_digit = number % 10\n",
    "    second_digit = (number % 100) // 10\n",
    "    third_digit = (number // 100) % 10\n",
    "    fourth_digit = (number // 1000) % 10\n",
    "    fifth_digit = number // 10000\n",
    "    sum_digits = first_digit + second_digit + third_digit + fourth_digit + fifth_digit\n",
    "    \n",
    "    if sum_digits > 10:\n",
    "        first_digit = sum_digits % 10\n",
    "        second_digit = (sum_digits % 100) // 10\n",
    "        sum_digits = first_digit + second_digit\n",
    "        \n",
    "print(\"Sum of Digits: \", sum_digits)"
   ]
  },
  {
   "cell_type": "markdown",
   "metadata": {},
   "source": [
    "    12. Write a Python program to find those numbers which are divisible by 7 and multiple of 5, between 1500 and 2700 (both included).\n"
   ]
  },
  {
   "cell_type": "code",
   "execution_count": 19,
   "metadata": {},
   "outputs": [
    {
     "name": "stdout",
     "output_type": "stream",
     "text": [
      "1505\n",
      "1540\n",
      "1575\n",
      "1610\n",
      "1645\n",
      "1680\n",
      "1715\n",
      "1750\n",
      "1785\n",
      "1820\n",
      "1855\n",
      "1890\n",
      "1925\n",
      "1960\n",
      "1995\n",
      "2030\n",
      "2065\n",
      "2100\n",
      "2135\n",
      "2170\n",
      "2205\n",
      "2240\n",
      "2275\n",
      "2310\n",
      "2345\n",
      "2380\n",
      "2415\n",
      "2450\n",
      "2485\n",
      "2520\n",
      "2555\n",
      "2590\n",
      "2625\n",
      "2660\n",
      "2695\n"
     ]
    }
   ],
   "source": [
    "min_limit = 1500\n",
    "max_limit = 2700\n",
    "\n",
    "start_value = 1500\n",
    "\n",
    "while min_limit <= start_value <= max_limit :\n",
    "    if start_value % 7 == 0 and start_value % 5 == 0:\n",
    "        print(start_value)\n",
    "    start_value = start_value + 1"
   ]
  },
  {
   "cell_type": "markdown",
   "metadata": {},
   "source": [
    "    13. A shop will give discount of 10% max upto 100rs if the cost of purchased quantity is more than 1000.\n",
    "        Ask user for quantity\n",
    "        Suppose, one unit will cost 100rs.\n",
    "        Judge and print total cost for user.\n"
   ]
  },
  {
   "cell_type": "code",
   "execution_count": 21,
   "metadata": {},
   "outputs": [
    {
     "name": "stdout",
     "output_type": "stream",
     "text": [
      "Enter the number of units required (each unit costs Rs. 100/-)? 20\n",
      "The final price is:  1900\n"
     ]
    }
   ],
   "source": [
    "quantity = int(input(\"Enter the number of units required (each unit costs Rs. 100/-)? \"))\n",
    "\n",
    "total_price = quantity * 100;\n",
    "if total_price > 1000:\n",
    "    discount = 0.1\n",
    "    discount_obtained = 0.1 * total_price\n",
    "    if discount_obtained > 100:\n",
    "        discount_obtained = 100\n",
    "else:\n",
    "    discount_obtained = 0\n",
    "    \n",
    "final_price = total_price - discount_obtained;\n",
    "print(\"The final price is: \", final_price)"
   ]
  },
  {
   "cell_type": "markdown",
   "metadata": {},
   "source": [
    "    14. Write a Python program to calculate number of days between two dates.\n"
   ]
  },
  {
   "cell_type": "code",
   "execution_count": 41,
   "metadata": {},
   "outputs": [
    {
     "name": "stdout",
     "output_type": "stream",
     "text": [
      "Enter a start date (dd-mm-yyy): 02-05-2014\n",
      "Enter a end date (dd-mm-yyy): 05-05-2014\n",
      "Number of days:  -723237\n"
     ]
    }
   ],
   "source": [
    "start_date = input(\"Enter a start date (dd-mm-yyy): \")\n",
    "end_date = input(\"Enter a end date (dd-mm-yyy): \")\n",
    "\n",
    "start_date = list(start_date.split('-'))\n",
    "start_date = [int(i) for i in start_date]\n",
    "\n",
    "end_date = list(end_date.split('-'))\n",
    "end_date = [int(i) for i in end_date]\n",
    "\n",
    "date_diff, month_diff, year_diff = 0, 0, 0\n",
    "\n",
    "if start_date[0] > end_date[0]:\n",
    "    date_diff = start_date[0] - end_date[0]\n",
    "else:\n",
    "    date_diff = end_date[0] - start_date[0]\n",
    "\n",
    "if start_date[1] > end_date[1]:\n",
    "    month_diff = start_date[1] - end_date[1]\n",
    "else:\n",
    "    month_diff = end_date[1] - start_date[1]\n",
    "\n",
    "if start_date[2] > end_date[2]:\n",
    "    year_diff = start_date[2] - end_date[2]\n",
    "else:\n",
    "    year_diff = end_date[2] - start_date[2]\n",
    "\n",
    "days = date_diff + month_diff * 30 + year_diff * 12 * 30\n",
    "print(\"Number of days: \", days)"
   ]
  }
 ],
 "metadata": {
  "kernelspec": {
   "display_name": "Python 3",
   "language": "python",
   "name": "python3"
  },
  "language_info": {
   "codemirror_mode": {
    "name": "ipython",
    "version": 3
   },
   "file_extension": ".py",
   "mimetype": "text/x-python",
   "name": "python",
   "nbconvert_exporter": "python",
   "pygments_lexer": "ipython3",
   "version": "3.7.6"
  },
  "toc": {
   "base_numbering": 1,
   "nav_menu": {},
   "number_sections": true,
   "sideBar": true,
   "skip_h1_title": false,
   "title_cell": "Table of Contents",
   "title_sidebar": "Contents",
   "toc_cell": false,
   "toc_position": {},
   "toc_section_display": true,
   "toc_window_display": false
  }
 },
 "nbformat": 4,
 "nbformat_minor": 4
}
