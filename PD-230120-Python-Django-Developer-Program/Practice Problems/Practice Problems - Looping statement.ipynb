{
 "cells": [
  {
   "cell_type": "markdown",
   "metadata": {},
   "source": [
    "# Practice Problems for looping statements\n",
    "<hr>"
   ]
  },
  {
   "cell_type": "markdown",
   "metadata": {},
   "source": [
    "    1. Take 10 integers from keyboard using loop and print their average value on the screen\n",
    "\n"
   ]
  },
  {
   "cell_type": "code",
   "execution_count": 4,
   "metadata": {},
   "outputs": [
    {
     "name": "stdout",
     "output_type": "stream",
     "text": [
      "Enter value no. 1: 1\n",
      "Enter value no. 2: 2\n",
      "Enter value no. 3: 3\n",
      "Enter value no. 4: 4\n",
      "Enter value no. 5: 5\n",
      "Enter value no. 6: 6\n",
      "Enter value no. 7: 7\n",
      "Enter value no. 8: 8\n",
      "Enter value no. 9: 9\n",
      "Enter value no. 10: 10\n",
      "The final sum is 55\n",
      "The average of the entered numbers is:  5.5\n"
     ]
    }
   ],
   "source": [
    "final_average = 0\n",
    "sum_init = 0\n",
    "\n",
    "for idx in range(10):\n",
    "    value = int(input(f\"Enter value no. {idx + 1}: \"))\n",
    "    sum_init = sum_init + value\n",
    "    \n",
    "print(f\"The final sum is {sum_init}\")\n",
    "print(\"The average of the entered numbers is: \", sum_init/(idx + 1))"
   ]
  },
  {
   "cell_type": "markdown",
   "metadata": {},
   "source": [
    "    2. Print multiplication table of 24, 50 and 29 using loop.\n"
   ]
  },
  {
   "cell_type": "code",
   "execution_count": 5,
   "metadata": {},
   "outputs": [
    {
     "name": "stdout",
     "output_type": "stream",
     "text": [
      "24 * 1 = 24\n",
      "24 * 2 = 48\n",
      "24 * 3 = 72\n",
      "24 * 4 = 96\n",
      "24 * 5 = 120\n",
      "24 * 6 = 144\n",
      "24 * 7 = 168\n",
      "24 * 8 = 192\n",
      "24 * 9 = 216\n",
      "24 * 10 = 240\n",
      "-----------------------------------\n",
      "50 * 1 = 50\n",
      "50 * 2 = 100\n",
      "50 * 3 = 150\n",
      "50 * 4 = 200\n",
      "50 * 5 = 250\n",
      "50 * 6 = 300\n",
      "50 * 7 = 350\n",
      "50 * 8 = 400\n",
      "50 * 9 = 450\n",
      "50 * 10 = 500\n",
      "-----------------------------------\n",
      "29 * 1 = 29\n",
      "29 * 2 = 58\n",
      "29 * 3 = 87\n",
      "29 * 4 = 116\n",
      "29 * 5 = 145\n",
      "29 * 6 = 174\n",
      "29 * 7 = 203\n",
      "29 * 8 = 232\n",
      "29 * 9 = 261\n",
      "29 * 10 = 290\n",
      "-----------------------------------\n"
     ]
    }
   ],
   "source": [
    "values = [24, 50, 29]\n",
    "\n",
    "for value in values:\n",
    "    idx = 1\n",
    "    while idx < 11:\n",
    "        print(f\"{value} * {idx} = {value * idx}\")\n",
    "        idx = idx + 1\n",
    "    print(\"-----------------------------------\")"
   ]
  },
  {
   "cell_type": "markdown",
   "metadata": {},
   "source": [
    "    3. Take integer inputs from user until user presses q ( Ask to press q to quit after every integer input ). Print average and product of all numbers.\n",
    "\n"
   ]
  },
  {
   "cell_type": "code",
   "execution_count": 11,
   "metadata": {},
   "outputs": [
    {
     "name": "stdout",
     "output_type": "stream",
     "text": [
      "Enter your input: 5\n",
      "Enter your next input: 8\n",
      "Enter your next input: 9\n",
      "Enter your next input: 10\n",
      "Enter your next input: 15\n",
      "Enter your next input: 20\n",
      "Enter your next input: q\n",
      "Average of all the numbers: 12.4\n",
      "Product of all the numbers: 216000\n"
     ]
    }
   ],
   "source": [
    "count, product, total = 0, 1, 0\n",
    "user_in = input(\"Enter your input: \")\n",
    "\n",
    "while user_in != 'q':\n",
    "    user_in = input(\"Enter your next input: \")\n",
    "    if user_in != 'q':\n",
    "        count = count + 1\n",
    "        total = total + int(user_in)\n",
    "        product = product * int(user_in)\n",
    "\n",
    "if count == 0:\n",
    "    count, product = 1, 0\n",
    "    print(\"User entered 'q' at the beginning, Program exiting!\")\n",
    "\n",
    "print(f\"Average of all the numbers: {total / count}\")\n",
    "print(f\"Product of all the numbers: {product}\")\n"
   ]
  },
  {
   "cell_type": "markdown",
   "metadata": {},
   "source": [
    "    4. A three digit number is called Armstrong number if sum of cube of its digit is equal to number itself.\n",
    "    E.g.- 153 is an Armstrong number because (13)+(53)+(33) = 153.\n",
    "    Write all Armstrong numbers between 100 to 500.\n"
   ]
  },
  {
   "cell_type": "code",
   "execution_count": 25,
   "metadata": {},
   "outputs": [
    {
     "name": "stdout",
     "output_type": "stream",
     "text": [
      "153\n",
      "370\n",
      "371\n",
      "407\n"
     ]
    }
   ],
   "source": [
    "for idx in range(100, 501):\n",
    "    first_digit = idx % 10\n",
    "    second_digit = idx // 10 % 10\n",
    "    third_digit = idx // 100\n",
    "    if idx == (first_digit ** 3 + second_digit ** 3 + third_digit ** 3):\n",
    "        print(idx)"
   ]
  },
  {
   "cell_type": "markdown",
   "metadata": {},
   "source": [
    "    5. Write a Python program which iterates the integers from 1 to 50. For multiples of three print \"Fizz\" instead of the number and for the multiples of five print \"Buzz\". For numbers which are multiples of both three and five print \"FizzBuzz\".\n",
    "    Sample Output :\n",
    "    fizzbuzz\n",
    "    1\n",
    "    2\n",
    "    fizz\n",
    "    4\n",
    "    buzz\n"
   ]
  },
  {
   "cell_type": "code",
   "execution_count": 27,
   "metadata": {},
   "outputs": [
    {
     "name": "stdout",
     "output_type": "stream",
     "text": [
      "3 Fizz\n",
      "5 Buzz\n",
      "6 Fizz\n",
      "9 Fizz\n",
      "10 Buzz\n",
      "12 Fizz\n",
      "15 FizzBuzz\n",
      "18 Fizz\n",
      "20 Buzz\n",
      "21 Fizz\n",
      "24 Fizz\n",
      "25 Buzz\n",
      "27 Fizz\n",
      "30 FizzBuzz\n",
      "33 Fizz\n",
      "35 Buzz\n",
      "36 Fizz\n",
      "39 Fizz\n",
      "40 Buzz\n",
      "42 Fizz\n",
      "45 FizzBuzz\n",
      "48 Fizz\n",
      "50 Buzz\n"
     ]
    }
   ],
   "source": [
    "for idx in range(1, 51):\n",
    "    if idx % 5 == 0 and idx % 3 == 0:\n",
    "        print(idx, \"FizzBuzz\")\n",
    "    elif idx % 3 == 0:\n",
    "        print(idx, \"Fizz\")\n",
    "    elif idx % 5 == 0:\n",
    "        print(idx, \"Buzz\")"
   ]
  },
  {
   "cell_type": "markdown",
   "metadata": {},
   "source": [
    "    6. Write a program to find greatest common divisor (GCD) or highest common factor (HCF) of given two numbers.\n"
   ]
  },
  {
   "cell_type": "code",
   "execution_count": 36,
   "metadata": {},
   "outputs": [
    {
     "name": "stdout",
     "output_type": "stream",
     "text": [
      "The HCF of 360 and 600 is 120\n"
     ]
    }
   ],
   "source": [
    "num1, num2 = 360, 600\n",
    "hcf = 1\n",
    "\n",
    "if num1 > num2:\n",
    "    up_limit = num1\n",
    "else:\n",
    "    up_limit = num2\n",
    "\n",
    "for idx in range(2, up_limit + 1):\n",
    "    if num1 % idx == 0 and num2 % idx == 0:\n",
    "        if idx > hcf:\n",
    "            hcf = idx\n",
    "\n",
    "print(f\"The HCF of {num1} and {num2} is {hcf}\")"
   ]
  },
  {
   "cell_type": "markdown",
   "metadata": {},
   "source": [
    "    7. Write a Python program to find numbers between 100 and 400 (both included) where each digit of a number is an even number. The numbers obtained should be printed in a comma-separated sequence.\n"
   ]
  },
  {
   "cell_type": "code",
   "execution_count": 41,
   "metadata": {},
   "outputs": [
    {
     "name": "stdout",
     "output_type": "stream",
     "text": [
      "200,202,204,206,208,220,222,224,226,228,240,242,244,246,248,260,262,264,266,268,280,282,284,286,288,400,"
     ]
    }
   ],
   "source": [
    "for idx in range(100, 401):\n",
    "    first_digit = idx % 10\n",
    "    second_digit = idx // 10 % 10\n",
    "    third_digit = idx // 100\n",
    "    if first_digit % 2 == 0 and second_digit % 2 == 0 and third_digit % 2 == 0:\n",
    "        print(idx, end=\",\")"
   ]
  },
  {
   "cell_type": "markdown",
   "metadata": {},
   "source": [
    "    8.  Write a Python program which takes two digits m (row) and n (column) as input and generates a two-dimensional array. The element value in the i-th row and j-th column of the array should be 2*(i+j).\n",
    "    Note :\n",
    "    i = 0,1.., m-1\n",
    "    j = 0,1, n-1.\n",
    "\n",
    "    Test Data : Rows = 3, Columns = 4\n",
    "    Expected Result : [[0, 2, 4, 6], [2, 4, 6, 8], [6, 8, 10, 12]\n"
   ]
  },
  {
   "cell_type": "code",
   "execution_count": 43,
   "metadata": {},
   "outputs": [
    {
     "name": "stdout",
     "output_type": "stream",
     "text": [
      "Result:  [[0, 2, 4, 6], [2, 4, 6, 8], [4, 6, 8, 10]]\n"
     ]
    }
   ],
   "source": [
    "rows = 3\n",
    "columns = 4\n",
    "\n",
    "result = []\n",
    "for idx in range(0, rows):\n",
    "    row = []\n",
    "    for idy in range(0, columns):\n",
    "        value = 2 * (idx + idy)\n",
    "        row.append(value)\n",
    "    result.append(row)\n",
    "\n",
    "print(\"Result: \", result)"
   ]
  },
  {
   "cell_type": "markdown",
   "metadata": {},
   "source": [
    "    9. Write a program to find prime factor of a number.\n",
    "    If a factor of a number is prime number then it is its prime factor.\n"
   ]
  },
  {
   "cell_type": "markdown",
   "metadata": {},
   "source": [
    "ref: https://www.geeksforgeeks.org/print-all-prime-factors-of-a-given-number/"
   ]
  },
  {
   "cell_type": "code",
   "execution_count": 55,
   "metadata": {
    "scrolled": true
   },
   "outputs": [
    {
     "name": "stdout",
     "output_type": "stream",
     "text": [
      "3\n",
      "3\n",
      "5\n",
      "7\n"
     ]
    }
   ],
   "source": [
    "num = 315\n",
    "idx = 2\n",
    "\n",
    "while num % idx == 0:\n",
    "    print(idx)\n",
    "    num = num / idx\n",
    "\n",
    "idx = 3\n",
    "for idx in range(3, int(num ** 1/2) + 1, 2):\n",
    "    while num % idx == 0:\n",
    "        print(idx)\n",
    "        num = num / idx\n",
    "if num > 2:\n",
    "    print(int(num))"
   ]
  },
  {
   "cell_type": "markdown",
   "metadata": {},
   "source": [
    "    10. Write a Python program to get the Fibonacci series. length of series should taken by user.\n",
    "    Note : The Fibonacci Sequence is the series of numbers :\n",
    "    0, 1, 1, 2, 3, 5, 8, 13, 21, ....\n",
    "    Every next number is found by adding up the two numbers before it.\n",
    "    Expected Output : 1 1 2 3 5 8 13 21 34.\n",
    "\n"
   ]
  },
  {
   "cell_type": "markdown",
   "metadata": {},
   "source": [
    "    11. A 4 digit number is entered through keyboard. Write a program to print a new number with digits reversed as of orignal one. E.g.-\n",
    "    INPUT : 1234        OUTPUT : 4321\n",
    "    INPUT : 5982        OUTPUT : 2895\n",
    "    NOTE:- Can not use buil-in function e.g. sort(), reverse() use loops here\n"
   ]
  },
  {
   "cell_type": "markdown",
   "metadata": {},
   "source": [
    "    12. Write a program to find sum of digits of given number by user answer should be of single digit.\n",
    "    Example: input: 25643\n",
    "             sum of digits of 2+5+6+4+3 = 20\n",
    "             again find sum of digits of 20 and final answer would be 2+0 = 2\n"
   ]
  },
  {
   "cell_type": "markdown",
   "metadata": {},
   "source": [
    "    13. Write a Python program to construct the following pattern, using a nested for loop."
   ]
  },
  {
   "cell_type": "markdown",
   "metadata": {},
   "source": [
    "    * \n",
    "    * * \n",
    "    * * * \n",
    "    * * * * \n",
    "    * * * * * \n",
    "    * * * * \n",
    "    * * * \n",
    "    * * \n",
    "    *\n"
   ]
  },
  {
   "cell_type": "markdown",
   "metadata": {},
   "source": [
    "    14. Write a Python program to print alphabet pattern 'A'.\n"
   ]
  },
  {
   "cell_type": "markdown",
   "metadata": {},
   "source": [
    "      ***                                                                   \n",
    "     *   *                                                                  \n",
    "     *   *                                                                  \n",
    "     *****                                                                  \n",
    "     *   *                                                                  \n",
    "     *   *                                                                  \n",
    "     *   *\n"
   ]
  },
  {
   "cell_type": "markdown",
   "metadata": {},
   "source": [
    "    15. Write a Python program to construct the following pattern, using a nested loop number.\n",
    "    Expected Output:\n",
    "\n",
    "    1\n",
    "    22\n",
    "    333\n",
    "    4444\n",
    "    55555\n",
    "    666666\n",
    "    7777777\n",
    "    88888888\n",
    "    999999999"
   ]
  },
  {
   "cell_type": "markdown",
   "metadata": {},
   "source": [
    "    16. Write a Python program to construct the following pattern, using a nested loop number.\n",
    "    Expected Output:\n",
    "    \n",
    "        * \n",
    "       * * \n",
    "      * * * \n",
    "     * * * * \n",
    "    * * * * *"
   ]
  }
 ],
 "metadata": {
  "kernelspec": {
   "display_name": "Python 3",
   "language": "python",
   "name": "python3"
  },
  "language_info": {
   "codemirror_mode": {
    "name": "ipython",
    "version": 3
   },
   "file_extension": ".py",
   "mimetype": "text/x-python",
   "name": "python",
   "nbconvert_exporter": "python",
   "pygments_lexer": "ipython3",
   "version": "3.7.6"
  },
  "toc": {
   "base_numbering": 1,
   "nav_menu": {},
   "number_sections": true,
   "sideBar": true,
   "skip_h1_title": false,
   "title_cell": "Table of Contents",
   "title_sidebar": "Contents",
   "toc_cell": false,
   "toc_position": {},
   "toc_section_display": true,
   "toc_window_display": false
  }
 },
 "nbformat": 4,
 "nbformat_minor": 4
}
