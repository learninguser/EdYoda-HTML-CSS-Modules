{
 "cells": [
  {
   "cell_type": "markdown",
   "metadata": {},
   "source": [
    "### Problem 1:\n",
    "    Two arrays are called similar if one can be obtained from another by swapping at most one pair of elements in one of the arrays.\n",
    "\n",
    "    Given two arrays a and b, check whether they are similar.\n",
    "\n",
    "    Example\n",
    "\n",
    "    For a = [1, 2, 3] and b = [1, 2, 3], the output should be\n",
    "    areSimilar(a, b) = true.\n",
    "\n",
    "    The arrays are equal, no need to swap any elements.\n",
    "\n",
    "    For a = [1, 2, 3] and b = [2, 1, 3], the output should be\n",
    "    areSimilar(a, b) = true.\n",
    "\n",
    "    We can obtain b from a by swapping 2 and 1 in b.\n",
    "\n",
    "    For a = [1, 2, 2] and b = [2, 1, 1], the output should be\n",
    "    areSimilar(a, b) = false.\n",
    "\n",
    "    Any swap of any two elements either in a or in b won't make a and b equal.\n",
    "\n",
    "    Input/Output\n",
    "\n",
    "    [execution time limit] 4 seconds (py3)\n",
    "\n",
    "    [input] array.integer a\n",
    "\n",
    "    Array of integers.\n",
    "\n",
    "    Guaranteed constraints:\n",
    "    3 ≤ a.length ≤ 105,\n",
    "    1 ≤ a[i] ≤ 1000.\n",
    "\n",
    "    [input] array.integer b\n",
    "\n",
    "    Array of integers of the same length as a.\n",
    "\n",
    "    Guaranteed constraints:\n",
    "    b.length = a.length,\n",
    "    1 ≤ b[i] ≤ 1000.\n",
    "\n",
    "    [output] boolean\n",
    "\n",
    "    true if a and b are similar, false otherwise."
   ]
  },
  {
   "cell_type": "markdown",
   "metadata": {},
   "source": [
    "    Test 1\n",
    "        Input:\n",
    "        a: [1, 2, 3]\n",
    "        b: [1, 2, 3]\n",
    "        Output:\n",
    "        true\n",
    "        Expected Output:\n",
    "        true\n",
    "\n",
    "    Test 2\n",
    "        Input:\n",
    "        a: [832, 998, 148, 570, 533, 561, 894, 147, 455, 279]\n",
    "        b: [832, 570, 148, 998, 533, 561, 455, 147, 894, 279]\n",
    "        Output:\n",
    "        false\n",
    "        Expected Output:\n",
    "        false\n",
    "\n",
    "    Test 3\n",
    "        Input:\n",
    "        a: [2, 3, 9]\n",
    "        b: [10, 3, 2]\n",
    "        Output:\n",
    "        false\n",
    "        Expected Output:\n",
    "        false\n",
    "\n",
    "    Test 4\n",
    "        Input:\n",
    "        a: [1, 1, 4]\n",
    "        b: [1, 2, 3]\n",
    "        Output:\n",
    "        false\n",
    "        Expected Output:\n",
    "        false\n",
    "\n",
    "    Test 5\n",
    "        Input:\n",
    "        a: [1, 2, 2]\n",
    "        b: [2, 1, 1]\n",
    "        Output:\n",
    "        false\n",
    "        Expected Output:\n",
    "        false"
   ]
  },
  {
   "cell_type": "code",
   "execution_count": 50,
   "metadata": {},
   "outputs": [],
   "source": [
    "def areSimilar(a,b):\n",
    "    if len(set(a)) == len(set(b)):\n",
    "        if sorted(a) == sorted(b):\n",
    "            count = 0\n",
    "            for idx, val in enumerate(a):\n",
    "                if val == b[idx]:\n",
    "                    continue\n",
    "                else:\n",
    "                    count = count + 1\n",
    "                    if count == 3:\n",
    "                        return False\n",
    "            else:\n",
    "                return True\n",
    "        else:\n",
    "            return False\n",
    "    else:\n",
    "        return False"
   ]
  },
  {
   "cell_type": "code",
   "execution_count": 51,
   "metadata": {},
   "outputs": [],
   "source": [
    "# Test 1\n",
    "a = [1, 2, 2]\n",
    "b = [2, 1, 1]"
   ]
  },
  {
   "cell_type": "code",
   "execution_count": 52,
   "metadata": {},
   "outputs": [
    {
     "name": "stdout",
     "output_type": "stream",
     "text": [
      "False\n"
     ]
    }
   ],
   "source": [
    "print(areSimilar(a,b))"
   ]
  },
  {
   "cell_type": "code",
   "execution_count": 53,
   "metadata": {},
   "outputs": [],
   "source": [
    "a = [1, 1, 4]\n",
    "b = [1, 2, 3]"
   ]
  },
  {
   "cell_type": "code",
   "execution_count": 54,
   "metadata": {},
   "outputs": [
    {
     "name": "stdout",
     "output_type": "stream",
     "text": [
      "False\n"
     ]
    }
   ],
   "source": [
    "print(areSimilar(a,b))"
   ]
  },
  {
   "cell_type": "code",
   "execution_count": 55,
   "metadata": {},
   "outputs": [],
   "source": [
    "a = [2, 3, 9]\n",
    "b = [10, 3, 2]"
   ]
  },
  {
   "cell_type": "code",
   "execution_count": 56,
   "metadata": {},
   "outputs": [
    {
     "name": "stdout",
     "output_type": "stream",
     "text": [
      "False\n"
     ]
    }
   ],
   "source": [
    "print(areSimilar(a,b))"
   ]
  },
  {
   "cell_type": "code",
   "execution_count": 57,
   "metadata": {},
   "outputs": [
    {
     "name": "stdout",
     "output_type": "stream",
     "text": [
      "False\n",
      "--- 0.00020003318786621094 seconds ---\n"
     ]
    }
   ],
   "source": [
    "import time\n",
    "start_time = time.time()\n",
    "a = [832, 998, 148, 570, 533, 561, 894, 147, 455, 279]\n",
    "b = [832, 570, 148, 998, 533, 561, 455, 147, 894, 279]\n",
    "print(areSimilar(a,b))\n",
    "print(\"--- %s seconds ---\" % (time.time() - start_time))"
   ]
  },
  {
   "cell_type": "code",
   "execution_count": 58,
   "metadata": {},
   "outputs": [],
   "source": [
    "a = [832, 998, 148, 570, 533, 561, 894, 147, 455, 279]\n",
    "b = [832, 570, 148, 998, 533, 561, 455, 147, 894, 279]"
   ]
  },
  {
   "cell_type": "code",
   "execution_count": 59,
   "metadata": {},
   "outputs": [
    {
     "name": "stdout",
     "output_type": "stream",
     "text": [
      "False\n"
     ]
    }
   ],
   "source": [
    "print(areSimilar(a,b))"
   ]
  },
  {
   "cell_type": "code",
   "execution_count": 60,
   "metadata": {},
   "outputs": [],
   "source": [
    "a = [1, 2, 3]\n",
    "b = [1, 2, 3]"
   ]
  },
  {
   "cell_type": "code",
   "execution_count": 61,
   "metadata": {},
   "outputs": [
    {
     "name": "stdout",
     "output_type": "stream",
     "text": [
      "True\n"
     ]
    }
   ],
   "source": [
    "print(areSimilar(a,b))"
   ]
  },
  {
   "cell_type": "markdown",
   "metadata": {},
   "source": [
    "### Problem 2:\n",
    "    You are given an array of integers. On each move you are allowed to increase exactly one of its element by one. Find the minimal number of moves required to obtain a strictly increasing sequence from the input.\n",
    "\n",
    "    Example\n",
    "\n",
    "    For inputArray = [1, 1, 1], the output should be\n",
    "    arrayChange(inputArray) = 3.\n",
    "\n",
    "    Input/Output\n",
    "\n",
    "    [input] array.integer inputArray\n",
    "\n",
    "    Guaranteed constraints:\n",
    "    3 ≤ inputArray.length ≤ 105,\n",
    "    -105 ≤ inputArray[i] ≤ 105.\n",
    "\n",
    "    [output] integer\n",
    "\n",
    "    The minimal number of moves needed to obtain a strictly increasing sequence from inputArray.\n"
   ]
  },
  {
   "cell_type": "markdown",
   "metadata": {},
   "source": [
    "    Test 1\n",
    "        Input:\n",
    "        inputArray: [1, 1, 1]\n",
    "        Output:\n",
    "        3\n",
    "        Expected Output:\n",
    "        3\n",
    "\n",
    "    Test 2\n",
    "        Input:\n",
    "        inputArray: [-1000, 0, -2, 0]\n",
    "        Output:\n",
    "        5\n",
    "        Expected Output:\n",
    "        5\n",
    "\n",
    "    Test 3\n",
    "        Input:\n",
    "        inputArray: [2, 1, 10, 1]\n",
    "        Output:\n",
    "        12\n",
    "        Expected Output:\n",
    "        12\n",
    "\n",
    "    Test 4\n",
    "        Input:\n",
    "        inputArray: [3122, -645, 2616, 13213, -8069]\n",
    "        Output:\n",
    "        25559\n",
    "        Expected Output:\n",
    "        25559\n",
    "\n",
    "    Test 5\n",
    "        Input:\n",
    "        inputArray: [2, 3, 3, 5, 5, 5, 4, 12, 12, 10, 15]\n",
    "        Output:\n",
    "        13\n",
    "        Expected Output:\n",
    "        13"
   ]
  },
  {
   "cell_type": "markdown",
   "metadata": {},
   "source": [
    "### Problem 3:\n",
    "    In the popular Minesweeper game you have a board with some mines and those cells that don't contain a mine have a number in it that indicates the total number of mines in the neighboring cells. Starting off with some arrangement of mines we want to create a Minesweeper game setup.\n",
    "\n",
    "    Example\n",
    "\n",
    "    For\n",
    "\n",
    "    matrix = [[true, false, false],\n",
    "              [false, true, false],\n",
    "              [false, false, false]]\n",
    "    the output should be\n",
    "\n",
    "    minesweeper(matrix) = [[1, 2, 1],\n",
    "                           [2, 1, 1],\n",
    "                           [1, 1, 1]]\n",
    "\n",
    "\n",
    "    [execution time limit] 4 seconds (py3)\n",
    "\n",
    "    [input] array.array.boolean matrix\n",
    "\n",
    "    A non-empty rectangular matrix consisting of boolean values - true if the corresponding cell contains a mine, false otherwise.\n",
    "\n",
    "    Guaranteed constraints:\n",
    "    2 ≤ matrix.length ≤ 100,\n",
    "    2 ≤ matrix[0].length ≤ 100.\n",
    "\n",
    "    [output] array.array.integer\n",
    "\n",
    "    Rectangular matrix of the same size as matrix each cell of which contains an integer equal to the number of mines in the neighboring cells. Two cells are called neighboring if they share at least one corner."
   ]
  },
  {
   "cell_type": "markdown",
   "metadata": {},
   "source": [
    "    Test 1:\n",
    "        Input:\n",
    "        matrix:\n",
    "        [[true,false,false], \n",
    "         [false,true,false], \n",
    "         [false,false,false]]\n",
    "        \n",
    "        Expected Output:\n",
    "        [[1,2,1], \n",
    "         [2,1,1], \n",
    "         [1,1,1]]\n",
    "\n",
    "\n",
    "    Test 2:\n",
    "        Input:\n",
    "        matrix:\n",
    "        [[false,false,false], \n",
    "         [false,false,false]]\n",
    "        \n",
    "        Expected Output:\n",
    "        [[0,0,0], \n",
    "         [0,0,0]]\n",
    "\n",
    "\n",
    "    Test 3:\n",
    "        matrix:\n",
    "        [[true,false,false,true], \n",
    "         [false,false,true,false], \n",
    "         [true,true,false,true]]\n",
    "        \n",
    "        Expected Output:\n",
    "        [[0,2,2,1], \n",
    "         [3,4,3,3], \n",
    "         [1,2,3,1]]\n",
    "\n",
    "\n",
    "    Test 4:\n",
    "        matrix:\n",
    "        [[true,false], \n",
    "         [true,false], \n",
    "         [false,true], \n",
    "         [false,false], \n",
    "         [false,false]]\n",
    "        \n",
    "        Expected Output:\n",
    "        [[1,2], \n",
    "         [2,3], \n",
    "         [2,1], \n",
    "         [1,1], \n",
    "         [0,0]]\n",
    "\n",
    "\n",
    "    Test 5:\n",
    "        matrix:\n",
    "        [[false,true,true,false], \n",
    "         [true,true,false,true], \n",
    "         [false,false,true,false]]\n",
    "        \n",
    "        Expected Output:\n",
    "        [[3,3,3,2], \n",
    "         [2,4,5,2], \n",
    "         [2,3,2,2]]"
   ]
  },
  {
   "cell_type": "markdown",
   "metadata": {},
   "source": [
    "### Problem 4:\n",
    "    In the pre-smartphone era,each number key is assigned a subset of the alphabet {a,b,…,z}. \n",
    "    - 2 is assigned {a,b,c}, \n",
    "    - 3 is assigned {d,e,f} \n",
    "    - 4 is assigned {g,h,i} \n",
    "    - 5 is assigned {j,k,l}\n",
    "    - 6 is assigned {m,n,o} \n",
    "    - 7 is assigned {p,q,r,s}\n",
    "    - 8 is assigned {t,u,v} \n",
    "    - 9 is assigned {w,x,y,z}\n",
    "\n",
    "    Write a function numbers_to_chars() to find the characters generated using key 9999335533. \n",
    "    Output should be \"zeke\"\n",
    "\n",
    "    Function Name : numbers_to_chars()\n",
    "    Input : Integer number sequence\n",
    "    Output : Str\n",
    "\n"
   ]
  },
  {
   "cell_type": "markdown",
   "metadata": {},
   "source": [
    "    Test 1\n",
    "        Input : 766655533\n",
    "        Expected Output : 'pole'\n",
    "\n",
    "    Test 2\n",
    "        Input : 55566677778\n",
    "        Expected Output : 'lost'\n",
    "\n",
    "    Test 3\n",
    "        Input : 866676665556664999\n",
    "        Expected Output : 'topology'\n",
    "\n",
    "    Test 4\n",
    "        Input : 2222\n",
    "        Expected Output : 'ca'\n",
    "\n",
    "    Test 5\n",
    "        Input : 22223\n",
    "        Expected Output : 'cad'\n"
   ]
  },
  {
   "cell_type": "markdown",
   "metadata": {},
   "source": [
    "### Problem 5\n",
    "    The goal of this program is to model a game of bowling. Given a series of input the program should output the players final score.\n",
    "\n",
    "    Specification/Rules of Bowling\n",
    "\n",
    "    Each game, or line of bowling, includes ten turns, or frames for the bowler.\n",
    "\n",
    "    In each frame, the bowler gets up to two tries to knock down all the pins.\n",
    "\n",
    "    If in two tries, he fails to knock them all down, his score for that frame is the total number of pins knocked down in his two tries.\n",
    "\n",
    "    If in two tries he knocks them all down, this is called a spare and his score for the frame \n",
    "    is ten plus the number of pins knocked down on his next throw (in his next turn).\n",
    "    If on his first try in the frame he knocks down all the pins, this is called a strike. \n",
    "    His turn is over, and his score for the frame is \n",
    "    ten plus the simple total of the pins knocked down in his next two rolls.\n",
    "\n",
    "    If he gets a spare or strike in the last (tenth) frame, \n",
    "    the bowler gets to throw one or two more bonus balls, respectively. \n",
    "    These bonus throws are taken as part of the same turn. \n",
    "\n",
    "    If the bonus throws knock down all the pins, the process does not repeat:\n",
    "    the bonus throws are only used to calculate the score of the final frame.\n",
    "\n",
    "    The game score is the total of all frame scores.\n",
    "\n",
    "    Example 1: Gutter balls (all zero)\n",
    "    [[0,0],[0,0],[0,0],[0,0],[0,0],[0,0],[0,0],[0,0],[0,0],[0,0]] => final score\n",
    "    -> 0\n",
    "\n",
    "    Example 2: All Threes\n",
    "    [3,3],[3,3],[3,3],[3,3],[3,3],[3,3],[3,3],[3,3],[3,3],[3,3]\n",
    "    -> 60\n",
    "\n",
    "    Example 3: All Spares with first ball a 4\n",
    "    [4,6],[4,6],[4,6],[4,6],[4,6],[4,6],[4,6],[4,6],[4,6],[4,6,4]\n",
    "    -> 140\n",
    "\n",
    "    Example 4: Nine Strikes followed by a gutter ball\n",
    "    [10,0],[10,0],[10,0],[10,0],[10,0],[10,0],[10,0],[10,0],[10,0],[0,0]\n",
    "    10 + 10 + 10 => 30 \n",
    "    -> 240\n",
    "\n",
    "    Example 5: Perfect Game\n",
    "    [10,0],[10,0],[10,0],[10,0],[10,0],[10,0],[10,0],[10,0],[10,0],[10,10,10]\n",
    "    -> 300"
   ]
  }
 ],
 "metadata": {
  "kernelspec": {
   "display_name": "Python 3",
   "language": "python",
   "name": "python3"
  },
  "language_info": {
   "codemirror_mode": {
    "name": "ipython",
    "version": 3
   },
   "file_extension": ".py",
   "mimetype": "text/x-python",
   "name": "python",
   "nbconvert_exporter": "python",
   "pygments_lexer": "ipython3",
   "version": "3.7.6"
  },
  "toc": {
   "base_numbering": 1,
   "nav_menu": {},
   "number_sections": false,
   "sideBar": true,
   "skip_h1_title": false,
   "title_cell": "Table of Contents",
   "title_sidebar": "Contents",
   "toc_cell": false,
   "toc_position": {},
   "toc_section_display": true,
   "toc_window_display": false
  }
 },
 "nbformat": 4,
 "nbformat_minor": 2
}
