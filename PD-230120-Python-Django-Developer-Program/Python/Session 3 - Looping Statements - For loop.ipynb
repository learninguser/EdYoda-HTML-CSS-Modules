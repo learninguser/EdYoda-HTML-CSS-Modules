{
 "cells": [
  {
   "cell_type": "code",
   "execution_count": null,
   "metadata": {},
   "outputs": [],
   "source": [
    "Mutable:\n",
    "    list \n",
    "    dict\n",
    "    set\n",
    "    \n",
    "Immutable\n",
    "    int\n",
    "    float\n",
    "    tuple\n",
    "    str\n",
    "    "
   ]
  },
  {
   "cell_type": "code",
   "execution_count": null,
   "metadata": {},
   "outputs": [],
   "source": [
    "True/False:\n",
    "    - Comparison \n",
    "    - Logical\n",
    "    - Membership \n",
    "    - Identity "
   ]
  },
  {
   "cell_type": "code",
   "execution_count": null,
   "metadata": {},
   "outputs": [],
   "source": [
    "= and =="
   ]
  },
  {
   "cell_type": "code",
   "execution_count": null,
   "metadata": {},
   "outputs": [],
   "source": [
    "== values \n",
    "and is mem location ?"
   ]
  },
  {
   "cell_type": "code",
   "execution_count": 1,
   "metadata": {},
   "outputs": [
    {
     "name": "stdout",
     "output_type": "stream",
     "text": [
      "2215016469480\n",
      "2215024155200\n"
     ]
    }
   ],
   "source": [
    "s1 = \"Python\"\n",
    "print(id(s1))\n",
    "s1 = \"Java\"\n",
    "print(id(s1))\n"
   ]
  },
  {
   "cell_type": "code",
   "execution_count": 2,
   "metadata": {},
   "outputs": [
    {
     "ename": "TypeError",
     "evalue": "argument of type 'int' is not iterable",
     "output_type": "error",
     "traceback": [
      "\u001b[1;31m---------------------------------------------------------------------------\u001b[0m",
      "\u001b[1;31mTypeError\u001b[0m                                 Traceback (most recent call last)",
      "\u001b[1;32m<ipython-input-2-cb8e5a97dbc3>\u001b[0m in \u001b[0;36m<module>\u001b[1;34m()\u001b[0m\n\u001b[1;32m----> 1\u001b[1;33m \u001b[0mprint\u001b[0m\u001b[1;33m(\u001b[0m\u001b[1;36m1\u001b[0m \u001b[1;32min\u001b[0m \u001b[1;36m1000\u001b[0m\u001b[1;33m)\u001b[0m\u001b[1;33m\u001b[0m\u001b[0m\n\u001b[0m",
      "\u001b[1;31mTypeError\u001b[0m: argument of type 'int' is not iterable"
     ]
    }
   ],
   "source": [
    "print(1 in 1000)"
   ]
  },
  {
   "cell_type": "code",
   "execution_count": null,
   "metadata": {},
   "outputs": [],
   "source": [
    "Iterable :\n",
    "    tuple \n",
    "    list \n",
    "    set \n",
    "    dict \n",
    "    str"
   ]
  },
  {
   "cell_type": "code",
   "execution_count": 3,
   "metadata": {},
   "outputs": [
    {
     "name": "stdout",
     "output_type": "stream",
     "text": [
      "Python\n"
     ]
    }
   ],
   "source": [
    "if \"Python\":\n",
    "    print(\"Python\")\n",
    "else:\n",
    "    print(\"Java\")"
   ]
  },
  {
   "cell_type": "code",
   "execution_count": null,
   "metadata": {},
   "outputs": [],
   "source": [
    "Zero : 0 \"\" [] () False {} => False "
   ]
  },
  {
   "cell_type": "code",
   "execution_count": null,
   "metadata": {},
   "outputs": [],
   "source": [
    "Looping Statements:\n",
    "    For\n",
    "    While"
   ]
  },
  {
   "cell_type": "code",
   "execution_count": null,
   "metadata": {},
   "outputs": [],
   "source": [
    "marks = 350 \n",
    "total_marks = 500\n",
    "per = (marks / total_marks) * 100\n",
    "pass_per = 40\n",
    "if per > pass_per:\n",
    "    print(\"pass\")\n",
    "else:\n",
    "    print(\"Fail\")"
   ]
  },
  {
   "cell_type": "code",
   "execution_count": null,
   "metadata": {},
   "outputs": [],
   "source": [
    "student_marks = [200,350,266,150,400]"
   ]
  },
  {
   "cell_type": "code",
   "execution_count": null,
   "metadata": {},
   "outputs": [],
   "source": [
    "marks = 200\n",
    "total_marks = 500\n",
    "per = (marks / total_marks) * 100\n",
    "pass_per = 40\n",
    "if per > pass_per:\n",
    "    print(\"pass\")\n",
    "else:\n",
    "    print(\"Fail\")\n",
    "    \n",
    "marks = 350 \n",
    "total_marks = 500\n",
    "per = (marks / total_marks) * 100\n",
    "pass_per = 40\n",
    "if per > pass_per:\n",
    "    print(\"pass\")\n",
    "else:\n",
    "    print(\"Fail\")\n",
    "    \n",
    "marks = 266\n",
    "total_marks = 500\n",
    "per = (marks / total_marks) * 100\n",
    "pass_per = 40\n",
    "if per > pass_per:\n",
    "    print(\"pass\")\n",
    "else:\n",
    "    print(\"Fail\")\n",
    "    \n",
    "marks = 166\n",
    "total_marks = 500\n",
    "per = (marks / total_marks) * 100\n",
    "pass_per = 40\n",
    "if per > pass_per:\n",
    "    print(\"pass\")\n",
    "else:\n",
    "    print(\"Fail\")\n",
    "    \n",
    "    \n",
    "marks = 400 \n",
    "total_marks = 500\n",
    "per = (marks / total_marks) * 100\n",
    "pass_per = 40\n",
    "if per > pass_per:\n",
    "    print(\"pass\")\n",
    "else:\n",
    "    print(\"Fail\")"
   ]
  },
  {
   "cell_type": "code",
   "execution_count": null,
   "metadata": {},
   "outputs": [],
   "source": [
    "Syntax:"
   ]
  },
  {
   "cell_type": "code",
   "execution_count": null,
   "metadata": {},
   "outputs": [],
   "source": [
    "for [user_defined_variable] in [iterable datatype]"
   ]
  },
  {
   "cell_type": "code",
   "execution_count": null,
   "metadata": {},
   "outputs": [],
   "source": [
    "str\n",
    "list\n",
    "tuple\n",
    "dict \n",
    "set"
   ]
  },
  {
   "cell_type": "code",
   "execution_count": 4,
   "metadata": {},
   "outputs": [
    {
     "name": "stdout",
     "output_type": "stream",
     "text": [
      "10\n",
      "20\n",
      "30\n",
      "40\n",
      "50\n"
     ]
    }
   ],
   "source": [
    "l = [10,20,30,40,50]\n",
    "for value in l:\n",
    "    print(value)"
   ]
  },
  {
   "cell_type": "code",
   "execution_count": 7,
   "metadata": {},
   "outputs": [
    {
     "name": "stdout",
     "output_type": "stream",
     "text": [
      "Fail\n",
      "Pass\n",
      "Pass\n",
      "Fail\n",
      "Pass\n"
     ]
    }
   ],
   "source": [
    "student_marks = [200,350,266,150,400]\n",
    "total_marks = 500\n",
    "pass_marks = 40\n",
    "\n",
    "for marks in student_marks:\n",
    "    per = (marks/total_marks) * 100    \n",
    "    if per > pass_marks:\n",
    "        print(\"Pass\")\n",
    "    else:\n",
    "        print(\"Fail\")"
   ]
  },
  {
   "cell_type": "code",
   "execution_count": 10,
   "metadata": {},
   "outputs": [
    {
     "name": "stdout",
     "output_type": "stream",
     "text": [
      "150\n"
     ]
    }
   ],
   "source": [
    "nums = [10,20,30,40,50]\n",
    "\n",
    "# 1.sum = 0\n",
    "# 2.get one num from list : 10 \n",
    "# 3.add the new no to sum = 0 + 10 = 10 \n",
    "# 4.repeat the same thing from step 2 \n",
    "\n",
    "sum = 0\n",
    "for num in nums:\n",
    "    sum = sum + num\n",
    "print(sum)\n",
    "\n"
   ]
  },
  {
   "cell_type": "code",
   "execution_count": 12,
   "metadata": {},
   "outputs": [
    {
     "name": "stdout",
     "output_type": "stream",
     "text": [
      "o\n",
      "i\n",
      "e\n",
      "a\n",
      "o\n",
      "e\n",
      "a\n"
     ]
    }
   ],
   "source": [
    "chars = \"Python is easy to learn\"\n",
    "vowels = ['a','e','i','o','u']\n",
    "for char in chars:\n",
    "    if char in vowels:\n",
    "        print(char)"
   ]
  },
  {
   "cell_type": "code",
   "execution_count": 13,
   "metadata": {},
   "outputs": [
    {
     "name": "stdout",
     "output_type": "stream",
     "text": [
      "150\n"
     ]
    }
   ],
   "source": [
    "nums = [100,45,12,74,90,150,4,2,1]\n",
    "\n",
    "# 1. max = 0\n",
    "# 2. Get the num from a list(1 no at a atime)\n",
    "# 3. Check if the current no is greater than current max:\n",
    "#        change the max to current value \n",
    "# 4. repeat from step 2 till end of the list\n",
    "max = 0\n",
    "for num in nums:\n",
    "    if num > max:\n",
    "        max = num\n",
    "print(max)"
   ]
  },
  {
   "cell_type": "code",
   "execution_count": null,
   "metadata": {},
   "outputs": [],
   "source": [
    "### HW\n",
    "\n",
    "nums = [100,45,12,74,90,150,4,2,1]\n",
    "\n",
    "max = 0\n",
    "sec_max = 0\n",
    "\n",
    "1. 100 Curr_no > max and curr_no > sec_max\n",
    "        sec_max = max\n",
    "        max = curr_no \n",
    "max = 100 sec_max = 0\n",
    "2. 45  curr_no < max curr_no > sec_max:\n",
    "        sec_max = 45\n",
    "max = 100 sec_max = 45\n",
    "\n",
    "3. 12 curr_no < max and curr_no < sec_max:\n",
    "        "
   ]
  },
  {
   "cell_type": "code",
   "execution_count": null,
   "metadata": {},
   "outputs": [],
   "source": [
    "range(10) : 0 1 2 3 ..... 9 \n",
    "range(10,50) 10 11 12 ....49\n",
    "range(10,50,5) 10 15 20 25 ..... 45"
   ]
  },
  {
   "cell_type": "code",
   "execution_count": 17,
   "metadata": {},
   "outputs": [
    {
     "name": "stdout",
     "output_type": "stream",
     "text": [
      "50\n",
      "45\n",
      "40\n",
      "35\n",
      "30\n",
      "25\n",
      "20\n",
      "15\n",
      "10\n",
      "5\n"
     ]
    }
   ],
   "source": [
    "for value in range(50,0,-5):\n",
    "    print(value)"
   ]
  },
  {
   "cell_type": "code",
   "execution_count": null,
   "metadata": {},
   "outputs": [],
   "source": [
    "5 * 1 = 5\n",
    "5 * 2 = 10\n",
    "5 * 3 = 15\n",
    "\n",
    "\n",
    "\n",
    "5 * 10 = 50 "
   ]
  },
  {
   "cell_type": "code",
   "execution_count": 28,
   "metadata": {},
   "outputs": [
    {
     "name": "stdout",
     "output_type": "stream",
     "text": [
      "5\n",
      "10\n",
      "15\n",
      "20\n",
      "25\n",
      "30\n",
      "35\n",
      "40\n",
      "45\n",
      "50\n"
     ]
    }
   ],
   "source": [
    "for num in range(1,11):\n",
    "    print(5 * num)"
   ]
  },
  {
   "cell_type": "code",
   "execution_count": null,
   "metadata": {},
   "outputs": [],
   "source": [
    "1      2            5\n",
    "2      4            10\n",
    "3      6\n",
    "4        \n",
    "5\n",
    "\n",
    "\n",
    "\n",
    "\n",
    "10                 50"
   ]
  },
  {
   "cell_type": "code",
   "execution_count": 26,
   "metadata": {},
   "outputs": [
    {
     "name": "stdout",
     "output_type": "stream",
     "text": [
      "Hi 100 200\n"
     ]
    }
   ],
   "source": [
    "print(\"Hi\",end = \" \")\n",
    "print(100,end = \" \")\n",
    "print(200)"
   ]
  },
  {
   "cell_type": "code",
   "execution_count": 24,
   "metadata": {},
   "outputs": [
    {
     "name": "stdout",
     "output_type": "stream",
     "text": [
      "100;200\n"
     ]
    }
   ],
   "source": [
    "print(100,200,sep = \";\")"
   ]
  },
  {
   "cell_type": "code",
   "execution_count": null,
   "metadata": {},
   "outputs": [],
   "source": [
    "break \n",
    "continue"
   ]
  },
  {
   "cell_type": "code",
   "execution_count": 36,
   "metadata": {},
   "outputs": [
    {
     "name": "stdout",
     "output_type": "stream",
     "text": [
      "Number not found\n"
     ]
    }
   ],
   "source": [
    "num = [10,20,30,40,50]\n",
    "key = 300\n",
    "for value in num:\n",
    "#     print(value)\n",
    "    if key == value:\n",
    "        print(\"Number found\")\n",
    "        break\n",
    "else:\n",
    "    print(\"Number not found\")\n"
   ]
  }
 ],
 "metadata": {
  "kernelspec": {
   "display_name": "Python 3",
   "language": "python",
   "name": "python3"
  },
  "language_info": {
   "codemirror_mode": {
    "name": "ipython",
    "version": 3
   },
   "file_extension": ".py",
   "mimetype": "text/x-python",
   "name": "python",
   "nbconvert_exporter": "python",
   "pygments_lexer": "ipython3",
   "version": "3.6.5"
  }
 },
 "nbformat": 4,
 "nbformat_minor": 2
}
