{
 "cells": [
  {
   "cell_type": "markdown",
   "metadata": {},
   "source": [
    "# Practice Problems for Strings\n",
    "<hr>"
   ]
  },
  {
   "cell_type": "markdown",
   "metadata": {},
   "source": [
    "    1. Write a Python program to check if a string contains all letters of the alphabet.\n"
   ]
  },
  {
   "cell_type": "markdown",
   "metadata": {},
   "source": [
    "    2. Write a Python program to remove duplicate characters of a given string.\n"
   ]
  },
  {
   "cell_type": "markdown",
   "metadata": {},
   "source": [
    "    3. Write a Python program to get a string from a given string where all occurrences of its first char have been changed to $, except the first char itself.\n",
    "    Sample String : 'restart'\n",
    "    Expected Result : 'resta$t'\n"
   ]
  },
  {
   "cell_type": "markdown",
   "metadata": {},
   "source": [
    "    4. Write a Python program to get a single string from two given strings, separated by a space and swap the first two characters of each string.\n",
    "    Sample String : 'abc', 'xyz'\n",
    "    Expected Result : 'xyc abz'\n"
   ]
  },
  {
   "cell_type": "markdown",
   "metadata": {},
   "source": [
    "    5. Write a Python program to find the first appearance of the substring 'not' and 'poor' from a given string, if 'not'\n",
    "    follows the 'poor', replace the whole 'not'...'poor' substring with 'good' else swap 'not' and 'poor'. Return the\n",
    "    resulting string.\n",
    "    \n",
    "    Sample String : 'The lyrics is not that poor!'\n",
    "    'The lyrics is poor!'\n",
    "    Expected Result : 'The lyrics is good!'\n",
    "    'The lyrics is poor!'\n"
   ]
  },
  {
   "cell_type": "markdown",
   "metadata": {},
   "source": [
    "    6. Write a Python program to remove the nth index character from a nonempty string.\n"
   ]
  },
  {
   "cell_type": "markdown",
   "metadata": {},
   "source": [
    "    7.  Write a Python program to replace the characters which have odd index values of a given string with \"A\".\n"
   ]
  },
  {
   "cell_type": "markdown",
   "metadata": {},
   "source": [
    "    8. Write a Python function to get a string made of 4 copies of the last two characters of a specified string (length\n",
    "    must be at least 2).\n",
    "    \n",
    "    Sample function and result :\n",
    "    insert_end('Python') -> onononon\n",
    "    insert_end('Exercises') -> eseseses\n"
   ]
  },
  {
   "cell_type": "markdown",
   "metadata": {},
   "source": [
    "    9. Write a Python function to reverses a string if it's length is a multiple of 4.\n"
   ]
  },
  {
   "cell_type": "markdown",
   "metadata": {},
   "source": [
    "    10. Write a Python program to sort a string lexicographically.\n",
    "    Lexicographically means a generalization of the way words are alphabetically ordered based on the alphabetical order of\n",
    "    their component letters.\n"
   ]
  },
  {
   "cell_type": "markdown",
   "metadata": {},
   "source": [
    "    11.Write a Python program to display formatted text (width=50) as output\n",
    "\n",
    "    Note: use rjust(), ljust(), center() for adjust string in given width.\n"
   ]
  },
  {
   "cell_type": "markdown",
   "metadata": {},
   "source": [
    "    12. Write a Python program to get a string made of the first 2 and the last 2 chars from a given a string.\n",
    "\n",
    "    If the string length is less than 2, return instead of the empty string.\n"
   ]
  },
  {
   "cell_type": "markdown",
   "metadata": {},
   "source": [
    "    13. Take a string string by input and change the case. if character is in lowercase then make it in uppercase and vicecersa ig character is digit then print digit itself.\n",
    "    \n",
    "    sample input: abCD5e\n",
    "    sample output: ABcd5E\n"
   ]
  },
  {
   "cell_type": "markdown",
   "metadata": {},
   "source": [
    "    14.  Write a Python program to find the first repeated character of a given string where the index of first occurrence is smallest.\n"
   ]
  },
  {
   "cell_type": "markdown",
   "metadata": {},
   "source": [
    "    15. Write a Python program to count the number of characters (character frequency) in a string.\n",
    "    Sample String : google.com'\n",
    "    Expected Result : {'o': 3, 'g': 2, '.': 1, 'e': 1, 'l': 1, 'm': 1, 'c': 1}\n"
   ]
  },
  {
   "cell_type": "markdown",
   "metadata": {},
   "source": [
    "    16. Write a program to print all digits at even place followed by digits at odd place.\n"
   ]
  }
 ],
 "metadata": {
  "kernelspec": {
   "display_name": "Python 3",
   "language": "python",
   "name": "python3"
  },
  "language_info": {
   "codemirror_mode": {
    "name": "ipython",
    "version": 3
   },
   "file_extension": ".py",
   "mimetype": "text/x-python",
   "name": "python",
   "nbconvert_exporter": "python",
   "pygments_lexer": "ipython3",
   "version": "3.6.5"
  }
 },
 "nbformat": 4,
 "nbformat_minor": 4
}
