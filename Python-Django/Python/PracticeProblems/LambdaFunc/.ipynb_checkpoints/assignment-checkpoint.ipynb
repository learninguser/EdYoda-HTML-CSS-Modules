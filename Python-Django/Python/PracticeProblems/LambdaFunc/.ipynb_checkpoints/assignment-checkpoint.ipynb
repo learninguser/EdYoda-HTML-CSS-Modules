{
 "cells": [
  {
   "cell_type": "code",
   "execution_count": 5,
   "metadata": {},
   "outputs": [],
   "source": [
    "# don't change any function name write you all code inside the function only for every question solution \n",
    "# and return you output as mentioned in problem statement.\n",
    "\n",
    "def question_first_solution(marks):\n",
    "    return sorted(marks, key=lambda x: x[1])"
   ]
  },
  {
   "cell_type": "code",
   "execution_count": 6,
   "metadata": {},
   "outputs": [],
   "source": [
    "def question_second_solution(nums):\n",
    "    return 'Even Numbers: ' + str(list(filter(lambda x: x%2 == 0, nums))) + \\\n",
    "    ', Odd Numbers: ' + str(list(filter(lambda x: x%2 != 0, nums)))"
   ]
  },
  {
   "cell_type": "code",
   "execution_count": 4,
   "metadata": {},
   "outputs": [],
   "source": [
    "def question_third_solution(array_nums1, array_nums2):\n",
    "    tFunc = lambda x1: x1 in array_nums1\n",
    "    return list(filter(tFunc,array_nums2))"
   ]
  },
  {
   "cell_type": "code",
   "execution_count": 5,
   "metadata": {},
   "outputs": [],
   "source": [
    "def question_fourth_solution(array_nums):\n",
    "    even = lambda x: x % 2 == 0\n",
    "    odd = lambda x: x % 2 != 0\n",
    "    return (len(list(filter(odd, array_nums))), len(list(filter(even, array_nums))))"
   ]
  },
  {
   "cell_type": "code",
   "execution_count": 7,
   "metadata": {},
   "outputs": [],
   "source": [
    "def question_fifth_solution(weekdays):\n",
    "    tf = lambda x: len(x) == 6\n",
    "    return list(filter(tf, weekdays))"
   ]
  },
  {
   "cell_type": "code",
   "execution_count": 9,
   "metadata": {},
   "outputs": [],
   "source": [
    "def question_sixth_solution(nums1,nums2):\n",
    "    a = list(map(lambda x1, x2: x1 + x2, nums1, nums2))\n",
    "    return a"
   ]
  },
  {
   "cell_type": "code",
   "execution_count": 8,
   "metadata": {},
   "outputs": [],
   "source": [
    "def question_seventh_solution(students):\n",
    "    # Write your code here\n",
    "    pass"
   ]
  },
  {
   "cell_type": "code",
   "execution_count": 9,
   "metadata": {},
   "outputs": [],
   "source": [
    "def question_eighth_solution(texts):\n",
    "    # Write your code here\n",
    "    pass"
   ]
  },
  {
   "cell_type": "code",
   "execution_count": 10,
   "metadata": {},
   "outputs": [],
   "source": [
    "def question_ninth_solution(texts, str):\n",
    "    # Write your code here\n",
    "    pass"
   ]
  },
  {
   "cell_type": "code",
   "execution_count": 11,
   "metadata": {},
   "outputs": [],
   "source": [
    "def question_tenth_solution(nums):\n",
    "    # Write your code here\n",
    "    pass"
   ]
  }
 ],
 "metadata": {
  "kernelspec": {
   "display_name": "Python 3",
   "language": "python",
   "name": "python3"
  },
  "language_info": {
   "codemirror_mode": {
    "name": "ipython",
    "version": 3
   },
   "file_extension": ".py",
   "mimetype": "text/x-python",
   "name": "python",
   "nbconvert_exporter": "python",
   "pygments_lexer": "ipython3",
   "version": "3.7.6"
  },
  "toc": {
   "base_numbering": 1,
   "nav_menu": {},
   "number_sections": true,
   "sideBar": true,
   "skip_h1_title": false,
   "title_cell": "Table of Contents",
   "title_sidebar": "Contents",
   "toc_cell": false,
   "toc_position": {},
   "toc_section_display": true,
   "toc_window_display": false
  }
 },
 "nbformat": 4,
 "nbformat_minor": 4
}
