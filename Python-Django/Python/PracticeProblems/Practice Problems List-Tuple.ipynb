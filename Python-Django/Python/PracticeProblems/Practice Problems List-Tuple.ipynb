{
 "cells": [
  {
   "cell_type": "markdown",
   "metadata": {},
   "source": [
    "# List | Tuple practice problems\n",
    "<hr>"
   ]
  },
  {
   "cell_type": "markdown",
   "metadata": {},
   "source": [
    "    1. Write a program to find product of all elements in a list. \n"
   ]
  },
  {
   "cell_type": "markdown",
   "metadata": {},
   "source": [
    "    2. Write a program to count the number of strings where the string length is 2 or more and the first and last character\n",
    "    are same from a given list of strings.\n"
   ]
  },
  {
   "cell_type": "markdown",
   "metadata": {},
   "source": [
    "    3.Write a program to get a list, sorted in increasing order by the last element in each tuple from a given list of non-\n",
    "    empty tuples.\n"
   ]
  },
  {
   "cell_type": "markdown",
   "metadata": {},
   "source": [
    "    4. Write a program to generate a 3 * 4 * 6  3D array whose each element is *.\n"
   ]
  },
  {
   "cell_type": "markdown",
   "metadata": {},
   "source": [
    "    5.  Write a program to check whether a list contains a given sublist.\n"
   ]
  },
  {
   "cell_type": "markdown",
   "metadata": {},
   "source": [
    "    6. Write a program find common elements in two list of same length.\n"
   ]
  },
  {
   "cell_type": "markdown",
   "metadata": {},
   "source": [
    "    7. Write a program to print sum of 2nd largest and 2nd smallest element in a list.\n"
   ]
  },
  {
   "cell_type": "markdown",
   "metadata": {},
   "source": [
    "    8. Write a program to print list of list element whose sum is 10 in given list.\n",
    "\n",
    "    l = [1,5,3,6,8,9,2,7]\n",
    "\n",
    "    Output = [[1,9],[3,7],[8,2]]\n"
   ]
  },
  {
   "cell_type": "markdown",
   "metadata": {},
   "source": [
    "    9. Write a program to print a list whose 1st element should largest and 2nd should be smallest then 3rd should be 2nd \n",
    "    largest and 4th should be 2nd smallest and so on.\n",
    "\n",
    "    sample:\n",
    "\n",
    "    input = [5,6,7,2,3,4]\n",
    "\n",
    "    output = [7,2,6,3,5,4]\n"
   ]
  },
  {
   "cell_type": "markdown",
   "metadata": {},
   "source": [
    "    10. Write a Python program to insert a given string at the beginning of all items in a list. \n",
    "    Sample list : [1,2,3,4], \n",
    "\n",
    "    string : emp\n",
    "\n",
    "    Expected output : ['emp1', 'emp2', 'emp3', 'emp4']\n"
   ]
  }
 ],
 "metadata": {
  "kernelspec": {
   "display_name": "Python 3",
   "language": "python",
   "name": "python3"
  },
  "language_info": {
   "codemirror_mode": {
    "name": "ipython",
    "version": 3
   },
   "file_extension": ".py",
   "mimetype": "text/x-python",
   "name": "python",
   "nbconvert_exporter": "python",
   "pygments_lexer": "ipython3",
   "version": "3.6.5"
  }
 },
 "nbformat": 4,
 "nbformat_minor": 4
}
