{
 "cells": [
  {
   "cell_type": "code",
   "execution_count": 1,
   "metadata": {},
   "outputs": [],
   "source": [
    "# don't change any function name write you all code inside the function only for every question solution \n",
    "# and return you output as mentioned in problem statement.\n",
    "\n",
    "# question_first_solution\n",
    "class Circle():\n",
    "    def __init__(self,radius):\n",
    "        self.radius = radius\n",
    "        \n",
    "    def getArea(self):\n",
    "        return \"{0:.2f}\".format(self.radius*self.radius*3.14)\n",
    "\n",
    "    def getCircumference(self):\n",
    "        return \"{0:.2f}\".format(2 * self.radius*3.14)\n",
    "    \n",
    "    def Display(self):\n",
    "        return [self.getArea(), self.getCircumference()]"
   ]
  },
  {
   "cell_type": "code",
   "execution_count": 2,
   "metadata": {},
   "outputs": [],
   "source": [
    "# question_second_solution\n",
    "class Student():\n",
    "    def __init__(self,name,roll):\n",
    "        self.name = name\n",
    "        self.roll= roll\n",
    "        \n",
    "    def display(self):\n",
    "        return (self.name, self.roll)\n",
    "    \n",
    "    def setAge(self,age):\n",
    "        self.age = age\n",
    "        return self.age\n",
    "    \n",
    "    def setMarks(self,marks):\n",
    "        self.marks = marks\n",
    "        return self.marks\n"
   ]
  },
  {
   "cell_type": "code",
   "execution_count": 3,
   "metadata": {},
   "outputs": [],
   "source": [
    "# question_third_solution\n",
    "class Temperature():\n",
    "    def convertFahrenhiet(self,celsius):\n",
    "        farenheit = str((celsius * 9/5) + 32) + '0'\n",
    "        return farenheit\n",
    "\n",
    "    def convertCelsius(self,farenhiet):\n",
    "        celsius = str((farenhiet - 32) * 5/9) + '0'\n",
    "        return celsius"
   ]
  },
  {
   "cell_type": "code",
   "execution_count": 4,
   "metadata": {},
   "outputs": [],
   "source": [
    "# question_fourth_solution:\n",
    "class Subset:\n",
    "    def sub_sets(self, sset):\n",
    "        return self.subsetsRecur([], sorted(sset))\n",
    "    \n",
    "    def subsetsRecur(self, current, sset):\n",
    "        if sset:\n",
    "            return self.subsetsRecur(current, sset[1:]) + self.subsetsRecur(current + [sset[0]], sset[1:])\n",
    "        return [current]\n"
   ]
  },
  {
   "cell_type": "code",
   "execution_count": 5,
   "metadata": {},
   "outputs": [],
   "source": [
    "# question_fifth_solution:\n",
    "class Sum:\n",
    "    def twoSum(self, nums, target):\n",
    "        temp = [val for val in nums if val <= target]\n",
    "        indices = []\n",
    "\n",
    "        for idx in range(len(temp)):\n",
    "            for idy in range(idx + 1, len(temp)):\n",
    "                tI = []\n",
    "                if temp[idx] + temp[idy] == target:\n",
    "                    tI.extend([idx, idy])\n",
    "                    indices.append(tuple(tI))\n",
    "\n",
    "        indices = sorted(indices, key=lambda x: x[1])\n",
    "        return indices"
   ]
  },
  {
   "cell_type": "code",
   "execution_count": 7,
   "metadata": {},
   "outputs": [],
   "source": [
    "# question_sixth_solution:\n",
    "class SumEqualsZero:\n",
    "    def threeSum(self, nums):\n",
    "        ans = []\n",
    "        for idx in range(len(nums)):\n",
    "            for idy in range(idx + 1 , len(nums)):\n",
    "                for idz in range(idy + 1, len(nums)):\n",
    "                    if nums[idx] + nums[idy] + nums[idz] == 0:\n",
    "                        ans.append([nums[idx], nums[idy], nums[idz]])\n",
    "        return ans"
   ]
  },
  {
   "cell_type": "code",
   "execution_count": 8,
   "metadata": {},
   "outputs": [],
   "source": [
    "# question_seventh_solution:\n",
    "class RomanToInt:\n",
    "    def roman_to_int(self, s):\n",
    "        rom_val = {'I': 1, 'V': 5, 'X': 10, 'L': 50, 'C': 100, 'D': 500, 'M': 1000}\n",
    "        int_val = 0\n",
    "        for i in range(len(s)):\n",
    "            if i > 0 and rom_val[s[i]] > rom_val[s[i - 1]]:\n",
    "                int_val += rom_val[s[i]] - 2 * rom_val[s[i - 1]]\n",
    "            else:\n",
    "                int_val += rom_val[s[i]]\n",
    "        return int_val"
   ]
  },
  {
   "cell_type": "code",
   "execution_count": 9,
   "metadata": {},
   "outputs": [],
   "source": [
    "# question_eighth_solution:\n",
    "class BankAccount:\n",
    "    def __init__(self):\n",
    "        self.balance = 0\n",
    "\n",
    "    def deposit(self, amount):\n",
    "        if amount >= 50000:\n",
    "            return  'Please provide your pan card details.'\n",
    "        else:\n",
    "            self.balance += amount\n",
    "        return self.balance\n",
    "\n",
    "    # question ninth Solution:\n",
    "    def withdraw(self, amount):\n",
    "        if amount >= 50000:\n",
    "            return  'Please provide your pan card details.'\n",
    "        if amount > self.balance:\n",
    "            return \"You don't have sufficient balance.\"\n",
    "        else:\n",
    "            self.balance -= amount\n",
    "        return self.balance"
   ]
  },
  {
   "cell_type": "code",
   "execution_count": 10,
   "metadata": {},
   "outputs": [],
   "source": [
    "# question tenth solution:\n",
    "class MinimumBalanceAccount(BankAccount):\n",
    "    def __init__(self):\n",
    "        BankAccount.__init__(self)\n",
    "        self.minimum_balance = 5000\n",
    "\n",
    "    def withdraw(self, amount):\n",
    "        if amount >= 50000:\n",
    "            return  'Please provide your pan card details.'\n",
    "        if self.balance - amount < 5000:\n",
    "            return 'Sorry, minimum balance must be maintained.'\n",
    "        else:\n",
    "            self.balance -= amount\n",
    "        return self.balance\n"
   ]
  },
  {
   "cell_type": "code",
   "execution_count": 11,
   "metadata": {},
   "outputs": [],
   "source": []
  }
 ],
 "metadata": {
  "kernelspec": {
   "display_name": "Python 3",
   "language": "python",
   "name": "python3"
  },
  "language_info": {
   "codemirror_mode": {
    "name": "ipython",
    "version": 3
   },
   "file_extension": ".py",
   "mimetype": "text/x-python",
   "name": "python",
   "nbconvert_exporter": "python",
   "pygments_lexer": "ipython3",
   "version": "3.6.9"
  }
 },
 "nbformat": 4,
 "nbformat_minor": 4
}
