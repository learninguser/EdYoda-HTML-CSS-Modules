{
 "cells": [
  {
   "cell_type": "code",
   "execution_count": null,
   "metadata": {},
   "outputs": [],
   "source": [
    "Paytm :\n",
    "    daya: \n",
    "    phone number \n",
    "    email \n",
    "    password \n",
    "    name \n",
    "    \n",
    "    functinalities:\n",
    "    money transfer \n",
    "    recharge \n",
    "    shopping \n",
    "    tickets \n",
    "    bill payments \n",
    "    movie tkts \n",
    "    gold \n",
    "    mutual funds \n",
    "    \n",
    "    \n",
    "user1 = \n",
    "\n",
    "user2 = "
   ]
  },
  {
   "cell_type": "code",
   "execution_count": null,
   "metadata": {},
   "outputs": [],
   "source": [
    "Class :\n",
    "    data\n",
    "    \n",
    "    functinalities \n",
    "    \n",
    "objects  "
   ]
  },
  {
   "cell_type": "code",
   "execution_count": null,
   "metadata": {},
   "outputs": [],
   "source": [
    "reuse \n",
    "maintainable\n",
    "scalable "
   ]
  },
  {
   "cell_type": "code",
   "execution_count": null,
   "metadata": {},
   "outputs": [],
   "source": [
    "proce : c:struct,clojure:atom  \n",
    "oop : c++,java"
   ]
  },
  {
   "cell_type": "code",
   "execution_count": null,
   "metadata": {},
   "outputs": [],
   "source": [
    "User:\n",
    "    username\n",
    "    email \n",
    "    password\n",
    "    \n",
    "    phonenumber \n",
    "    country \n",
    "    linkedin \n",
    "    \n",
    "    signup\n",
    "    login \n",
    "    \n",
    "    change_password\n",
    "    update_email \n",
    "    \n",
    "    \n",
    "    "
   ]
  },
  {
   "cell_type": "code",
   "execution_count": null,
   "metadata": {},
   "outputs": [],
   "source": [
    "Instance variable : every object will have its own copy of a variable"
   ]
  },
  {
   "cell_type": "code",
   "execution_count": 34,
   "metadata": {},
   "outputs": [
    {
     "name": "stdout",
     "output_type": "stream",
     "text": [
      "<__main__.User object at 0x000001B566CD5588>\n",
      "<__main__.User object at 0x000001B566CD55F8>\n",
      "<__main__.User object at 0x000001B566CD56A0>\n",
      "<__main__.User object at 0x000001B566CD5630>\n"
     ]
    }
   ],
   "source": [
    "class User:\n",
    "    def __init__(self,username,email,password):\n",
    "        self.user_name = username\n",
    "        self.email = email\n",
    "        self.password = password\n",
    "        self.is_active = True\n",
    "    \n",
    "    def add_contact(self,number):\n",
    "        self.number = number\n",
    "        \n",
    "    def login(self,username,password):\n",
    "        if self.user_name == username and self.password == password:\n",
    "            return True\n",
    "        else:\n",
    "            return False\n",
    "        \n",
    "    def get_details(self):\n",
    "        return self.user_name,self.email\n",
    "    \n",
    "    def change_active_status(self,status):\n",
    "        self.is_active = status\n",
    "        return self.is_active\n",
    "\n",
    "\n",
    "user1 = User(\"abc\",\"abc@xyz.com\",\"abc@123\")\n",
    "# User(user1,\"abc\",\"abc@xyz.com\",\"abc@123\")\n",
    "print(user1)\n",
    "\n",
    "user2 = User(\"xyz\",\"pqr@xyz.com\",\"pqr@123\")\n",
    "print(user2)\n",
    "\n",
    "\n",
    "user3 = User(\"rst\",\"rst@xyz.com\",\"pqr@123\")\n",
    "print(user3)\n",
    "\n",
    "user4 = User(\"qwe\",\"qwe@xyz.com\",\"pqr@123\")\n",
    "print(user4)\n"
   ]
  },
  {
   "cell_type": "code",
   "execution_count": 27,
   "metadata": {},
   "outputs": [
    {
     "name": "stdout",
     "output_type": "stream",
     "text": [
      "True\n"
     ]
    }
   ],
   "source": [
    "print(user1.is_active)"
   ]
  },
  {
   "cell_type": "code",
   "execution_count": 35,
   "metadata": {},
   "outputs": [
    {
     "name": "stdout",
     "output_type": "stream",
     "text": [
      "False\n"
     ]
    }
   ],
   "source": [
    "print(user2.change_active_status(False))"
   ]
  },
  {
   "cell_type": "code",
   "execution_count": 36,
   "metadata": {},
   "outputs": [],
   "source": [
    "users = [user1,user2,user3,user4]"
   ]
  },
  {
   "cell_type": "code",
   "execution_count": 37,
   "metadata": {},
   "outputs": [
    {
     "name": "stdout",
     "output_type": "stream",
     "text": [
      "('abc', 'abc@xyz.com')\n",
      "('rst', 'rst@xyz.com')\n",
      "('qwe', 'qwe@xyz.com')\n"
     ]
    }
   ],
   "source": [
    "for user in users:\n",
    "    if user.is_active:\n",
    "        print(user.get_details())"
   ]
  },
  {
   "cell_type": "code",
   "execution_count": 21,
   "metadata": {},
   "outputs": [],
   "source": [
    "user1.add_contact(\"9123456789\")\n",
    "# User.add_contact(user1,\"912345678\")"
   ]
  },
  {
   "cell_type": "code",
   "execution_count": 22,
   "metadata": {},
   "outputs": [
    {
     "name": "stdout",
     "output_type": "stream",
     "text": [
      "('abc', 'abc@xyz.com', '9123456789')\n"
     ]
    },
    {
     "ename": "AttributeError",
     "evalue": "'User' object has no attribute 'number'",
     "output_type": "error",
     "traceback": [
      "\u001b[1;31m---------------------------------------------------------------------------\u001b[0m",
      "\u001b[1;31mAttributeError\u001b[0m                            Traceback (most recent call last)",
      "\u001b[1;32m<ipython-input-22-31b12eded87a>\u001b[0m in \u001b[0;36m<module>\u001b[1;34m()\u001b[0m\n\u001b[0;32m      1\u001b[0m \u001b[0mprint\u001b[0m\u001b[1;33m(\u001b[0m\u001b[0muser1\u001b[0m\u001b[1;33m.\u001b[0m\u001b[0mget_details\u001b[0m\u001b[1;33m(\u001b[0m\u001b[1;33m)\u001b[0m\u001b[1;33m)\u001b[0m\u001b[1;33m\u001b[0m\u001b[0m\n\u001b[1;32m----> 2\u001b[1;33m \u001b[0mprint\u001b[0m\u001b[1;33m(\u001b[0m\u001b[0muser2\u001b[0m\u001b[1;33m.\u001b[0m\u001b[0mget_details\u001b[0m\u001b[1;33m(\u001b[0m\u001b[1;33m)\u001b[0m\u001b[1;33m)\u001b[0m\u001b[1;33m\u001b[0m\u001b[0m\n\u001b[0m",
      "\u001b[1;32m<ipython-input-20-e106fed646ca>\u001b[0m in \u001b[0;36mget_details\u001b[1;34m(self)\u001b[0m\n\u001b[0;32m      9\u001b[0m \u001b[1;33m\u001b[0m\u001b[0m\n\u001b[0;32m     10\u001b[0m     \u001b[1;32mdef\u001b[0m \u001b[0mget_details\u001b[0m\u001b[1;33m(\u001b[0m\u001b[0mself\u001b[0m\u001b[1;33m)\u001b[0m\u001b[1;33m:\u001b[0m\u001b[1;33m\u001b[0m\u001b[0m\n\u001b[1;32m---> 11\u001b[1;33m         \u001b[1;32mreturn\u001b[0m \u001b[0mself\u001b[0m\u001b[1;33m.\u001b[0m\u001b[0muser_name\u001b[0m\u001b[1;33m,\u001b[0m\u001b[0mself\u001b[0m\u001b[1;33m.\u001b[0m\u001b[0memail\u001b[0m\u001b[1;33m,\u001b[0m\u001b[0mself\u001b[0m\u001b[1;33m.\u001b[0m\u001b[0mnumber\u001b[0m\u001b[1;33m\u001b[0m\u001b[0m\n\u001b[0m\u001b[0;32m     12\u001b[0m \u001b[1;33m\u001b[0m\u001b[0m\n\u001b[0;32m     13\u001b[0m \u001b[1;33m\u001b[0m\u001b[0m\n",
      "\u001b[1;31mAttributeError\u001b[0m: 'User' object has no attribute 'number'"
     ]
    }
   ],
   "source": [
    "print(user1.get_details())\n",
    "# print(user2.get_details())"
   ]
  },
  {
   "cell_type": "code",
   "execution_count": 25,
   "metadata": {},
   "outputs": [
    {
     "name": "stdout",
     "output_type": "stream",
     "text": [
      "False\n"
     ]
    }
   ],
   "source": [
    "result = user1.login(\"abc\",\"abc@124\")\n",
    "print(result)"
   ]
  },
  {
   "cell_type": "code",
   "execution_count": 6,
   "metadata": {},
   "outputs": [
    {
     "name": "stdout",
     "output_type": "stream",
     "text": [
      "abc\n",
      "pqr\n"
     ]
    }
   ],
   "source": [
    "print(user1.user_name)\n",
    "print(user2.user_name)"
   ]
  },
  {
   "cell_type": "code",
   "execution_count": 10,
   "metadata": {},
   "outputs": [
    {
     "name": "stdout",
     "output_type": "stream",
     "text": [
      "abc\n"
     ]
    }
   ],
   "source": [
    "class User:\n",
    "    def signup(self,username,email,password):\n",
    "        self.user_name = username\n",
    "        self.email = email\n",
    "        self.password = password\n",
    "        \n",
    "\n",
    "user1 = User()\n",
    "user1.signup(\"abc\",\"abc@xyz.com\",\"abc@123\")\n",
    "# User.signup(user1,\"abc\",\"abc@xyz.com\",\"abc@123\")\n",
    "print(user1.user_name)"
   ]
  },
  {
   "cell_type": "code",
   "execution_count": null,
   "metadata": {},
   "outputs": [],
   "source": [
    "Student :\n",
    "    roll_no\n",
    "    class \n",
    "    marks : {\"sub\":80....5}\n",
    "    \n",
    "Total marks  = 500\n",
    "1 calulate the per for every student \n",
    "2. if per more than 40 : result : pass/fail \n",
    "3. All failed students and their details \n",
    "4. Top 3 students \n",
    "    "
   ]
  }
 ],
 "metadata": {
  "kernelspec": {
   "display_name": "Python 3",
   "language": "python",
   "name": "python3"
  },
  "language_info": {
   "codemirror_mode": {
    "name": "ipython",
    "version": 3
   },
   "file_extension": ".py",
   "mimetype": "text/x-python",
   "name": "python",
   "nbconvert_exporter": "python",
   "pygments_lexer": "ipython3",
   "version": "3.6.5"
  }
 },
 "nbformat": 4,
 "nbformat_minor": 2
}
