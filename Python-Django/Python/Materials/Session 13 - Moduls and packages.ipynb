{
 "cells": [
  {
   "cell_type": "code",
   "execution_count": null,
   "metadata": {},
   "outputs": [],
   "source": [
    "Parameter passing tech:\n",
    "        1. default => def \n",
    "        2. positional \n",
    "        3. var length positional *args => tuple  \n",
    "        4. keyword args call \n",
    "        5. var len keyword **kwargs => dict  \n",
    "        6. unpacking *l => positional ,**d => keyword "
   ]
  },
  {
   "cell_type": "code",
   "execution_count": null,
   "metadata": {},
   "outputs": [],
   "source": [
    "def add(num1,num2):\n",
    "    return num1 + num2\n",
    "\n",
    "add(num2 = 100,num1 = 200)"
   ]
  },
  {
   "cell_type": "code",
   "execution_count": null,
   "metadata": {},
   "outputs": [],
   "source": [
    "positional\n",
    "default \n",
    "keyword \n",
    "var positional \n",
    "var length keyword "
   ]
  },
  {
   "cell_type": "code",
   "execution_count": null,
   "metadata": {},
   "outputs": [],
   "source": [
    "def print_val():\n",
    "    global num1\n",
    "    a =100\n",
    "    num1 = 1000\n",
    "num1 = 500 \n",
    "print(a)"
   ]
  },
  {
   "cell_type": "code",
   "execution_count": null,
   "metadata": {},
   "outputs": [],
   "source": [
    "5! : 5 * 4 * 3 * 2 * 1 "
   ]
  },
  {
   "cell_type": "code",
   "execution_count": null,
   "metadata": {},
   "outputs": [],
   "source": [
    "5! = 5 * 4!\n",
    "         4 * 3!\n",
    "             3 * 2!\n",
    "                 2 * 1!\n",
    "                      1"
   ]
  },
  {
   "cell_type": "code",
   "execution_count": 1,
   "metadata": {},
   "outputs": [
    {
     "name": "stdout",
     "output_type": "stream",
     "text": [
      "120\n"
     ]
    }
   ],
   "source": [
    "def fact(num):\n",
    "    if num == 1:\n",
    "        return 1\n",
    "    else:\n",
    "        return num * fact(num-1)\n",
    "    \n",
    "num = 5\n",
    "print(fact(num))"
   ]
  },
  {
   "cell_type": "code",
   "execution_count": null,
   "metadata": {},
   "outputs": [],
   "source": [
    "fact(5) => return 5 * fact(4) => return 5 * 24 = 120 \n",
    "            => return 4 * fact(3) => return 4 * 6 => 24 \n",
    "                 => return 3 * fact(2) => return 3 * 2 = > 6 \n",
    "                    => return 2 * fact(1) => return 2 * 1 => 2 \n",
    "                        => return 1"
   ]
  },
  {
   "cell_type": "code",
   "execution_count": null,
   "metadata": {},
   "outputs": [],
   "source": [
    "fact(5) => return 5 * fact(4) => return 5 * 24 = 120 \n",
    "            => return 4 * fact(3) => return 4 * 6 => 24 \n",
    "                 => return 3 * fact(2) => return 3 * 2 = > 6 \n",
    "                    => return 2 * fact(1) => return 2 * 1 => 2 \n",
    "                        => print(1) None"
   ]
  },
  {
   "cell_type": "code",
   "execution_count": null,
   "metadata": {},
   "outputs": [],
   "source": [
    "l = [10,20,30,40,50,60,70,80,90]\n",
    "key = 700"
   ]
  },
  {
   "cell_type": "code",
   "execution_count": null,
   "metadata": {},
   "outputs": [],
   "source": [
    "1. find mid element len(l) // 2 \n",
    "   mid_index => 4 mid_ele => 50 \n",
    "2. Check if key == mid ele 50 == 70 ? No \n",
    "\n",
    "3. key > mid_ele 70 > 50:\n",
    "         l = [60,70,80,90]\n",
    "         key = 70 \n",
    "            \n",
    "4. key < mid_ele"
   ]
  },
  {
   "cell_type": "code",
   "execution_count": 8,
   "metadata": {},
   "outputs": [
    {
     "name": "stdout",
     "output_type": "stream",
     "text": [
      "True\n"
     ]
    }
   ],
   "source": [
    "def binary_search(l,key):\n",
    "    if not l:\n",
    "        return False\n",
    "    else:\n",
    "        mid_index = len(l) // 2\n",
    "        if key == l[mid_index]:\n",
    "            return True\n",
    "        elif key < l[mid_index]:\n",
    "            return binary_search(l[:mid_index],key)    \n",
    "        else:\n",
    "            return binary_search(l[mid_index +1:],key)\n",
    "    \n",
    "l = [10,20,30,40,50,60,70,80,90]\n",
    "key = 60\n",
    "print(binary_search(sorted(l),key))"
   ]
  },
  {
   "cell_type": "code",
   "execution_count": null,
   "metadata": {},
   "outputs": [],
   "source": [
    "bs(l,key) = > binary_search([60,70,80,90],60)\n",
    "                    binary_search([60,70],60)\n",
    "                        True\n",
    "                            return True"
   ]
  }
 ],
 "metadata": {
  "kernelspec": {
   "display_name": "Python 3",
   "language": "python",
   "name": "python3"
  },
  "language_info": {
   "codemirror_mode": {
    "name": "ipython",
    "version": 3
   },
   "file_extension": ".py",
   "mimetype": "text/x-python",
   "name": "python",
   "nbconvert_exporter": "python",
   "pygments_lexer": "ipython3",
   "version": "3.6.5"
  }
 },
 "nbformat": 4,
 "nbformat_minor": 2
}
