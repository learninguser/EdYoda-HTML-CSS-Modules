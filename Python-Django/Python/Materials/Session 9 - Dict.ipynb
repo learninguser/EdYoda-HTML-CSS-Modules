{
 "cells": [
  {
   "cell_type": "code",
   "execution_count": 5,
   "metadata": {},
   "outputs": [
    {
     "ename": "SyntaxError",
     "evalue": "invalid syntax (<ipython-input-5-bc66c098ea83>, line 1)",
     "output_type": "error",
     "traceback": [
      "\u001b[1;36m  File \u001b[1;32m\"<ipython-input-5-bc66c098ea83>\"\u001b[1;36m, line \u001b[1;32m1\u001b[0m\n\u001b[1;33m    Dict :\u001b[0m\n\u001b[1;37m          ^\u001b[0m\n\u001b[1;31mSyntaxError\u001b[0m\u001b[1;31m:\u001b[0m invalid syntax\n"
     ]
    }
   ],
   "source": [
    "Dict :\n",
    "    - mutable add,update and delete \n",
    "    - unordered - indeing and slicing not supported  \n",
    "    - all keys should be unique\n",
    "    - all the keys should be immutable : int,str,tuple,float "
   ]
  },
  {
   "cell_type": "code",
   "execution_count": 4,
   "metadata": {},
   "outputs": [
    {
     "name": "stdout",
     "output_type": "stream",
     "text": [
      "<class 'dict'> {'name': 'abc'}\n"
     ]
    }
   ],
   "source": [
    "d = {\"name\":\"abc\"}\n",
    "print(type(d),d)"
   ]
  },
  {
   "cell_type": "code",
   "execution_count": null,
   "metadata": {},
   "outputs": [],
   "source": [
    "l = [10,20,30,40]"
   ]
  },
  {
   "cell_type": "code",
   "execution_count": null,
   "metadata": {},
   "outputs": [],
   "source": [
    "hash table"
   ]
  },
  {
   "cell_type": "code",
   "execution_count": null,
   "metadata": {},
   "outputs": [],
   "source": [
    "\"name\" :\"abc\"\n",
    "hash(\"name\") \n",
    "\n",
    "\"email\":\"abc@gmail.com\""
   ]
  },
  {
   "cell_type": "code",
   "execution_count": null,
   "metadata": {},
   "outputs": [],
   "source": [
    "Hash table  => array \n",
    "hash index key value  \n",
    "1167       name \n"
   ]
  },
  {
   "cell_type": "code",
   "execution_count": 6,
   "metadata": {},
   "outputs": [
    {
     "name": "stdout",
     "output_type": "stream",
     "text": [
      "4497277871464371167\n"
     ]
    }
   ],
   "source": [
    "print(hash(\"name\"))"
   ]
  },
  {
   "cell_type": "code",
   "execution_count": null,
   "metadata": {},
   "outputs": [],
   "source": [
    "O(1)\n",
    "O(n)"
   ]
  },
  {
   "cell_type": "code",
   "execution_count": 7,
   "metadata": {},
   "outputs": [
    {
     "name": "stdout",
     "output_type": "stream",
     "text": [
      "30\n"
     ]
    }
   ],
   "source": [
    "l = [10,20,30,40,50]\n",
    "print(l[2])"
   ]
  },
  {
   "cell_type": "code",
   "execution_count": 8,
   "metadata": {},
   "outputs": [
    {
     "name": "stdout",
     "output_type": "stream",
     "text": [
      "{'name': 'pqr', 'email': 'abc@gmail.com'}\n"
     ]
    }
   ],
   "source": [
    "d = {[10,20]:\"abc\",[10,20,30]:\"abc@gmail.com\",\"name\":\"pqr\"}\n",
    "print(d)"
   ]
  },
  {
   "cell_type": "code",
   "execution_count": 14,
   "metadata": {},
   "outputs": [
    {
     "name": "stdout",
     "output_type": "stream",
     "text": [
      "abc\n"
     ]
    }
   ],
   "source": [
    "d = {\"name\":\"abc\",\"email\":\"abc@gmail.com\",\"age\":50}\n",
    "print(d[\"name\"])"
   ]
  },
  {
   "cell_type": "code",
   "execution_count": 1,
   "metadata": {},
   "outputs": [
    {
     "name": "stdout",
     "output_type": "stream",
     "text": [
      "{'name': 'abc', 'email': 'abc@gmail.com', 'age': 50, 'contact': '9123456789'}\n",
      "{'name': 'abc', 'email': 'abc@gmail.com', 'age': 50, 'contact': '9123456789'}\n"
     ]
    }
   ],
   "source": [
    "d = {\"name\":\"abc\",\"email\":\"abc@gmail.com\",\"age\":50}\n",
    "d['contact'] = \"9123456789\"\n",
    "print(d)\n",
    "\n",
    "d['contact'] = \"9123456789\"\n",
    "print(d)"
   ]
  },
  {
   "cell_type": "code",
   "execution_count": 2,
   "metadata": {},
   "outputs": [
    {
     "name": "stdout",
     "output_type": "stream",
     "text": [
      "{'name': 'abc', 'email': 'abc@gmail.com', 'age': 50, 'contact': '9123456789'}\n",
      "-1\n",
      "None\n",
      "{'name': 'abc', 'email': 'abc@gmail.com', 'age': 50, 'contact': '9123456789', 'id': None}\n"
     ]
    }
   ],
   "source": [
    "print(d)\n",
    "# print(d['id'])\n",
    "print(d.get(\"id\",-1))\n",
    "print(d.setdefault(\"id\"))\n",
    "print(d)"
   ]
  },
  {
   "cell_type": "code",
   "execution_count": null,
   "metadata": {},
   "outputs": [],
   "source": [
    "d[key] = value\n",
    "d.setdefault(\"key\",\"default value\")"
   ]
  },
  {
   "cell_type": "code",
   "execution_count": null,
   "metadata": {},
   "outputs": [],
   "source": [
    "1:1,2:4,3:9.....10:100"
   ]
  },
  {
   "cell_type": "code",
   "execution_count": 3,
   "metadata": {},
   "outputs": [
    {
     "name": "stdout",
     "output_type": "stream",
     "text": [
      "{1: 1, 2: 4, 3: 9, 4: 16, 5: 25, 6: 36, 7: 49, 8: 64, 9: 81, 10: 100}\n"
     ]
    }
   ],
   "source": [
    "d = {}\n",
    "for num in range(1,11):\n",
    "    d[num] = num ** 2\n",
    "    \n",
    "print(d)"
   ]
  },
  {
   "cell_type": "code",
   "execution_count": 4,
   "metadata": {},
   "outputs": [
    {
     "name": "stdout",
     "output_type": "stream",
     "text": [
      "{1: 1, 2: 4, 3: 9, 4: 16, 5: 25, 6: 36, 7: 49, 8: 64, 9: 81, 10: 100}\n"
     ]
    }
   ],
   "source": [
    "d = {}\n",
    "for num in range(1,11):\n",
    "    d.setdefault(num,num ** 2)\n",
    "    \n",
    "print(d)"
   ]
  },
  {
   "cell_type": "code",
   "execution_count": null,
   "metadata": {},
   "outputs": [],
   "source": [
    "l = [10,15,20,16,25,14,89,10,100]\n",
    "\n",
    "{(1,10):0,(11,20):0,(21,30):0,(31,40):0.....(91,:100):0}\n",
    "\n",
    "{(1,10):2,(11,20):4,(21,30):0,(31,40):0.....(91,:100):0}\n"
   ]
  },
  {
   "cell_type": "code",
   "execution_count": 5,
   "metadata": {},
   "outputs": [
    {
     "name": "stdout",
     "output_type": "stream",
     "text": [
      "[1, 11, 21, 31, 41, 51, 61, 71, 81, 91]\n"
     ]
    }
   ],
   "source": [
    "#{(1,10):0,(11,20):0,(21,30):0,(31,40):0.....(91,:100):0}\n",
    "print(list(range(1,92,10)))"
   ]
  },
  {
   "cell_type": "code",
   "execution_count": 7,
   "metadata": {},
   "outputs": [
    {
     "name": "stdout",
     "output_type": "stream",
     "text": [
      "{(1, 10): 0, (11, 20): 0, (21, 30): 0, (31, 40): 0, (41, 50): 0, (51, 60): 0, (61, 70): 0, (71, 80): 0, (81, 90): 0, (91, 100): 0}\n"
     ]
    }
   ],
   "source": [
    "d = {}\n",
    "for num in range(1,92,10):\n",
    "    d.setdefault((num,num + 9),0)\n",
    "print(d)"
   ]
  },
  {
   "cell_type": "code",
   "execution_count": 14,
   "metadata": {},
   "outputs": [
    {
     "name": "stdout",
     "output_type": "stream",
     "text": [
      "{(1, 10): 0, (11, 20): 0, (21, 30): 0, (31, 40): 0, (41, 50): 0, (51, 60): 0, (61, 70): 0, (71, 80): 0, (81, 90): 0, (91, 100): 0}\n",
      "{(1, 10): 0, (11, 20): 0, (21, 30): 0, (31, 40): 0, (41, 50): 0, (51, 60): 1, (61, 70): 0, (71, 80): 0, (81, 90): 0, (91, 100): 0}\n"
     ]
    }
   ],
   "source": [
    "d = {}\n",
    "for num in range(1,92,10):\n",
    "    d.setdefault((num,num + 9),0)\n",
    "print(d)\n",
    "\n",
    "num = 55\n",
    "\n",
    "for x in d:\n",
    "    if num > x[0] and num <= x[1]:\n",
    "        d[x] += 1\n",
    "        \n",
    "print(d)"
   ]
  },
  {
   "cell_type": "code",
   "execution_count": 16,
   "metadata": {},
   "outputs": [
    {
     "name": "stdout",
     "output_type": "stream",
     "text": [
      "{(1, 10): 0, (11, 20): 0, (21, 30): 0, (31, 40): 0, (41, 50): 0, (51, 60): 0, (61, 70): 0, (71, 80): 0, (81, 90): 0, (91, 100): 0}\n",
      "{(1, 10): 2, (11, 20): 3, (21, 30): 1, (31, 40): 0, (41, 50): 1, (51, 60): 1, (61, 70): 0, (71, 80): 1, (81, 90): 1, (91, 100): 0}\n"
     ]
    }
   ],
   "source": [
    "d = {}\n",
    "for num in range(1,92,10):\n",
    "    d.setdefault((num,num + 9),0)\n",
    "print(d)\n",
    "\n",
    "\n",
    "nums = [10,15,20,25,45,10,12,56,74,85]\n",
    "\n",
    "for num in nums:\n",
    "    for x in d:\n",
    "        if num > x[0] and num <= x[1]:\n",
    "            d[x] += 1\n",
    "            break\n",
    "        \n",
    "print(d)"
   ]
  },
  {
   "cell_type": "code",
   "execution_count": 18,
   "metadata": {},
   "outputs": [
    {
     "name": "stdout",
     "output_type": "stream",
     "text": [
      "{'a': 6, 'b': 2, 'c': 5, 'd': 2, 's': 3}\n"
     ]
    }
   ],
   "source": [
    "s = \"abbcddsssccccaaaaa\"\n",
    "# d = {\"a\":8,\"b\":6,\"c\":2}\n",
    "d = {}\n",
    "\n",
    "for char in s:\n",
    "    if char not in d:\n",
    "        d.setdefault(char,s.count(char))\n",
    "print(d)"
   ]
  },
  {
   "cell_type": "code",
   "execution_count": 21,
   "metadata": {},
   "outputs": [
    {
     "name": "stdout",
     "output_type": "stream",
     "text": [
      "1 1\n",
      "2 4\n",
      "3 9\n",
      "4 16\n"
     ]
    }
   ],
   "source": [
    "d = {1:1,2:4,3:9,4:16}\n",
    "for key,value in d.items():\n",
    "    print(key,value)"
   ]
  },
  {
   "cell_type": "code",
   "execution_count": 24,
   "metadata": {},
   "outputs": [
    {
     "name": "stdout",
     "output_type": "stream",
     "text": [
      "dict_keys([1, 2, 3, 4])\n",
      "dict_items([(1, 1), (2, 4), (3, 9), (4, 16)])\n",
      "dict_values([1, 4, 9, 16])\n"
     ]
    }
   ],
   "source": [
    "d = {1:1,2:4,3:9,4:16}\n",
    "print(d.keys())\n",
    "print(d.items())\n",
    "print(d.values())"
   ]
  },
  {
   "cell_type": "code",
   "execution_count": 25,
   "metadata": {},
   "outputs": [
    {
     "name": "stdout",
     "output_type": "stream",
     "text": [
      "phy\n",
      "chem\n"
     ]
    }
   ],
   "source": [
    "d = {\"maths\":55,\"phy\":35,\"chem\":25,\"eng\":80}\n",
    "pass_marks = 40\n",
    "for key,value in d.items():\n",
    "    if value < pass_marks:\n",
    "        print(key)"
   ]
  },
  {
   "cell_type": "code",
   "execution_count": null,
   "metadata": {},
   "outputs": [],
   "source": [
    "d = {\"maths\":55,\"phy\":35,\"chem\":25,\"eng\":80}\n",
    "pass_marks = 40\n",
    "for value in d.values():\n",
    "    if value < pass_marks:\n",
    "        print(key)"
   ]
  },
  {
   "cell_type": "code",
   "execution_count": null,
   "metadata": {},
   "outputs": [],
   "source": [
    "Delete:\n",
    "    popitem\n",
    "    pop\n",
    "    del\n",
    "    clear "
   ]
  },
  {
   "cell_type": "code",
   "execution_count": 27,
   "metadata": {},
   "outputs": [
    {
     "name": "stdout",
     "output_type": "stream",
     "text": [
      "{'maths': 55, 'phy': 35, 'chem': 25} ('eng', 80)\n"
     ]
    }
   ],
   "source": [
    "d = {\"maths\":55,\"phy\":35,\"chem\":25,\"eng\":80}\n",
    "r = d.popitem()\n",
    "print(d,r)"
   ]
  },
  {
   "cell_type": "code",
   "execution_count": 30,
   "metadata": {},
   "outputs": [
    {
     "name": "stdout",
     "output_type": "stream",
     "text": [
      "{'maths': 55, 'chem': 25, 'eng': 80} 35\n"
     ]
    }
   ],
   "source": [
    "d = {\"maths\":55,\"phy\":35,\"chem\":25,\"eng\":80}\n",
    "r = d.pop(\"phy\")\n",
    "print(d,r)"
   ]
  },
  {
   "cell_type": "code",
   "execution_count": 28,
   "metadata": {},
   "outputs": [
    {
     "name": "stdout",
     "output_type": "stream",
     "text": [
      "Help on method_descriptor:\n",
      "\n",
      "popitem(...)\n",
      "    D.popitem() -> (k, v), remove and return some (key, value) pair as a\n",
      "    2-tuple; but raise KeyError if D is empty.\n",
      "\n"
     ]
    }
   ],
   "source": [
    "help(dict.popitem)"
   ]
  },
  {
   "cell_type": "code",
   "execution_count": null,
   "metadata": {},
   "outputs": [],
   "source": [
    "Add:\n",
    "d[key] = value\n",
    "d.setdeafult(key,value)\n",
    "\n",
    "d[key] = new_value\n",
    "\n",
    "Delete:\n",
    "    pop\n",
    "\n"
   ]
  }
 ],
 "metadata": {
  "kernelspec": {
   "display_name": "Python 3",
   "language": "python",
   "name": "python3"
  },
  "language_info": {
   "codemirror_mode": {
    "name": "ipython",
    "version": 3
   },
   "file_extension": ".py",
   "mimetype": "text/x-python",
   "name": "python",
   "nbconvert_exporter": "python",
   "pygments_lexer": "ipython3",
   "version": "3.6.5"
  }
 },
 "nbformat": 4,
 "nbformat_minor": 2
}
