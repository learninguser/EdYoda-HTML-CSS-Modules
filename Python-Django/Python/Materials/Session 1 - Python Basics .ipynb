{
 "cells": [
  {
   "cell_type": "markdown",
   "metadata": {},
   "source": [
    "### Execution mode:\n",
    "        1. Interactive mode : cmd,python,>>>,quit()\n",
    "        2. Scripting mode : .py, cmd, python file_name.py\n",
    "        3. IDE : Jupyter,Sublime,PyCharm,VSCode,Atom......"
   ]
  },
  {
   "cell_type": "markdown",
   "metadata": {},
   "source": [
    "### Jupyter \n",
    "    - Command Mode : Blue\n",
    "    - Edit Mode : Green\n",
    "    - Execute a cell : ctrl + enter\n",
    "    - Execute a cell and add new cell: shift + enter\n",
    "    - Add new cell below : Command mode,press b\n",
    "    - Add new cell above : Command mode,press a"
   ]
  },
  {
   "cell_type": "code",
   "execution_count": 3,
   "metadata": {},
   "outputs": [
    {
     "name": "stdout",
     "output_type": "stream",
     "text": [
      "Hi\n"
     ]
    }
   ],
   "source": [
    "print(\"Hi\")"
   ]
  },
  {
   "cell_type": "code",
   "execution_count": 4,
   "metadata": {},
   "outputs": [
    {
     "name": "stdout",
     "output_type": "stream",
     "text": [
      "Welcome to python\n"
     ]
    }
   ],
   "source": [
    "print(\"Welcome to python\")"
   ]
  },
  {
   "cell_type": "code",
   "execution_count": null,
   "metadata": {},
   "outputs": [],
   "source": [
    "print(\"Hi\")"
   ]
  },
  {
   "cell_type": "code",
   "execution_count": 5,
   "metadata": {},
   "outputs": [
    {
     "name": "stdout",
     "output_type": "stream",
     "text": [
      "100\n"
     ]
    }
   ],
   "source": [
    "print(100)"
   ]
  },
  {
   "cell_type": "code",
   "execution_count": null,
   "metadata": {},
   "outputs": [],
   "source": [
    "Datatypes: \n",
    "    int 10 12 500 \n",
    "    float 7.55 15.88888888888\n",
    "    str 'Python'  \"Java\" \"\"\"Learning python is easy\"\"\"\n",
    "    list [90,88,70,35,45] [100,200,(100,200,300),\"Python\",{1:1,2:3}] : Mutable\n",
    "    tuple (100,200,300) : Immutable\n",
    "    dict {\"name\":\"ABC\",\"email\":\"abc@xyz.com\"}\n",
    "    set {10,20,30,40,50}\n",
    "    bool True False"
   ]
  },
  {
   "cell_type": "code",
   "execution_count": 6,
   "metadata": {},
   "outputs": [
    {
     "name": "stdout",
     "output_type": "stream",
     "text": [
      "30\n"
     ]
    }
   ],
   "source": [
    "num1 = 10\n",
    "num2 = 20\n",
    "num3 = num1 + num2\n",
    "print(num3)"
   ]
  },
  {
   "cell_type": "code",
   "execution_count": null,
   "metadata": {},
   "outputs": [],
   "source": [
    "variable_name = value"
   ]
  },
  {
   "cell_type": "code",
   "execution_count": 7,
   "metadata": {},
   "outputs": [
    {
     "name": "stdout",
     "output_type": "stream",
     "text": [
      "[70, 80, 90, 88, 100]\n"
     ]
    }
   ],
   "source": [
    "marks = [70,80,90,88,100]\n",
    "print(marks)"
   ]
  },
  {
   "cell_type": "code",
   "execution_count": 8,
   "metadata": {},
   "outputs": [
    {
     "name": "stdout",
     "output_type": "stream",
     "text": [
      "[70, 80, 90, 88, 100] <class 'list'>\n"
     ]
    }
   ],
   "source": [
    "marks = [70,80,90,88,100]\n",
    "print(marks,type(marks))"
   ]
  },
  {
   "cell_type": "code",
   "execution_count": 9,
   "metadata": {},
   "outputs": [
    {
     "name": "stdout",
     "output_type": "stream",
     "text": [
      "{'name': 'abc', 'email': 'abc@gmail.com'} <class 'dict'>\n"
     ]
    }
   ],
   "source": [
    "emp = {\"name\":\"abc\",\"email\":\"abc@gmail.com\"}\n",
    "print(emp,type(emp))"
   ]
  },
  {
   "cell_type": "code",
   "execution_count": 10,
   "metadata": {},
   "outputs": [
    {
     "name": "stdout",
     "output_type": "stream",
     "text": [
      "1969191072\n"
     ]
    }
   ],
   "source": [
    "num1 = 100\n",
    "print(id(num1))"
   ]
  },
  {
   "cell_type": "code",
   "execution_count": null,
   "metadata": {},
   "outputs": [],
   "source": [
    "[0-256]"
   ]
  },
  {
   "cell_type": "code",
   "execution_count": 30,
   "metadata": {},
   "outputs": [
    {
     "name": "stdout",
     "output_type": "stream",
     "text": [
      "2400087650800\n",
      "2400087651536\n"
     ]
    }
   ],
   "source": [
    "num1 = 257\n",
    "print(id(num1))\n",
    "\n",
    "num2 = 257\n",
    "print(id(num2))"
   ]
  },
  {
   "cell_type": "code",
   "execution_count": 16,
   "metadata": {},
   "outputs": [
    {
     "name": "stdout",
     "output_type": "stream",
     "text": [
      "2400087651600\n",
      "2400087651376\n"
     ]
    }
   ],
   "source": [
    "num1 = 1000\n",
    "print(id(num1))\n",
    "\n",
    "num2 = 1000\n",
    "print(id(num2))"
   ]
  },
  {
   "cell_type": "code",
   "execution_count": 31,
   "metadata": {},
   "outputs": [
    {
     "name": "stdout",
     "output_type": "stream",
     "text": [
      "1969191072\n",
      "1969192672\n"
     ]
    }
   ],
   "source": [
    "num1 = 100\n",
    "print(id(num1))\n",
    "\n",
    "num1 = 150\n",
    "print(id(num1))"
   ]
  },
  {
   "cell_type": "code",
   "execution_count": null,
   "metadata": {},
   "outputs": [],
   "source": [
    "100\n",
    "\n",
    "500 num1"
   ]
  },
  {
   "cell_type": "code",
   "execution_count": null,
   "metadata": {},
   "outputs": [],
   "source": [
    "100 \n",
    "500 num1"
   ]
  },
  {
   "cell_type": "code",
   "execution_count": 32,
   "metadata": {},
   "outputs": [
    {
     "name": "stdout",
     "output_type": "stream",
     "text": [
      "2400087650352\n",
      "2400087651248\n"
     ]
    }
   ],
   "source": [
    "num1 = 1000\n",
    "print(id(num1))\n",
    "\n",
    "num1 = 5000\n",
    "print(id(num1))"
   ]
  },
  {
   "cell_type": "code",
   "execution_count": null,
   "metadata": {},
   "outputs": [],
   "source": [
    "1000 >352 \n",
    "5000 >248 num1"
   ]
  },
  {
   "cell_type": "code",
   "execution_count": null,
   "metadata": {},
   "outputs": [],
   "source": [
    "Immutable: If i am not able to change a value at same memory location,I will say its immutable\n",
    "Mutable : If you are able to change value at same mem location"
   ]
  },
  {
   "cell_type": "code",
   "execution_count": 34,
   "metadata": {},
   "outputs": [
    {
     "name": "stdout",
     "output_type": "stream",
     "text": [
      "2400087878984\n",
      "2400087878984\n",
      "[10, 20, 30, 40, 50]\n"
     ]
    }
   ],
   "source": [
    "l = [10,20,30,40]\n",
    "print(id(l))\n",
    "l.append(50)\n",
    "print(id(l))\n",
    "print(l)"
   ]
  },
  {
   "cell_type": "code",
   "execution_count": 36,
   "metadata": {},
   "outputs": [
    {
     "name": "stdout",
     "output_type": "stream",
     "text": [
      "2400047141808\n",
      "2400054827640\n"
     ]
    }
   ],
   "source": [
    "s1 = \"Python\"\n",
    "print(id(s1))\n",
    "\n",
    "s1 = \"Java\"\n",
    "print(id(s1))"
   ]
  },
  {
   "cell_type": "code",
   "execution_count": null,
   "metadata": {},
   "outputs": [],
   "source": [
    "\n",
    "\"Java\" 640 s1\n"
   ]
  }
 ],
 "metadata": {
  "kernelspec": {
   "display_name": "Python 3",
   "language": "python",
   "name": "python3"
  },
  "language_info": {
   "codemirror_mode": {
    "name": "ipython",
    "version": 3
   },
   "file_extension": ".py",
   "mimetype": "text/x-python",
   "name": "python",
   "nbconvert_exporter": "python",
   "pygments_lexer": "ipython3",
   "version": "3.6.5"
  }
 },
 "nbformat": 4,
 "nbformat_minor": 2
}
