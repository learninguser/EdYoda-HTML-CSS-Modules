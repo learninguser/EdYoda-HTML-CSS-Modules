{
 "cells": [
  {
   "cell_type": "code",
   "execution_count": 1,
   "metadata": {},
   "outputs": [
    {
     "name": "stdout",
     "output_type": "stream",
     "text": [
      "[100, 400, 900, 1600, 2500]\n"
     ]
    }
   ],
   "source": [
    "l = [10,20,30,40,50]\n",
    "l2 = [value ** 2 for value in l]\n",
    "print(l2)"
   ]
  },
  {
   "cell_type": "code",
   "execution_count": 2,
   "metadata": {},
   "outputs": [
    {
     "name": "stdout",
     "output_type": "stream",
     "text": [
      "[100, 400, 900, 1600, 2500]\n"
     ]
    }
   ],
   "source": [
    "l = [10,20,30,40,50]\n",
    "l2 = []\n",
    "\n",
    "for value in l:\n",
    "    l2.append(value **2)\n",
    "    \n",
    "print(l2)"
   ]
  },
  {
   "cell_type": "code",
   "execution_count": 3,
   "metadata": {},
   "outputs": [],
   "source": [
    "import timeit "
   ]
  },
  {
   "cell_type": "code",
   "execution_count": 9,
   "metadata": {},
   "outputs": [
    {
     "name": "stdout",
     "output_type": "stream",
     "text": [
      "2.9616585999999927\n"
     ]
    }
   ],
   "source": [
    "t = timeit.timeit(stmt = \"\"\"\n",
    "l2 = []\n",
    "for value in range(1,5000000):\n",
    "    l2.append(value **2)\n",
    "\"\"\",number = 1)\n",
    "print(t)"
   ]
  },
  {
   "cell_type": "code",
   "execution_count": 11,
   "metadata": {},
   "outputs": [
    {
     "name": "stdout",
     "output_type": "stream",
     "text": [
      "2.6160598000000164\n"
     ]
    }
   ],
   "source": [
    "t1 = timeit.timeit(stmt = \"\"\"\n",
    "l = [value ** 2 for value in range(1,5000000)]\n",
    "\"\"\",number = 1)\n",
    "print(t1)"
   ]
  },
  {
   "cell_type": "code",
   "execution_count": 4,
   "metadata": {},
   "outputs": [
    {
     "name": "stdout",
     "output_type": "stream",
     "text": [
      "Help on function timeit in module timeit:\n",
      "\n",
      "timeit(stmt='pass', setup='pass', timer=<built-in function perf_counter>, number=1000000, globals=None)\n",
      "    Convenience function to create Timer object and call timeit method.\n",
      "\n"
     ]
    }
   ],
   "source": [
    "help(timeit.timeit)"
   ]
  },
  {
   "cell_type": "code",
   "execution_count": null,
   "metadata": {},
   "outputs": [],
   "source": [
    "l = [output for value l filtering_conditions]"
   ]
  },
  {
   "cell_type": "code",
   "execution_count": 12,
   "metadata": {},
   "outputs": [
    {
     "name": "stdout",
     "output_type": "stream",
     "text": [
      "[3, 6, 10, 19]\n"
     ]
    }
   ],
   "source": [
    "l = [\"abc\",\"abcded\",\"tetetetete\",\"qqqqqqqqqqqqqqqqqqq\"]\n",
    "l2 =  [len(value) for value in l]\n",
    "print(l2)"
   ]
  },
  {
   "cell_type": "code",
   "execution_count": 14,
   "metadata": {},
   "outputs": [
    {
     "name": "stdout",
     "output_type": "stream",
     "text": [
      "[10, 20, 30, 40, 60]\n"
     ]
    }
   ],
   "source": [
    "l = [10,15,20,25,30,35,40,45,60]\n",
    "l2 = [value for value in l if value % 2 == 0]\n",
    "print(l2)"
   ]
  },
  {
   "cell_type": "code",
   "execution_count": 16,
   "metadata": {},
   "outputs": [
    {
     "name": "stdout",
     "output_type": "stream",
     "text": [
      "['Odd', 'Even', 'Odd', 'Even']\n"
     ]
    }
   ],
   "source": [
    "l = [10,15,20,25,30,35,40,45,60]\n",
    "\n",
    "# l2 = [\"Even\",\"Odd\",\"Even\",\"Odd\".......]\n",
    "l2 = [\"Even\" if value%2 == 0 else \"Odd\" for value in l if value % 3 == 0]\n",
    "print(l2)"
   ]
  },
  {
   "cell_type": "code",
   "execution_count": 18,
   "metadata": {},
   "outputs": [
    {
     "name": "stdout",
     "output_type": "stream",
     "text": [
      "['Even', 'Odd', 'Even', 'Odd', 'Zero', 'Zero', 'Even', 'Odd', 'Even', 'Zero', 'Odd', 'Even']\n"
     ]
    }
   ],
   "source": [
    "l = [10,15,20,25,0,0,30,35,40,0,45,60]\n",
    "l2 = [\"Zero\" if value ==0 else \"Even\" if value%2 ==0 else \"Odd\" for value in l]\n",
    "print(l2)"
   ]
  },
  {
   "cell_type": "code",
   "execution_count": 19,
   "metadata": {},
   "outputs": [
    {
     "name": "stdout",
     "output_type": "stream",
     "text": [
      "1 100\n",
      "1 101\n",
      "1 102\n",
      "1 103\n",
      "1 104\n",
      "2 100\n",
      "2 101\n",
      "2 102\n",
      "2 103\n",
      "2 104\n",
      "3 100\n",
      "3 101\n",
      "3 102\n",
      "3 103\n",
      "3 104\n",
      "4 100\n",
      "4 101\n",
      "4 102\n",
      "4 103\n",
      "4 104\n"
     ]
    }
   ],
   "source": [
    "for val1 in range(1,5):\n",
    "    for val2 in range(100,105):\n",
    "        print(val1,val2)"
   ]
  },
  {
   "cell_type": "code",
   "execution_count": 20,
   "metadata": {},
   "outputs": [
    {
     "name": "stdout",
     "output_type": "stream",
     "text": [
      "[(1, 100), (1, 101), (1, 102), (1, 103), (1, 104), (2, 100), (2, 101), (2, 102), (2, 103), (2, 104), (3, 100), (3, 101), (3, 102), (3, 103), (3, 104), (4, 100), (4, 101), (4, 102), (4, 103), (4, 104)]\n"
     ]
    }
   ],
   "source": [
    "l2 = [(val1,val2) for val1 in range(1,5) for val2 in range(100,105)]\n",
    "print(l2)"
   ]
  },
  {
   "cell_type": "code",
   "execution_count": null,
   "metadata": {},
   "outputs": [],
   "source": [
    "range(1,5)\n",
    "range(1,5)\n",
    "\n",
    "1,1\n",
    "1,2\n",
    "1,3....\n",
    "l=[(1,1)(2,2)(3,3),(4,4)]"
   ]
  },
  {
   "cell_type": "code",
   "execution_count": 21,
   "metadata": {},
   "outputs": [
    {
     "name": "stdout",
     "output_type": "stream",
     "text": [
      "[(1, 1), (2, 2), (3, 3), (4, 4)]\n"
     ]
    }
   ],
   "source": [
    "l = [(val1,val2) for val1 in range(1,5) for val2 in range(1,5) if val1 == val2]\n",
    "print(l)"
   ]
  },
  {
   "cell_type": "code",
   "execution_count": 22,
   "metadata": {},
   "outputs": [
    {
     "name": "stdout",
     "output_type": "stream",
     "text": [
      "[50, 11, 48, 19, 16]\n"
     ]
    }
   ],
   "source": [
    "import random\n",
    "l = [random.randint(10,50) for value in range(5)]\n",
    "print(l)"
   ]
  },
  {
   "cell_type": "code",
   "execution_count": 23,
   "metadata": {},
   "outputs": [
    {
     "name": "stdout",
     "output_type": "stream",
     "text": [
      "150\n"
     ]
    }
   ],
   "source": [
    "l = [10,20,30,40,50]\n",
    "print(sum(l))"
   ]
  },
  {
   "cell_type": "code",
   "execution_count": 24,
   "metadata": {},
   "outputs": [
    {
     "name": "stdout",
     "output_type": "stream",
     "text": [
      "[6, 15, 24]\n"
     ]
    }
   ],
   "source": [
    "d = {\"one\":[1,2,3],\"two\":[4,5,6],\"three\":[7,8,9]}\n",
    "# l = [6,15,24]\n",
    "l = [sum(value) for value in d.values()]\n",
    "print(l)"
   ]
  },
  {
   "cell_type": "code",
   "execution_count": 35,
   "metadata": {},
   "outputs": [
    {
     "name": "stdout",
     "output_type": "stream",
     "text": [
      "[[3, 6, 9]]\n"
     ]
    }
   ],
   "source": [
    "l = [[1,2,3],[4,5,6],[7,8,9]]\n",
    "# l2 = [[1,4,7],[2,5,8],[3,6,9]]\n",
    "\n",
    "\n",
    "l2 = [[value[index] for value in l] for index in range(3)]\n",
    "print(l2)\n",
    "# l2 = [[value[index] for value in l] for index in range(len(l[0]))]\n",
    "# print(l2)"
   ]
  },
  {
   "cell_type": "code",
   "execution_count": null,
   "metadata": {},
   "outputs": [],
   "source": [
    "index 0 => [value[0] for value in l] =[1,4,7]\n",
    "index 1 => [value[1] for value in l] =>[2,5,8]"
   ]
  },
  {
   "cell_type": "code",
   "execution_count": null,
   "metadata": {},
   "outputs": [],
   "source": [
    "l = [10,20,30,40,50]\n",
    "sum = [150]"
   ]
  },
  {
   "cell_type": "code",
   "execution_count": null,
   "metadata": {},
   "outputs": [],
   "source": [
    "# {1:1,2:4,3:9}"
   ]
  },
  {
   "cell_type": "code",
   "execution_count": 36,
   "metadata": {},
   "outputs": [
    {
     "name": "stdout",
     "output_type": "stream",
     "text": [
      "{1: 1, 2: 4, 3: 9, 4: 16, 5: 25, 6: 36, 7: 49, 8: 64, 9: 81, 10: 100}\n"
     ]
    }
   ],
   "source": [
    "d = {key:key ** 2 for key in range(1,11)}\n",
    "print(d)"
   ]
  },
  {
   "cell_type": "code",
   "execution_count": null,
   "metadata": {},
   "outputs": [],
   "source": [
    "{'a':97,\"b\":98......\"z\":\"122}"
   ]
  },
  {
   "cell_type": "code",
   "execution_count": 37,
   "metadata": {},
   "outputs": [
    {
     "name": "stdout",
     "output_type": "stream",
     "text": [
      "{'a': 97, 'b': 98, 'c': 99, 'd': 100, 'e': 101, 'f': 102, 'g': 103, 'h': 104, 'i': 105, 'j': 106, 'k': 107, 'l': 108, 'm': 109, 'n': 110, 'o': 111, 'p': 112, 'q': 113, 'r': 114, 's': 115, 't': 116, 'u': 117, 'v': 118, 'w': 119, 'x': 120, 'y': 121, 'z': 122}\n"
     ]
    }
   ],
   "source": [
    "d = {chr(value):value for value in range(97,123)}\n",
    "print(d)"
   ]
  },
  {
   "cell_type": "code",
   "execution_count": 39,
   "metadata": {},
   "outputs": [
    {
     "name": "stdout",
     "output_type": "stream",
     "text": [
      "{0, 1, 2, 3, 4}\n"
     ]
    }
   ],
   "source": [
    "l = [10,15,20,24,45,85,78,41,52,56,50]\n",
    "l2 = {value%5 for value in l}\n",
    "print(l2)"
   ]
  },
  {
   "cell_type": "code",
   "execution_count": 40,
   "metadata": {},
   "outputs": [
    {
     "name": "stdout",
     "output_type": "stream",
     "text": [
      "<generator object <genexpr> at 0x00000210BDD47200>\n"
     ]
    }
   ],
   "source": [
    "t = (1,2,3,4,5,6)\n",
    "t2 = (value ** 2 for value in t)\n",
    "print(t2)"
   ]
  }
 ],
 "metadata": {
  "kernelspec": {
   "display_name": "Python 3",
   "language": "python",
   "name": "python3"
  },
  "language_info": {
   "codemirror_mode": {
    "name": "ipython",
    "version": 3
   },
   "file_extension": ".py",
   "mimetype": "text/x-python",
   "name": "python",
   "nbconvert_exporter": "python",
   "pygments_lexer": "ipython3",
   "version": "3.6.5"
  }
 },
 "nbformat": 4,
 "nbformat_minor": 2
}
