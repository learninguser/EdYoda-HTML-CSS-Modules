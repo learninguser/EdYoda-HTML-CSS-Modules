{
 "cells": [
  {
   "cell_type": "code",
   "execution_count": null,
   "metadata": {},
   "outputs": [],
   "source": [
    "Parameter passing techniques:\n",
    "    - Positional total no of arn in func def and func call shoule be same, sequential  \n",
    "    - Default : assign default value to arg in func def \n",
    "    - keyword args \n",
    "    - variable length positional args => packing => tuple  \n",
    "    - variable length keyword => packing => dict \n",
    "    - unpacking "
   ]
  },
  {
   "cell_type": "code",
   "execution_count": 4,
   "metadata": {},
   "outputs": [
    {
     "name": "stdout",
     "output_type": "stream",
     "text": [
      "True\n"
     ]
    }
   ],
   "source": [
    "def login(username,password):\n",
    "    if username == \"abc\" and password == \"abc@123\":\n",
    "        return True\n",
    "    else:\n",
    "        return False \n",
    "    \n",
    "print(login(password=\"abc@123\",username=\"abc\"))"
   ]
  },
  {
   "cell_type": "code",
   "execution_count": 6,
   "metadata": {},
   "outputs": [
    {
     "ename": "TypeError",
     "evalue": "'en' is an invalid keyword argument for this function",
     "output_type": "error",
     "traceback": [
      "\u001b[1;31m---------------------------------------------------------------------------\u001b[0m",
      "\u001b[1;31mTypeError\u001b[0m                                 Traceback (most recent call last)",
      "\u001b[1;32m<ipython-input-6-f2d52e6a3947>\u001b[0m in \u001b[0;36m<module>\u001b[1;34m()\u001b[0m\n\u001b[1;32m----> 1\u001b[1;33m \u001b[0mprint\u001b[0m\u001b[1;33m(\u001b[0m\u001b[1;36m10\u001b[0m\u001b[1;33m,\u001b[0m\u001b[0men\u001b[0m \u001b[1;33m=\u001b[0m \u001b[1;34m\" \"\u001b[0m\u001b[1;33m)\u001b[0m\u001b[1;33m\u001b[0m\u001b[0m\n\u001b[0m\u001b[0;32m      2\u001b[0m \u001b[0mprint\u001b[0m\u001b[1;33m(\u001b[0m\u001b[1;34m\"Python\"\u001b[0m\u001b[1;33m)\u001b[0m\u001b[1;33m\u001b[0m\u001b[0m\n",
      "\u001b[1;31mTypeError\u001b[0m: 'en' is an invalid keyword argument for this function"
     ]
    }
   ],
   "source": [
    "print(10,end = \" \")\n",
    "print(\"Python\")"
   ]
  },
  {
   "cell_type": "code",
   "execution_count": 7,
   "metadata": {},
   "outputs": [
    {
     "name": "stdout",
     "output_type": "stream",
     "text": [
      "Help on built-in function print in module builtins:\n",
      "\n",
      "print(...)\n",
      "    print(value, ..., sep=' ', end='\\n', file=sys.stdout, flush=False)\n",
      "    \n",
      "    Prints the values to a stream, or to sys.stdout by default.\n",
      "    Optional keyword arguments:\n",
      "    file:  a file-like object (stream); defaults to the current sys.stdout.\n",
      "    sep:   string inserted between values, default a space.\n",
      "    end:   string appended after the last value, default a newline.\n",
      "    flush: whether to forcibly flush the stream.\n",
      "\n"
     ]
    }
   ],
   "source": [
    "help(print)"
   ]
  },
  {
   "cell_type": "code",
   "execution_count": 12,
   "metadata": {},
   "outputs": [
    {
     "name": "stdout",
     "output_type": "stream",
     "text": [
      "600\n",
      "500\n"
     ]
    }
   ],
   "source": [
    "def add(num2,num3,num1=0):\n",
    "    return num1 + num2 + num3\n",
    "\n",
    "print(add(100,200,300))\n",
    "print(add(num2 = 200,num3 = 300))"
   ]
  },
  {
   "cell_type": "code",
   "execution_count": null,
   "metadata": {},
   "outputs": [],
   "source": [
    "positional \n",
    "default \n",
    "keyword \n",
    "variable length positional \n",
    "variable length keyword "
   ]
  },
  {
   "cell_type": "code",
   "execution_count": 19,
   "metadata": {},
   "outputs": [
    {
     "name": "stdout",
     "output_type": "stream",
     "text": [
      "(100, 200, 300, 400, 500)\n",
      "1500\n",
      "(100, 200, 300, 400, 500, 600, 700)\n",
      "2800\n"
     ]
    }
   ],
   "source": [
    "def add(*args,num1=0,num2=0):\n",
    "    print(args)\n",
    "    return sum(args)\n",
    "#     print(num1,num2,num3)\n",
    "#     return num1 + num2 + num3\n",
    "\n",
    "\n",
    "print(add(100,200,300,400,500))\n",
    "print(add(100,200,300,400,500,600,700))\n",
    "\n"
   ]
  },
  {
   "cell_type": "code",
   "execution_count": null,
   "metadata": {},
   "outputs": [],
   "source": [
    "username \n",
    "email\n",
    "contact \n",
    "password "
   ]
  },
  {
   "cell_type": "code",
   "execution_count": null,
   "metadata": {},
   "outputs": [],
   "source": [
    "1. username,email,contact,password\n",
    "2. username,email,password\n",
    "3. username,contact,password"
   ]
  },
  {
   "cell_type": "code",
   "execution_count": 27,
   "metadata": {},
   "outputs": [
    {
     "name": "stdout",
     "output_type": "stream",
     "text": [
      "(30, 40) {'username': 'abc', 'email': 'abc@123', 'contact': '9123456789', 'password': 'abc@123'}\n"
     ]
    },
    {
     "ename": "TypeError",
     "evalue": "registration() missing 2 required positional arguments: 'num1' and 'num2'",
     "output_type": "error",
     "traceback": [
      "\u001b[1;31m---------------------------------------------------------------------------\u001b[0m",
      "\u001b[1;31mTypeError\u001b[0m                                 Traceback (most recent call last)",
      "\u001b[1;32m<ipython-input-27-ae62b502509c>\u001b[0m in \u001b[0;36m<module>\u001b[1;34m()\u001b[0m\n\u001b[0;32m      3\u001b[0m \u001b[1;33m\u001b[0m\u001b[0m\n\u001b[0;32m      4\u001b[0m \u001b[0mregistration\u001b[0m\u001b[1;33m(\u001b[0m\u001b[1;36m10\u001b[0m\u001b[1;33m,\u001b[0m\u001b[1;36m20\u001b[0m\u001b[1;33m,\u001b[0m\u001b[1;36m30\u001b[0m\u001b[1;33m,\u001b[0m\u001b[1;36m40\u001b[0m\u001b[1;33m,\u001b[0m\u001b[0musername\u001b[0m \u001b[1;33m=\u001b[0m \u001b[1;34m\"abc\"\u001b[0m\u001b[1;33m,\u001b[0m\u001b[0memail\u001b[0m \u001b[1;33m=\u001b[0m \u001b[1;34m\"abc@123\"\u001b[0m\u001b[1;33m,\u001b[0m\u001b[0mcontact\u001b[0m \u001b[1;33m=\u001b[0m \u001b[1;34m\"9123456789\"\u001b[0m\u001b[1;33m,\u001b[0m\u001b[0mpassword\u001b[0m \u001b[1;33m=\u001b[0m \u001b[1;34m\"abc@123\"\u001b[0m\u001b[1;33m)\u001b[0m\u001b[1;33m\u001b[0m\u001b[0m\n\u001b[1;32m----> 5\u001b[1;33m \u001b[0mregistration\u001b[0m\u001b[1;33m(\u001b[0m\u001b[0musername\u001b[0m \u001b[1;33m=\u001b[0m \u001b[1;34m\"abc\"\u001b[0m\u001b[1;33m,\u001b[0m\u001b[0memail\u001b[0m \u001b[1;33m=\u001b[0m \u001b[1;34m\"abc@123\"\u001b[0m\u001b[1;33m,\u001b[0m\u001b[0mpassword\u001b[0m \u001b[1;33m=\u001b[0m \u001b[1;34m\"abc@123\"\u001b[0m\u001b[1;33m)\u001b[0m\u001b[1;33m\u001b[0m\u001b[0m\n\u001b[0m\u001b[0;32m      6\u001b[0m \u001b[0mregistration\u001b[0m\u001b[1;33m(\u001b[0m\u001b[0musername\u001b[0m \u001b[1;33m=\u001b[0m \u001b[1;34m\"abc\"\u001b[0m\u001b[1;33m,\u001b[0m\u001b[0mcontact\u001b[0m \u001b[1;33m=\u001b[0m \u001b[1;34m\"9123456789\"\u001b[0m\u001b[1;33m,\u001b[0m\u001b[0mpassword\u001b[0m \u001b[1;33m=\u001b[0m \u001b[1;34m\"abc@123\"\u001b[0m\u001b[1;33m)\u001b[0m\u001b[1;33m\u001b[0m\u001b[0m\n",
      "\u001b[1;31mTypeError\u001b[0m: registration() missing 2 required positional arguments: 'num1' and 'num2'"
     ]
    }
   ],
   "source": [
    "def registration(num1,num2,*args,**kwargs):\n",
    "    print(args,kwargs)\n",
    "    \n",
    "registration(10,20,30,40,username = \"abc\",email = \"abc@123\",contact = \"9123456789\",password = \"abc@123\")\n",
    "registration(username = \"abc\",email = \"abc@123\",password = \"abc@123\")\n",
    "registration(username = \"abc\",contact = \"9123456789\",password = \"abc@123\")"
   ]
  },
  {
   "cell_type": "code",
   "execution_count": 29,
   "metadata": {},
   "outputs": [
    {
     "name": "stdout",
     "output_type": "stream",
     "text": [
      "100 200 300\n"
     ]
    }
   ],
   "source": [
    "def add(num1,num2,num3):\n",
    "    print(num1,num2,num3)\n",
    "    \n",
    "l = [100,200,300]\n",
    "add(*l)\n"
   ]
  },
  {
   "cell_type": "code",
   "execution_count": 33,
   "metadata": {},
   "outputs": [
    {
     "ename": "TypeError",
     "evalue": "add() missing 1 required positional argument: 'num2'",
     "output_type": "error",
     "traceback": [
      "\u001b[1;31m---------------------------------------------------------------------------\u001b[0m",
      "\u001b[1;31mTypeError\u001b[0m                                 Traceback (most recent call last)",
      "\u001b[1;32m<ipython-input-33-0a34ea96afff>\u001b[0m in \u001b[0;36m<module>\u001b[1;34m()\u001b[0m\n\u001b[0;32m      3\u001b[0m \u001b[1;33m\u001b[0m\u001b[0m\n\u001b[0;32m      4\u001b[0m \u001b[0md\u001b[0m \u001b[1;33m=\u001b[0m \u001b[1;33m{\u001b[0m\u001b[1;34m\"num1\"\u001b[0m\u001b[1;33m:\u001b[0m\u001b[1;36m200\u001b[0m\u001b[1;33m,\u001b[0m\u001b[1;34m\"num3\"\u001b[0m\u001b[1;33m:\u001b[0m\u001b[1;36m100\u001b[0m\u001b[1;33m,\u001b[0m\u001b[1;34m\"num3\"\u001b[0m\u001b[1;33m:\u001b[0m\u001b[1;36m150\u001b[0m\u001b[1;33m}\u001b[0m\u001b[1;33m\u001b[0m\u001b[0m\n\u001b[1;32m----> 5\u001b[1;33m \u001b[0madd\u001b[0m\u001b[1;33m(\u001b[0m\u001b[1;33m**\u001b[0m\u001b[0md\u001b[0m\u001b[1;33m)\u001b[0m\u001b[1;33m\u001b[0m\u001b[0m\n\u001b[0m",
      "\u001b[1;31mTypeError\u001b[0m: add() missing 1 required positional argument: 'num2'"
     ]
    }
   ],
   "source": [
    "def add(num1,num2,num3):\n",
    "    print(num1,num2,num3)\n",
    "    \n",
    "d = {\"num1\":200,\"num3\":100,\"num3\":150}\n",
    "add(**d)"
   ]
  },
  {
   "cell_type": "code",
   "execution_count": null,
   "metadata": {},
   "outputs": [],
   "source": [
    "1. positional : no of args same in func def and func call, sequential  \n",
    "2. default : func def = default value \n",
    "3. keyword : in func use same args names which are used in fun def , sequence can be changed \n",
    "4. var positional : *args => tuple \n",
    "5. var keyword **kwargs => dict \n",
    "6. unpacking * => pos ** : keywords "
   ]
  },
  {
   "cell_type": "code",
   "execution_count": 34,
   "metadata": {},
   "outputs": [
    {
     "name": "stdout",
     "output_type": "stream",
     "text": [
      "python\n"
     ]
    }
   ],
   "source": [
    "def printval():\n",
    "    print(s)\n",
    "    \n",
    "s = \"python\"\n",
    "printval()\n"
   ]
  },
  {
   "cell_type": "code",
   "execution_count": 36,
   "metadata": {},
   "outputs": [
    {
     "ename": "NameError",
     "evalue": "name 's1' is not defined",
     "output_type": "error",
     "traceback": [
      "\u001b[1;31m---------------------------------------------------------------------------\u001b[0m",
      "\u001b[1;31mNameError\u001b[0m                                 Traceback (most recent call last)",
      "\u001b[1;32m<ipython-input-36-3e3e984bf7f9>\u001b[0m in \u001b[0;36m<module>\u001b[1;34m()\u001b[0m\n\u001b[0;32m      3\u001b[0m \u001b[1;33m\u001b[0m\u001b[0m\n\u001b[0;32m      4\u001b[0m \u001b[0mprintval\u001b[0m\u001b[1;33m(\u001b[0m\u001b[1;33m)\u001b[0m\u001b[1;33m\u001b[0m\u001b[0m\n\u001b[1;32m----> 5\u001b[1;33m \u001b[0mprint\u001b[0m\u001b[1;33m(\u001b[0m\u001b[0ms1\u001b[0m\u001b[1;33m)\u001b[0m\u001b[1;33m\u001b[0m\u001b[0m\n\u001b[0m",
      "\u001b[1;31mNameError\u001b[0m: name 's1' is not defined"
     ]
    }
   ],
   "source": [
    "def printval():\n",
    "    s1 = \"Python\"    \n",
    "\n",
    "printval()\n",
    "print(s1)"
   ]
  },
  {
   "cell_type": "code",
   "execution_count": 39,
   "metadata": {},
   "outputs": [
    {
     "name": "stdout",
     "output_type": "stream",
     "text": [
      "inside func 1 500\n",
      "Inside func 2 1000\n",
      "outside the func 1000\n"
     ]
    }
   ],
   "source": [
    "def printval():\n",
    "    global num5\n",
    "    print(\"inside func 1\",num5)\n",
    "    num5 = 1000\n",
    "    print(\"Inside func 2\",num5)\n",
    "\n",
    "num5 = 500\n",
    "printval()\n",
    "print(\"outside the func\",num5)"
   ]
  },
  {
   "cell_type": "code",
   "execution_count": 41,
   "metadata": {},
   "outputs": [
    {
     "name": "stdout",
     "output_type": "stream",
     "text": [
      "1975319838792\n",
      "Inside func 1975319838792\n",
      "[10, 20, 30, 40]\n",
      "1975319838792\n"
     ]
    }
   ],
   "source": [
    "def add_element(l,num):\n",
    "    \n",
    "    l.append(num)\n",
    "    print(\"Inside func\",id(l))\n",
    "    return l\n",
    "    \n",
    "l = [10,20,30]\n",
    "print(id(l))\n",
    "l2 = add_element(l,40)\n",
    "print(l2)\n",
    "print(id(l2))"
   ]
  },
  {
   "cell_type": "code",
   "execution_count": 42,
   "metadata": {},
   "outputs": [
    {
     "name": "stdout",
     "output_type": "stream",
     "text": [
      "1975318910736\n",
      "Inside func 1975318910128\n",
      "600\n",
      "1975318910128\n"
     ]
    }
   ],
   "source": [
    "def add_element(num):\n",
    "    \n",
    "    num = 600\n",
    "    print(\"Inside func\",id(num))\n",
    "    return num\n",
    "    \n",
    "num6 = 500\n",
    "print(id(num6))\n",
    "num7 = add_element(num6)\n",
    "print(num7)\n",
    "print(id(num7))"
   ]
  },
  {
   "cell_type": "code",
   "execution_count": null,
   "metadata": {},
   "outputs": [],
   "source": [
    "any var u define inside func will be treayed as local "
   ]
  }
 ],
 "metadata": {
  "kernelspec": {
   "display_name": "Python 3",
   "language": "python",
   "name": "python3"
  },
  "language_info": {
   "codemirror_mode": {
    "name": "ipython",
    "version": 3
   },
   "file_extension": ".py",
   "mimetype": "text/x-python",
   "name": "python",
   "nbconvert_exporter": "python",
   "pygments_lexer": "ipython3",
   "version": "3.6.5"
  }
 },
 "nbformat": 4,
 "nbformat_minor": 2
}
