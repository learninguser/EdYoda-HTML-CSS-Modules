{
 "cells": [
  {
   "cell_type": "code",
   "execution_count": null,
   "metadata": {},
   "outputs": [],
   "source": [
    "mode:\n",
    "    r : read \n",
    "    r+\n",
    "    \n",
    "    w : write \n",
    "    w+ \n",
    "    \n",
    "    a : append\n",
    "    a+ "
   ]
  },
  {
   "cell_type": "code",
   "execution_count": 5,
   "metadata": {},
   "outputs": [
    {
     "name": "stdout",
     "output_type": "stream",
     "text": [
      "New Features\n",
      "Assignment expressions\n",
      "There is new syntax := that assigns values to variables as part of a larger expression. It is affectionately known as “the walrus operator” due to its resemblance to the eyes and tusks of a walrus.\n",
      "\n",
      "In this example, the assignment expression helps avoid calling len() twice:\n",
      "\n",
      "if (n := len(a)) > 10:\n",
      "    print(f\"List is too long ({n} elements, expected <= 10)\")\n",
      "A similar benefit arises during regular expression matching where match objects are needed twice, once to test whether a match occurred and another to extract a subgroup:\n",
      "\n",
      "discount = 0.0\n",
      "if (mo := re.search(r'(\\d+)% discount', advertisement)):\n",
      "    discount = float(mo.group(1)) / 100.0\n",
      "The operator is also useful with while-loops that compute a value to test loop termination and then need that same value again in the body of the loop:\n",
      "\n",
      "# Loop over fixed length blocks\n",
      "while (block := f.read(256)) != '':\n",
      "    process(block)\n",
      "Another motivating use case arises in list comprehensions where a value computed in a filtering condition is also needed in the expression body:\n",
      "\n",
      "[clean_name.title() for name in names\n",
      " if (clean_name := normalize('NFC', name)) in allowed_names]\n",
      "Try to limit use of the walrus operator to clean cases that reduce complexity and improve readability.\n",
      "\n",
      "See PEP 572 for a full description.\n",
      "\n",
      "(Contributed by Emily Morehouse in bpo-35224.)\n",
      "\n",
      "Positional-only parameters\n",
      "There is a new function parameter syntax / to indicate that some function parameters must be specified positionally and cannot be used as keyword arguments. This is the same notation shown by help() for C functions annotated with Larry Hastings’ Argument Clinic tool.\n",
      "\n",
      "In the following example, parameters a and b are positional-only, while c or d can be positional or keyword, and e or f are required to be keywords:\n",
      "\n",
      "def f(a, b, /, c, d, *, e, f):\n",
      "    print(a, b, c, d, e, f)\n",
      "The following is a valid call:\n",
      "\n",
      "f(10, 20, 30, d=40, e=50, f=60)\n",
      "However, these are invalid calls:\n",
      "\n",
      "f(10, b=20, c=30, d=40, e=50, f=60)   # b cannot be a keyword argument\n",
      "f(10, 20, 30, 40, 50, f=60)           # e must be a keyword argument\n",
      "One use case for this notation is that it allows pure Python functions to fully emulate behaviors of existing C coded functions. For example, the built-in pow() function does not accept keyword arguments:\n",
      "\n",
      "def pow(x, y, z=None, /):\n",
      "    \"Emulate the built in pow() function\"\n",
      "    r = x ** y\n",
      "    return r if z is None else r%z\n",
      "Another use case is to preclude keyword arguments when the parameter name is not helpful. For example, the builtin len() function has the signature len(obj, /). This precludes awkward calls such as:\n",
      "\n",
      "len(obj='hello')  # The \"obj\" keyword argument impairs readability\n",
      "A further benefit of marking a parameter as positional-only is that it allows the parameter name to be changed in the future without risk of breaking client code. For example, in the statistics module, the parameter name dist may be changed in the future. This was made possible with the following function specification:\n",
      "\n",
      "def quantiles(dist, /, *, n=4, method='exclusive')\n",
      "    ...\n",
      "Since the parameters to the left of / are not exposed as possible keywords, the parameters names remain available for use in **kwargs:\n",
      "\n",
      ">>>\n",
      ">>> def f(a, b, /, **kwargs):\n",
      "...     print(a, b, kwargs)\n",
      "...\n",
      ">>> f(10, 20, a=1, b=2, c=3)         # a and b are used in two ways\n",
      "10 20 {'a': 1, 'b': 2, 'c': 3}\n",
      "This greatly simplifies the implementation of functions and methods that need to accept arbitrary keyword arguments. For example, here is an excerpt from code in the collections module:\n"
     ]
    }
   ],
   "source": [
    "fp = open(\"sample_text.txt\",\"r\",encoding=\"utf-8\")\n",
    "content = fp.read()\n",
    "print(content)\n",
    "fp.close()"
   ]
  },
  {
   "cell_type": "code",
   "execution_count": 10,
   "metadata": {},
   "outputs": [
    {
     "name": "stdout",
     "output_type": "stream",
     "text": [
      "New F\n",
      "eatures\n",
      "Assignment expressions\n",
      "There is new syntax := that assigns values to variables as part of a larger expression. It is affectionately known as “the walrus operator” due to its resemblance to the eyes and tusks of a walrus.\n",
      "\n",
      "In this example, the assignment expression helps avoid calling len() twice:\n",
      "\n",
      "if (n := len(a)) > 10:\n",
      "    print(f\"List is too long ({n} elements, expected <= 10)\")\n",
      "A similar benefit arises during regular expression matching where match objects are needed twice, once to test whether a match occurred and another to extract a subgroup:\n",
      "\n",
      "discount = 0.0\n",
      "if (mo := re.search(r'(\\d+)% discount', advertisement)):\n",
      "    discount = float(mo.group(1)) / 100.0\n",
      "The operator is also useful with while-loops that compute a value to test loop termination and then need that same value again in the body of the loop:\n",
      "\n",
      "# Loop over fixed length blocks\n",
      "while (block := f.read(256)) != '':\n",
      "    process(block)\n",
      "Another motivating use case arises in list comprehensions where a value computed in a filtering condition is also needed in the expression body:\n",
      "\n",
      "[clean_name.title() for name in names\n",
      " if (clean_name := normalize('NFC', name)) in allowed_names]\n",
      "Try to limit use of the walrus operator to clean cases that reduce complexity and improve readability.\n",
      "\n",
      "See PEP 572 for a full description.\n",
      "\n",
      "(Contributed by Emily Morehouse in bpo-35224.)\n",
      "\n",
      "Positional-only parameters\n",
      "There is a new function parameter syntax / to indicate that some function parameters must be specified positionally and cannot be used as keyword arguments. This is the same notation shown by help() for C functions annotated with Larry Hastings’ Argument Clinic tool.\n",
      "\n",
      "In the following example, parameters a and b are positional-only, while c or d can be positional or keyword, and e or f are required to be keywords:\n",
      "\n",
      "def f(a, b, /, c, d, *, e, f):\n",
      "    print(a, b, c, d, e, f)\n",
      "The following is a valid call:\n",
      "\n",
      "f(10, 20, 30, d=40, e=50, f=60)\n",
      "However, these are invalid calls:\n",
      "\n",
      "f(10, b=20, c=30, d=40, e=50, f=60)   # b cannot be a keyword argument\n",
      "f(10, 20, 30, 40, 50, f=60)           # e must be a keyword argument\n",
      "One use case for this notation is that it allows pure Python functions to fully emulate behaviors of existing C coded functions. For example, the built-in pow() function does not accept keyword arguments:\n",
      "\n",
      "def pow(x, y, z=None, /):\n",
      "    \"Emulate the built in pow() function\"\n",
      "    r = x ** y\n",
      "    return r if z is None else r%z\n",
      "Another use case is to preclude keyword arguments when the parameter name is not helpful. For example, the builtin len() function has the signature len(obj, /). This precludes awkward calls such as:\n",
      "\n",
      "len(obj='hello')  # The \"obj\" keyword argument impairs readability\n",
      "A further benefit of marking a parameter as positional-only is that it allows the parameter name to be changed in the future without risk of breaking client code. For example, in the statistics module, the parameter name dist may be changed in the future. This was made possible with the following function specification:\n",
      "\n",
      "def quantiles(dist, /, *, n=4, method='exclusive')\n",
      "    ...\n",
      "Since the parameters to the left of / are not exposed as possible keywords, the parameters names remain available for use in **kwargs:\n",
      "\n",
      ">>>\n",
      ">>> def f(a, b, /, **kwargs):\n",
      "...     print(a, b, kwargs)\n",
      "...\n",
      ">>> f(10, 20, a=1, b=2, c=3)         # a and b are used in two ways\n",
      "10 20 {'a': 1, 'b': 2, 'c': 3}\n",
      "This greatly simplifies the implementation of functions and methods that need to accept arbitrary keyword arguments. For example, here is an excerpt from code in the collections module:\n"
     ]
    }
   ],
   "source": [
    "fp = open(\"sample_text.txt\",\"r\",encoding=\"utf-8\")\n",
    "content = fp.read(5)\n",
    "print(content)\n",
    "\n",
    "content = fp.read()\n",
    "print(content)\n",
    "fp.close()"
   ]
  },
  {
   "cell_type": "code",
   "execution_count": 14,
   "metadata": {},
   "outputs": [
    {
     "name": "stdout",
     "output_type": "stream",
     "text": [
      "New Features\n",
      "\n",
      "Assignment expressions\n",
      "\n",
      "There\n"
     ]
    }
   ],
   "source": [
    "fp = open(\"sample_text.txt\",\"r\",encoding=\"utf-8\")\n",
    "content = fp.readline()\n",
    "print(content)\n",
    "\n",
    "content = fp.readline()\n",
    "print(content)\n",
    "\n",
    "content = fp.readline(5)\n",
    "print(content)"
   ]
  },
  {
   "cell_type": "code",
   "execution_count": 16,
   "metadata": {},
   "outputs": [
    {
     "name": "stdout",
     "output_type": "stream",
     "text": [
      "['New Features\\n', 'Assignment expressions\\n', 'There is new syntax := that assigns values to variables as part of a larger expression. It is affectionately known as “the walrus operator” due to its resemblance to the eyes and tusks of a walrus.\\n', '\\n']\n"
     ]
    }
   ],
   "source": [
    "fp = open(\"sample_text.txt\",\"r\",encoding=\"utf-8\")\n",
    "content = fp.readlines()[:4]\n",
    "print(content)"
   ]
  },
  {
   "cell_type": "code",
   "execution_count": 26,
   "metadata": {},
   "outputs": [
    {
     "name": "stdout",
     "output_type": "stream",
     "text": [
      "0\n",
      "19\n",
      "0\n",
      "19\n",
      "Add this to my file\n"
     ]
    }
   ],
   "source": [
    "fp = open(\"sample_text2.txt\",\"w+\")\n",
    "print(fp.tell())\n",
    "s = \"Add this to my file\"\n",
    "fp.write(s)\n",
    "print(fp.tell())\n",
    "fp.seek(0,0)\n",
    "print(fp.tell())\n",
    "content = fp.read()\n",
    "print(fp.tell())\n",
    "print(content)\n",
    "fp.close()"
   ]
  },
  {
   "cell_type": "code",
   "execution_count": null,
   "metadata": {},
   "outputs": [],
   "source": [
    "seek(offset,position)\n",
    "0 : start of the file \n",
    "1 : current position\n",
    "2. :end of the file \n",
    "    \n",
    "offset : how many chars \n",
    "    \n",
    "seek(15,0)\n",
    "seek(15,1)\n",
    "seek(0,2)"
   ]
  },
  {
   "cell_type": "code",
   "execution_count": null,
   "metadata": {},
   "outputs": [],
   "source": [
    "r => read \n",
    "r+\n",
    "\n",
    "w => write \n",
    "w+ => write + read \n",
    "\n",
    "a \n",
    "a+"
   ]
  },
  {
   "cell_type": "code",
   "execution_count": null,
   "metadata": {},
   "outputs": [],
   "source": [
    "seek(offset,position):\n",
    "    \n",
    "position :\n",
    "    0 : start \n",
    "    1 : current \n",
    "    2 : end\n",
    "tell()\n",
    "\n",
    "\n",
    "\n"
   ]
  },
  {
   "cell_type": "code",
   "execution_count": null,
   "metadata": {},
   "outputs": [],
   "source": [
    "read() => str\n",
    "readline \n",
    "readlines() => list "
   ]
  },
  {
   "cell_type": "code",
   "execution_count": null,
   "metadata": {
    "collapsed": true
   },
   "outputs": [],
   "source": [
    "fp = open(filename,mode)\n",
    "fo.close()"
   ]
  },
  {
   "cell_type": "code",
   "execution_count": null,
   "metadata": {},
   "outputs": [],
   "source": [
    "List\n",
    "    Add :\n",
    "        append(100) \n",
    "        extend(100)\n",
    "        insert\n",
    "        \n",
    "    Update:\n",
    "        l[index] = new_value \n",
    "        \n",
    "    Delete:\n",
    "        pop(2)\n",
    "        clear \n",
    "        remove(2)      \n",
    "        del "
   ]
  },
  {
   "cell_type": "code",
   "execution_count": null,
   "metadata": {},
   "outputs": [],
   "source": [
    "if ():\n",
    "    print(\"Hi\")\n",
    "else:\n",
    "    print(\"Java\")"
   ]
  },
  {
   "cell_type": "code",
   "execution_count": null,
   "metadata": {},
   "outputs": [],
   "source": [
    "print(5 in 500)"
   ]
  },
  {
   "cell_type": "code",
   "execution_count": null,
   "metadata": {},
   "outputs": [],
   "source": [
    "Dict:\n",
    "    d[key] = value \n",
    "    setdefault \n",
    "    \n",
    "    d[key] = new value \n",
    "    \n",
    "    popitem \n",
    "    pop(key)\n"
   ]
  },
  {
   "cell_type": "code",
   "execution_count": 1,
   "metadata": {},
   "outputs": [
    {
     "name": "stdout",
     "output_type": "stream",
     "text": [
      "{1: 1, 2: 4, 3: 9, 4: 16}\n"
     ]
    }
   ],
   "source": [
    "d1 = {1:1,2:4}\n",
    "d2 = {3:9,4:16}\n",
    "d1.update(d2)\n",
    "print(d1)"
   ]
  },
  {
   "cell_type": "code",
   "execution_count": 5,
   "metadata": {},
   "outputs": [
    {
     "name": "stdout",
     "output_type": "stream",
     "text": [
      "New Features\n",
      "\n",
      "Assignment expressions\n",
      "\n",
      "There is new syntax := that assigns values to variables as part of a larger expression. It is affectionately known as “the walrus operator” due to its resemblance to the eyes and tusks of a walrus.\n",
      "\n",
      "\n",
      "\n",
      "In this example, the assignment expression helps avoid calling len() twice:\n",
      "\n",
      "\n",
      "\n",
      "if (n := len(a)) > 10:\n",
      "\n",
      "    print(f\"List is too long ({n} elements, expected <= 10)\")\n",
      "\n",
      "A similar benefit arises during regular expression matching where match objects are needed twice, once to test whether a match occurred and another to extract a subgroup:\n",
      "\n",
      "\n",
      "\n",
      "discount = 0.0\n",
      "\n",
      "if (mo := re.search(r'(\\d+)% discount', advertisement)):\n",
      "\n",
      "    discount = float(mo.group(1)) / 100.0\n",
      "\n",
      "The operator is also useful with while-loops that compute a value to test loop termination and then need that same value again in the body of the loop:\n",
      "\n",
      "\n",
      "\n",
      "# Loop over fixed length blocks\n",
      "\n",
      "while (block := f.read(256)) != '':\n",
      "\n",
      "    process(block)\n",
      "\n",
      "Another motivating use case arises in list comprehensions where a value computed in a filtering condition is also needed in the expression body:\n",
      "\n",
      "\n",
      "\n",
      "[clean_name.title() for name in names\n",
      "\n",
      " if (clean_name := normalize('NFC', name)) in allowed_names]\n",
      "\n",
      "Try to limit use of the walrus operator to clean cases that reduce complexity and improve readability.\n",
      "\n",
      "\n",
      "\n",
      "See PEP 572 for a full description.\n",
      "\n",
      "\n",
      "\n",
      "(Contributed by Emily Morehouse in bpo-35224.)\n",
      "\n",
      "\n",
      "\n",
      "Positional-only parameters\n",
      "\n",
      "There is a new function parameter syntax / to indicate that some function parameters must be specified positionally and cannot be used as keyword arguments. This is the same notation shown by help() for C functions annotated with Larry Hastings’ Argument Clinic tool.\n",
      "\n",
      "\n",
      "\n",
      "In the following example, parameters a and b are positional-only, while c or d can be positional or keyword, and e or f are required to be keywords:\n",
      "\n",
      "\n",
      "\n",
      "def f(a, b, /, c, d, *, e, f):\n",
      "\n",
      "    print(a, b, c, d, e, f)\n",
      "\n",
      "The following is a valid call:\n",
      "\n",
      "\n",
      "\n",
      "f(10, 20, 30, d=40, e=50, f=60)\n",
      "\n",
      "However, these are invalid calls:\n",
      "\n",
      "\n",
      "\n",
      "f(10, b=20, c=30, d=40, e=50, f=60)   # b cannot be a keyword argument\n",
      "\n",
      "f(10, 20, 30, 40, 50, f=60)           # e must be a keyword argument\n",
      "\n",
      "One use case for this notation is that it allows pure Python functions to fully emulate behaviors of existing C coded functions. For example, the built-in pow() function does not accept keyword arguments:\n",
      "\n",
      "\n",
      "\n",
      "def pow(x, y, z=None, /):\n",
      "\n",
      "    \"Emulate the built in pow() function\"\n",
      "\n",
      "    r = x ** y\n",
      "\n",
      "    return r if z is None else r%z\n",
      "\n",
      "Another use case is to preclude keyword arguments when the parameter name is not helpful. For example, the builtin len() function has the signature len(obj, /). This precludes awkward calls such as:\n",
      "\n",
      "\n",
      "\n",
      "len(obj='hello')  # The \"obj\" keyword argument impairs readability\n",
      "\n",
      "A further benefit of marking a parameter as positional-only is that it allows the parameter name to be changed in the future without risk of breaking client code. For example, in the statistics module, the parameter name dist may be changed in the future. This was made possible with the following function specification:\n",
      "\n",
      "\n",
      "\n",
      "def quantiles(dist, /, *, n=4, method='exclusive')\n",
      "\n",
      "    ...\n",
      "\n",
      "Since the parameters to the left of / are not exposed as possible keywords, the parameters names remain available for use in **kwargs:\n",
      "\n",
      "\n",
      "\n",
      ">>>\n",
      "\n",
      ">>> def f(a, b, /, **kwargs):\n",
      "\n",
      "...     print(a, b, kwargs)\n",
      "\n",
      "...\n",
      "\n",
      ">>> f(10, 20, a=1, b=2, c=3)         # a and b are used in two ways\n",
      "\n",
      "10 20 {'a': 1, 'b': 2, 'c': 3}\n",
      "\n",
      "This greatly simplifies the implementation of functions and methods that need to accept arbitrary keyword arguments. For example, here is an excerpt from code in the collections module:\n"
     ]
    }
   ],
   "source": [
    "fp = open(\"sample_text.txt\",\"r\",encoding=\"utf-8\")\n",
    "\n",
    "for x in fp:\n",
    "    print(x)\n",
    "    \n",
    "fp.close()"
   ]
  },
  {
   "cell_type": "code",
   "execution_count": null,
   "metadata": {},
   "outputs": [],
   "source": [
    "w+ : write + read \n",
    "r+ : read + write \n",
    "\n",
    "a \n",
    "a+"
   ]
  },
  {
   "cell_type": "code",
   "execution_count": 12,
   "metadata": {},
   "outputs": [
    {
     "name": "stdout",
     "output_type": "stream",
     "text": [
      "{3: 9, 4: 16}\n"
     ]
    }
   ],
   "source": [
    "d = {1:{},2:[],3:9,4:16}\n",
    "d1 = d.copy()\n",
    "\n",
    "for k,v in d1.items():\n",
    "    if not v:\n",
    "        d.pop(k)\n",
    "        \n",
    "print(d)"
   ]
  },
  {
   "cell_type": "code",
   "execution_count": 18,
   "metadata": {},
   "outputs": [
    {
     "name": "stdout",
     "output_type": "stream",
     "text": [
      "0\n"
     ]
    }
   ],
   "source": [
    "fp = open(\"sample_text2.txt\",\"r+\")\n",
    "print(fp.tell())\n",
    "content = fp.read()\n",
    "print(content)\n",
    "\n",
    "s = \"---\"\n",
    "fp.write(s)\n",
    "fp.close()"
   ]
  },
  {
   "cell_type": "code",
   "execution_count": null,
   "metadata": {},
   "outputs": [],
   "source": [
    "w : 0 \n",
    "w+ : 0"
   ]
  },
  {
   "cell_type": "code",
   "execution_count": null,
   "metadata": {},
   "outputs": [],
   "source": [
    "a : fp : end of the file \n",
    "a+ "
   ]
  },
  {
   "cell_type": "code",
   "execution_count": 25,
   "metadata": {},
   "outputs": [
    {
     "name": "stdout",
     "output_type": "stream",
     "text": [
      "4780\n",
      "New Features\n",
      "Assignment expressions\n",
      "There is new syntax := that assigns values to variables as part of a larger expression. It is affectionately known as “the walrus operator” due to its resemblance to the eyes and tusks of a walrus.\n",
      "\n",
      "In this example, the assignment expression helps avoid calling len() twice:\n",
      "\n",
      "if (n := len(a)) > 10:\n",
      "    print(f\"List is too long ({n} elements, expected <= 10)\")\n",
      "A similar benefit arises during regular expression matching where match objects are needed twice, once to test whether a match occurred and another to extract a subgroup:\n",
      "\n",
      "discount = 0.0\n",
      "if (mo := re.search(r'(\\d+)% discount', advertisement)):\n",
      "    discount = float(mo.group(1)) / 100.0\n",
      "The operator is also useful with while-loops that compute a value to test loop termination and then need that same value again in the body of the loop:\n",
      "\n",
      "# Loop over fixed length blocks\n",
      "while (block := f.read(256)) != '':\n",
      "    process(block)\n",
      "Another motivating use case arises in list comprehensions where a value computed in a filtering condition is also needed in the expression body:\n",
      "\n",
      "[clean_name.title() for name in names\n",
      " if (clean_name := normalize('NFC', name)) in allowed_names]\n",
      "Try to limit use of the walrus operator to clean cases that reduce complexity and improve readability.\n",
      "\n",
      "See PEP 572 for a full description.\n",
      "\n",
      "(Contributed by Emily Morehouse in bpo-35224.)\n",
      "\n",
      "Positional-only parameters\n",
      "There is a new function parameter syntax / to indicate that some function parameters must be specified positionally and cannot be used as keyword arguments. This is the same notation shown by help() for C functions annotated with Larry Hastings’ Argument Clinic tool.\n",
      "\n",
      "In the following example, parameters a and b are positional-only, while c or d can be positional or keyword, and e or f are required to be keywords:\n",
      "\n",
      "def f(a, b, /, c, d, *, e, f):\n",
      "    print(a, b, c, d, e, f)\n",
      "The following is a valid call:\n",
      "\n",
      "f(10, 20, 30, d=40, e=50, f=60)\n",
      "However, these are invalid calls:\n",
      "\n",
      "f(10, b=20, c=30, d=40, e=50, f=60)   # b cannot be a keyword argument\n",
      "f(10, 20, 30, 40, 50, f=60)           # e must be a keyword argument\n",
      "One use case for this notation is that it allows pure Python functions to fully emulate behaviors of existing C coded functions. For example, the built-in pow() function does not accept keyword arguments:\n",
      "\n",
      "def pow(x, y, z=None, /):\n",
      "    \"Emulate the built in pow() function\"\n",
      "    r = x ** y\n",
      "    return r if z is None else r%z\n",
      "Another use case is to preclude keyword arguments when the parameter name is not helpful. For example, the builtin len() function has the signature len(obj, /). This precludes awkward calls such as:\n",
      "\n",
      "len(obj='hello')  # The \"obj\" keyword argument impairs readability\n",
      "A further benefit of marking a parameter as positional-only is that it allows the parameter name to be changed in the future without risk of breaking client code. For example, in the statistics module, the parameter name dist may be changed in the future. This was made possible with the following function specification:\n",
      "\n",
      "def quantiles(dist, /, *, n=4, method='exclusive')\n",
      "    ...\n",
      "Since the parameters to the left of / are not exposed as possible keywords, the parameters names remain available for use in **kwargs:\n",
      "\n",
      ">>>\n",
      ">>> def f(a, b, /, **kwargs):\n",
      "...     print(a, b, kwargs)\n",
      "...\n",
      ">>> f(10, 20, a=1, b=2, c=3)         # a and b are used in two ways\n",
      "10 20 {'a': 1, 'b': 2, 'c': 3}\n",
      "This greatly simplifies the implementation of functions and methods that need to accept arbitrary keyword arguments. For example, here is an excerpt from code in the collections module:\n",
      "\n",
      "\n",
      "\n",
      " Notable changes in Python 3.8.1\n",
      "Due to significant security concerns, the reuse_address parameter of asyncio.loop.create_datagram_endpoint() is no longer supported. This is because of the behavior of the socket option SO_REUSEADDR in UDP. For more details, see the documentation for loop.create_datagram_endpoint(). (Contributed by Kyle Stanley, Antoine Pitrou, and Yury Selivanov in bpo-37228.) \n",
      "\n",
      "\n",
      " Notable changes in Python 3.8.1\n",
      "Due to significant security concerns, the reuse_address parameter of asyncio.loop.create_datagram_endpoint() is no longer supported. This is because of the behavior of the socket option SO_REUSEADDR in UDP. For more details, see the documentation for loop.create_datagram_endpoint(). (Contributed by Kyle Stanley, Antoine Pitrou, and Yury Selivanov in bpo-37228.) \n",
      "\n",
      "\n",
      " Notable changes in Python 3.8.1\n",
      "Due to significant security concerns, the reuse_address parameter of asyncio.loop.create_datagram_endpoint() is no longer supported. This is because of the behavior of the socket option SO_REUSEADDR in UDP. For more details, see the documentation for loop.create_datagram_endpoint(). (Contributed by Kyle Stanley, Antoine Pitrou, and Yury Selivanov in bpo-37228.) \n",
      "\n",
      "\n",
      " Notable changes in Python 3.8.1\n",
      "Due to significant security concerns, the reuse_address parameter of asyncio.loop.create_datagram_endpoint() is no longer supported. This is because of the behavior of the socket option SO_REUSEADDR in UDP. For more details, see the documentation for loop.create_datagram_endpoint(). (Contributed by Kyle Stanley, Antoine Pitrou, and Yury Selivanov in bpo-37228.) \n",
      "\n"
     ]
    }
   ],
   "source": [
    "fp = open(\"sample_text.txt\",\"a+\",encoding=\"utf-8\")\n",
    "print(fp.tell())\n",
    "\n",
    "s = \"\"\"Notable changes in Python 3.8.1\n",
    "Due to significant security concerns, the reuse_address parameter of asyncio.loop.create_datagram_endpoint() is no longer supported. This is because of the behavior of the socket option SO_REUSEADDR in UDP. For more details, see the documentation for loop.create_datagram_endpoint(). (Contributed by Kyle Stanley, Antoine Pitrou, and Yury Selivanov in bpo-37228.) \n",
    "\"\"\"\n",
    "fp.write(\"\\n\\n {}\".format(s))\n",
    "fp.seek(0)\n",
    "\n",
    "content = fp.read()\n",
    "print(content)\n",
    "\n",
    "fp.close()"
   ]
  },
  {
   "cell_type": "code",
   "execution_count": null,
   "metadata": {},
   "outputs": [],
   "source": [
    "r => read, fp => start, file does not exist => error \n",
    "r+=> read + write, fp => start , file does not exist => error\n",
    "\n",
    "w => write, fp => start, file does not exist : new file \n",
    "w+ => write + read ,fp => start , file does not exist => create new file\n",
    "\n",
    "a => append, fp = > end of the file, file does not exist : create new file  \n",
    "a+ => append + read , fp => end , file does not exist => create new file \n",
    "\n",
    "seek(offset,position)\n",
    "tell()\n",
    "\n",
    "\n"
   ]
  },
  {
   "cell_type": "code",
   "execution_count": 29,
   "metadata": {},
   "outputs": [
    {
     "name": "stdout",
     "output_type": "stream",
     "text": [
      "Non empty file\n"
     ]
    }
   ],
   "source": [
    "fp = open(\"sample_text2.txt\",\"r\")\n",
    "if fp.tell() == fp.seek(0,2):\n",
    "    print(\"Empty file\")\n",
    "else:\n",
    "    print(\"Non empty file\")\n",
    "fp.close()"
   ]
  },
  {
   "cell_type": "code",
   "execution_count": null,
   "metadata": {},
   "outputs": [],
   "source": [
    "file 1"
   ]
  },
  {
   "cell_type": "code",
   "execution_count": null,
   "metadata": {},
   "outputs": [],
   "source": [
    "PEP 590 Python Runtime Audit Hooks\n",
    "The PEP adds an Audit Hook and Verified Open Hook. Both are available from Python and native code, allowing applications and frameworks written in pure Python code to take advantage of extra notifications, while also allowing embedders or system administrators to deploy builds of Python where auditing is always enabled.\n",
    "\n",
    "See PEP 578 for full details."
   ]
  },
  {
   "cell_type": "code",
   "execution_count": null,
   "metadata": {},
   "outputs": [],
   "source": [
    "file 2 "
   ]
  },
  {
   "cell_type": "code",
   "execution_count": null,
   "metadata": {},
   "outputs": [],
   "source": [
    "PEP 587 Python Initialization Configuration\n",
    "The PEP 587 adds a new C API to configure the Python Initialization providing finer control on the whole configuration and better error reporting.\n",
    "\n",
    "New structures:\n",
    "\n",
    "PyConfig\n",
    "\n",
    "PyPreConfig\n",
    "\n",
    "PyStatus\n",
    "\n",
    "PyWideStringList"
   ]
  },
  {
   "cell_type": "code",
   "execution_count": 32,
   "metadata": {},
   "outputs": [],
   "source": [
    "fp1 = open(\"file1.txt\",\"r\")\n",
    "fp2 = open(\"file2.txt\",\"r\")\n",
    "fp3 = open(\"file3.txt\",\"w\")\n",
    "\n",
    "file1_content = fp1.read()\n",
    "file2_content = fp2.read()\n",
    "\n",
    "data = \"{} \\n\\n{}\".format(file1_content,file2_content)\n",
    "\n",
    "\n",
    "fp3.write(data)\n",
    "fp1.close()\n",
    "fp2.close()\n",
    "fp3.close()\n"
   ]
  },
  {
   "cell_type": "code",
   "execution_count": 38,
   "metadata": {},
   "outputs": [
    {
     "name": "stdout",
     "output_type": "stream",
     "text": [
      "['PEP', '590', 'Python', 'Runtime', 'Audit', 'Hooks\\n']\n",
      "['PEP', '592', 'Python', 'Initialization', 'Configuration\\n']\n",
      "590 592\n"
     ]
    }
   ],
   "source": [
    "fp1 = open(\"file1.txt\",\"r\")\n",
    "fp2 = open(\"file2.txt\",\"r\")\n",
    "fp3 = open(\"file3.txt\",\"w\")\n",
    "\n",
    "fp1_fl = fp1.readline().split(\" \") \n",
    "fp2_fl = fp2.readline().split(\" \")\n",
    "\n",
    "print(fp1_fl)\n",
    "print(fp2_fl)\n",
    "\n",
    "pep_file1 = 0\n",
    "pep_file2 = 0\n",
    "\n",
    "for value1,value2 in zip(fp1_fl,fp2_fl):\n",
    "    if pep_file1 !=0 and pep_file2 !=0:\n",
    "        break\n",
    "        \n",
    "    if value1.isdigit():\n",
    "        pep_file1 = int(value1)\n",
    "    \n",
    "    if value2.isdigit():\n",
    "        pep_file2 = int(value2)\n",
    "\n",
    "print(pep_file1,pep_file2)\n",
    "\n",
    "fp1.seek(0)\n",
    "fp2.seek(0)\n",
    "\n",
    "file1_content = fp1.read()\n",
    "file2_content = fp2.read()\n",
    "\n",
    "if pep_file1 < pep_file2:\n",
    "    data = \"{} \\n\\n{}\".format(file1_content,file2_content)\n",
    "else:\n",
    "    data = \"{} \\n\\n{}\".format(file2_content,file1_content)\n",
    "\n",
    "fp3.write(data)\n",
    "\n",
    "fp1.close()\n",
    "fp2.close()\n",
    "fp3.close()"
   ]
  }
 ],
 "metadata": {
  "kernelspec": {
   "display_name": "Python 3",
   "language": "python",
   "name": "python3"
  },
  "language_info": {
   "codemirror_mode": {
    "name": "ipython",
    "version": 3
   },
   "file_extension": ".py",
   "mimetype": "text/x-python",
   "name": "python",
   "nbconvert_exporter": "python",
   "pygments_lexer": "ipython3",
   "version": "3.6.5"
  }
 },
 "nbformat": 4,
 "nbformat_minor": 2
}
