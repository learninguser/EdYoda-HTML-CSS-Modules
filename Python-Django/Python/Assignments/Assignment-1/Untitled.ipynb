{
 "cells": [
  {
   "cell_type": "markdown",
   "metadata": {},
   "source": [
    "# Assignment -1"
   ]
  },
  {
   "cell_type": "markdown",
   "metadata": {},
   "source": [
    "## Question: 1"
   ]
  },
  {
   "cell_type": "markdown",
   "metadata": {},
   "source": [
    "1. In the pre-smartphone era,each number key is assigned a subset of the alphabet {a,b,…,z}.\n",
    "\n",
    "- 2 is assigned {a,b,c},\n",
    "\n",
    "- 3 is assigned {d,e,f}\n",
    "\n",
    "- 4 is assigned {g,h,i}\n",
    "\n",
    "- 5 is assigned {j,k,l}\n",
    "\n",
    "- 6 is assigned {m,n,o}\n",
    "\n",
    "- 7 is assigned {p,q,r,s}\n",
    "\n",
    "- 8 is assigned {t,u,v}\n",
    "\n",
    "- 9 is assigned {w,x,y,z}\n",
    "\n",
    "Write a function numbers_to_chars() to find the characters generated using numbers.\n",
    "\n",
    "sample input: 9999335533\n",
    "\n",
    "sample output: \"zeke\""
   ]
  },
  {
   "cell_type": "code",
   "execution_count": 17,
   "metadata": {},
   "outputs": [],
   "source": [
    "def question_first_solution(input_seq):\n",
    "    def splitterz(txt):\n",
    "        return (''.join(x + ('' if x == nxt else ', ') \n",
    "                for x, nxt in zip(txt, txt[1:] + txt[-1])))\n",
    "\n",
    "\n",
    "    digit_mapping = {\n",
    "            '2': ['a', 'b', 'c'],\n",
    "            '3': ['d', 'e', 'f'],\n",
    "            '4': ['g', 'h', 'i'],\n",
    "            '5': ['j', 'k', 'l'],\n",
    "            '6': ['m', 'n', 'o'],\n",
    "            '7': ['p', 'q', 'r', 's'],\n",
    "            '8': ['t', 'u', 'v'],\n",
    "            '9': ['w', 'x', 'y', 'z'],\n",
    "        }\n",
    "\n",
    "    split_text = splitterz(str(input_seq))\n",
    "    split_text = split_text.split(',')\n",
    "\n",
    "    decoded = ''\n",
    "\n",
    "    for idx, value in enumerate(split_text):\n",
    "        val = list(set(value.strip()))\n",
    "        possibilites = digit_mapping[val[0]]\n",
    "        if len(value.strip()) > len(possibilites):\n",
    "            diff = abs(len(value.strip()) - len(possibilites)) - 1\n",
    "            decoded += possibilites[diff]\n",
    "        else:\n",
    "            decoded += possibilites[len(split_text[idx].strip()) - 1]\n",
    "\n",
    "    print(decoded)"
   ]
  },
  {
   "cell_type": "code",
   "execution_count": 19,
   "metadata": {},
   "outputs": [
    {
     "name": "stdout",
     "output_type": "stream",
     "text": [
      "testing\n"
     ]
    }
   ],
   "source": [
    "question_first_solution(83377778444664)"
   ]
  },
  {
   "cell_type": "code",
   "execution_count": 9,
   "metadata": {},
   "outputs": [],
   "source": [
    "sample_str = \"\"\"\n",
    "#Linear search implementation\n",
    "#Takes list and a key as input and returns True or False as answer\n",
    "def linear_search(l,key):\n",
    "for value in l:\n",
    "if key == value:\n",
    "return True #Return True is key exist\n",
    "else:\n",
    "return False #Return False if key does not exist\n",
    "\n",
    "l = [100,200,300,400,500,600]\n",
    "key = 500\n",
    "result = linear_search(l,key)\n",
    "print(result)\n",
    "\"\"\""
   ]
  },
  {
   "cell_type": "code",
   "execution_count": 13,
   "metadata": {},
   "outputs": [
    {
     "name": "stdout",
     "output_type": "stream",
     "text": [
      "['', '#Linear search implementation', '#Takes list and a key as input and returns True or False as answer', 'def linear_search(l,key):', 'for value in l:', 'if key == value:', 'return True #Return True is key exist', 'else:', 'return False #Return False if key does not exist', '', 'l = [100,200,300,400,500,600]', 'key = 500', 'result = linear_search(l,key)', 'print(result)', '']\n"
     ]
    }
   ],
   "source": [
    "str_split = sample_str.split('\\n')\n",
    "print(str_split)"
   ]
  },
  {
   "cell_type": "code",
   "execution_count": 15,
   "metadata": {},
   "outputs": [
    {
     "name": "stdout",
     "output_type": "stream",
     "text": [
      "10\n"
     ]
    }
   ],
   "source": [
    "count = 0\n",
    "str_split = sample_str.split('\\n')\n",
    "for idx, value in enumerate(str_split):\n",
    "    if value == '' or value.startswith('#'):\n",
    "        continue\n",
    "    else:\n",
    "        count += 1\n",
    "print(count)"
   ]
  },
  {
   "cell_type": "code",
   "execution_count": 22,
   "metadata": {},
   "outputs": [
    {
     "name": "stdout",
     "output_type": "stream",
     "text": [
      "{[]{()}} - Balanced\n"
     ]
    }
   ],
   "source": [
    "def check(expression): \n",
    "      \n",
    "    open_tup = tuple('({[') \n",
    "    close_tup = tuple(')}]') \n",
    "    map = dict(zip(open_tup, close_tup)) \n",
    "    queue = [] \n",
    "  \n",
    "    for i in expression: \n",
    "        if i in open_tup: \n",
    "            queue.append(map[i]) \n",
    "        elif i in close_tup: \n",
    "            if not queue or i != queue.pop(): \n",
    "                return \"Unbalanced\"\n",
    "    return \"Balanced\"\n",
    "  \n",
    "# Driver code \n",
    "string = \"{[]{()}}\"\n",
    "print(string, \"-\", check(string)) "
   ]
  }
 ],
 "metadata": {
  "kernelspec": {
   "display_name": "Python 3",
   "language": "python",
   "name": "python3"
  },
  "language_info": {
   "codemirror_mode": {
    "name": "ipython",
    "version": 3
   },
   "file_extension": ".py",
   "mimetype": "text/x-python",
   "name": "python",
   "nbconvert_exporter": "python",
   "pygments_lexer": "ipython3",
   "version": "3.7.6"
  }
 },
 "nbformat": 4,
 "nbformat_minor": 4
}
