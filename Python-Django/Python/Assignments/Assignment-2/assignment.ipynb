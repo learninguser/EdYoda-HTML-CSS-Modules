{
 "cells": [
  {
   "cell_type": "markdown",
   "metadata": {},
   "source": [
    "### 1. Create a Time class and initialize it with hours and minutes.\n",
    "1. Make a method addTime which should take two time object and add them. E.g.- (2 hour and 50 min)+(1 hr and 20 min) is (4 hr and 10 min)\n",
    "2. Make a method displayTime which should print the time.\n",
    "\n",
    "Input: Time(2, 50), Time(1, 20)\n",
    "\n",
    "Output: '4:10'"
   ]
  },
  {
   "cell_type": "code",
   "execution_count": 42,
   "metadata": {
    "scrolled": false
   },
   "outputs": [],
   "source": [
    "# don't change any function name write you all code inside the function only for every question solution and return you output as mentioned in problem statement.\n",
    "\n",
    "from datetime import timedelta, datetime\n",
    "\n",
    "# question_first_solution\n",
    "class Time():\n",
    "    def __init__(self, hours, mins):\n",
    "        self.hours = hours\n",
    "        self.mins = mins\n",
    "        \n",
    "    def addTime(t1, t2):\n",
    "        t3 = Time(0, 0)\n",
    "        a = datetime(year = 1, month = 1, day = 1, hour = t1.hours, minute = t1.mins)\n",
    "        c = a + timedelta(minutes = t2.hours * 60 + t2.mins)\n",
    "        t3.hours = c.hour\n",
    "        t3.mins = c.minute\n",
    "        return t3\n",
    "    \n",
    "    def displayTime(self):\n",
    "        return \"{0}:{1}\".format(self.hours, self.mins)"
   ]
  },
  {
   "cell_type": "markdown",
   "metadata": {},
   "source": [
    "#### 2. Write a Python program to implement pow(x, n).\n",
    "\n",
    "Input : 2, 2\n",
    "\n",
    "Output : 4"
   ]
  },
  {
   "cell_type": "code",
   "execution_count": 2,
   "metadata": {},
   "outputs": [],
   "source": [
    "class Pow():\n",
    "   def pow(self, x, n):\n",
    "        return x ** n"
   ]
  },
  {
   "cell_type": "markdown",
   "metadata": {},
   "source": [
    "#### 3. write a python program to reverse a given string\n",
    "\n",
    "Input : 'Edyoda'\n",
    "\n",
    "Output : 'adoydE'"
   ]
  },
  {
   "cell_type": "code",
   "execution_count": 3,
   "metadata": {},
   "outputs": [],
   "source": [
    "class Reverse:\n",
    "    def reverse_words(self, s):\n",
    "        return s[::-1]"
   ]
  },
  {
   "cell_type": "markdown",
   "metadata": {},
   "source": [
    "#### 4. Write a Python program to find validity of a string of parentheses, '(', ')', '{', '}', '[' and ']. These brackets must be close in the correct order,\n",
    "for example \"()\" and \"()[]{}\" are valid but \"[)\", \"({[)]\" and \"{{{\" are invalid.\n",
    "\n",
    "Input : \"{[}(()\"\n",
    "\n",
    "Output : False"
   ]
  },
  {
   "cell_type": "code",
   "execution_count": 4,
   "metadata": {},
   "outputs": [],
   "source": [
    "class Parantheses:\n",
    "   def is_valid_parenthese(self, str1):\n",
    "        open_tup = tuple('({[') \n",
    "        close_tup = tuple(')}]') \n",
    "        map = dict(zip(open_tup, close_tup)) \n",
    "        queue = [] \n",
    "\n",
    "        for i in str1: \n",
    "            if i in open_tup: \n",
    "                queue.append(map[i]) \n",
    "            elif i in close_tup: \n",
    "                if not queue or i != queue.pop(): \n",
    "                    return False\n",
    "        return True"
   ]
  },
  {
   "cell_type": "markdown",
   "metadata": {},
   "source": [
    "#### 5. Write a Python program to convert an integer to a roman numeral.\n",
    "Input : 4000\n",
    "\n",
    "Output : \"MMMM\" "
   ]
  },
  {
   "cell_type": "code",
   "execution_count": 6,
   "metadata": {},
   "outputs": [],
   "source": [
    "class Int_solution:\n",
    "    def int_to_Roman(self, num):\n",
    "        val = [\n",
    "            1000, 900, 500, 400,\n",
    "            100, 90, 50, 40,\n",
    "            10, 9, 5, 4,\n",
    "            1\n",
    "        ]\n",
    "        syb = [\n",
    "            \"M\", \"CM\", \"D\", \"CD\",\n",
    "            \"C\", \"XC\", \"L\", \"XL\",\n",
    "            \"X\", \"IX\", \"V\", \"IV\",\n",
    "            \"I\"\n",
    "        ]\n",
    "\n",
    "        roman_num = ''\n",
    "        i = 0\n",
    "        while  num > 0:\n",
    "            for _ in range(num // val[i]):\n",
    "                roman_num += syb[i]\n",
    "                num -= val[i]\n",
    "            i += 1\n",
    "        return roman_num"
   ]
  },
  {
   "cell_type": "markdown",
   "metadata": {},
   "source": [
    "#### 6. Write a Python program to get all possible unique subsets from a set of distinct integers.\n",
    "Input: [0,1]\n",
    "\n",
    "Output: [[], [1], [0], [0, 1]]"
   ]
  },
  {
   "cell_type": "code",
   "execution_count": 7,
   "metadata": {},
   "outputs": [],
   "source": [
    "class Subset:\n",
    "    def sub_sets(self, sset):\n",
    "        return self.subsetsRecur([], sorted(sset))\n",
    "    \n",
    "    def subsetsRecur(self, current, sset):\n",
    "        if sset:\n",
    "            return self.subsetsRecur(current, sset[1:]) + self.subsetsRecur(current + [sset[0]], sset[1:])\n",
    "        return [current]"
   ]
  },
  {
   "cell_type": "markdown",
   "metadata": {},
   "source": [
    "#### 7. Write a Python program to find a pair of elements (indices of the two numbers) from a given array whose sum equals a specific target number.\n",
    "Input: (5,7,6,8,2,1),10\n",
    "\n",
    "Output: (3,4)"
   ]
  },
  {
   "cell_type": "code",
   "execution_count": 8,
   "metadata": {},
   "outputs": [],
   "source": [
    "class Sum:\n",
    "    def twoSum(self, nums, target):\n",
    "        temp = [val for val in nums if val <= target]\n",
    "        indices = []\n",
    "\n",
    "        for idx in range(len(temp)):\n",
    "            for idy in range(idx + 1, len(temp)):\n",
    "                tI = []\n",
    "                if temp[idx] + temp[idy] == target:\n",
    "                    tI.extend([idx, idy])\n",
    "                    indices.append(tuple(tI))\n",
    "\n",
    "        indices = sorted(indices, key=lambda x: x[1])\n",
    "        return indices[0]"
   ]
  },
  {
   "cell_type": "markdown",
   "metadata": {},
   "source": [
    "#### 8. Write a Python program to find the three elements that sum to zero from a set (array) of n real numbers.\n",
    "Input: [-25, -10, -7, -3, 2, 4, 8, 10]\n",
    "\n",
    "Output: [[-10, 2, 8], [-7, -3, 10]]"
   ]
  },
  {
   "cell_type": "code",
   "execution_count": 9,
   "metadata": {},
   "outputs": [],
   "source": [
    "class SumEqualsZero:\n",
    "    def threeSum(self, nums):\n",
    "        ans = []\n",
    "        for idx in range(len(nums)):\n",
    "            for idy in range(idx + 1 , len(nums)):\n",
    "                for idz in range(idy + 1, len(nums)):\n",
    "                    if nums[idx] + nums[idy] + nums[idz] == 0:\n",
    "                        ans.append([nums[idx], nums[idy], nums[idz]])\n",
    "        return ans"
   ]
  }
 ],
 "metadata": {
  "kernelspec": {
   "display_name": "Python 3",
   "language": "python",
   "name": "python3"
  },
  "language_info": {
   "codemirror_mode": {
    "name": "ipython",
    "version": 3
   },
   "file_extension": ".py",
   "mimetype": "text/x-python",
   "name": "python",
   "nbconvert_exporter": "python",
   "pygments_lexer": "ipython3",
   "version": "3.6.9"
  }
 },
 "nbformat": 4,
 "nbformat_minor": 4
}
